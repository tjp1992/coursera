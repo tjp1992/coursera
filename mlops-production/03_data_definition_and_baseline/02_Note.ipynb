{
 "cells": [
  {
   "cell_type": "markdown",
   "metadata": {},
   "source": [
    "### Scoping\n",
    "\n",
    "Before jumping into a project, it is important to follow certain sequence of checklist before jumping into a project. By following the scoping process, the problem can be more articulately defined, and thus, \n",
    "\n",
    "![scoping](./pics/scoping.png)"
   ]
  }
 ],
 "metadata": {
  "language_info": {
   "name": "python"
  },
  "orig_nbformat": 4
 },
 "nbformat": 4,
 "nbformat_minor": 2
}
