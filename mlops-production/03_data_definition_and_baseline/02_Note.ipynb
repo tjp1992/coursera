{
 "cells": [
  {
   "cell_type": "markdown",
   "metadata": {},
   "source": [
    "### Scoping\n",
    "\n",
    "Before jumping into a project, it is important to follow certain sequence of checklist before jumping into a project. By following the scoping process, the problem can be more articulately defined, and thus, making it easier to come up with the solution. Image below demonstrates the process to carry out efficient scoping, and should be taken into consideration before starting any project.\n",
    "\n",
    "![scoping](./pics/scoping.png)"
   ]
  },
  {
   "cell_type": "markdown",
   "metadata": {},
   "source": [
    "### Additional Resources\n",
    "\n",
    "- [Label Ambiguitiy](https://csgaobb.github.io/Projects/DLDL.html)\n",
    "- [Comparing model to HLP](https://arxiv.org/pdf/1706.06969.pdf)\n",
    "- [Data pipelines](https://cs230.stanford.edu/blog/datapipeline/)\n",
    "- [Data Lineage](https://blog.tensorflow.org/2021/01/ml-metadata-version-control-for-ml.html)\n",
    "- [MLops](https://blog.tensorflow.org/2021/01/ml-metadata-version-control-for-ml.html)\n"
   ]
  },
  {
   "cell_type": "markdown",
   "metadata": {},
   "source": []
  }
 ],
 "metadata": {
  "kernelspec": {
   "display_name": "Python 3.8.12 64-bit ('shims')",
   "language": "python",
   "name": "python3"
  },
  "language_info": {
   "name": "python",
   "version": "3.8.12"
  },
  "orig_nbformat": 4,
  "vscode": {
   "interpreter": {
    "hash": "82f1088fa484f5b54e382e6f3ab804b0f8e7491f37ff80b3b36194223562fb4e"
   }
  }
 },
 "nbformat": 4,
 "nbformat_minor": 2
}
