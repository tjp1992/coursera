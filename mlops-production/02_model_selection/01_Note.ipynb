{
 "cells": [
  {
   "cell_type": "markdown",
   "metadata": {},
   "source": [
    "# Week2\n",
    "\n",
    "Following Notebook Summarizes the [Week 2](https://www.coursera.org/learn/machine-learning/home/week/2) of [Machine Learning](https://www.coursera.org/specializations/machine-learning-engineering-for-production-mlops?)\n",
    "\n",
    "**Index**\n",
    "- [Model Selection](#model-selection)\n",
    "  - [Challenges in model development](#challenges-in-model-development)\n"
   ]
  },
  {
   "cell_type": "markdown",
   "metadata": {},
   "source": [
    "### Model Selection\n",
    "\n",
    "Model selection comes down to two approaches *Model-Centric AI Development* and *Data-Centric AI Development*, but for practical approach for model selection, it is more practical to take *Data-Centric AI Development* where the goal is to feed the model quality data.\n",
    "\n",
    "Quality Data can be fed to the model, not by collecting more and more data, but to improve upon the current data on hand."
   ]
  },
  {
   "cell_type": "markdown",
   "metadata": {},
   "source": [
    "### Challenges in model development\n",
    "\n",
    "The following procedure should be used as standard when developing a new model.\n",
    "\n",
    "1. Doing well on training set.(This step is imperitive before moving on to the next)\n",
    "2. Doing well on dev/test sets.\n",
    "3. Doing well on business metrics/projects goals.\n",
    "\n",
    "Low average test set error does not indicate that the model will perform well in production.\n",
    "\n",
    "The following are some of the key challenges that are common when developing a model.\n",
    "- Performance on disproportionately important examples\n",
    "  1. Web search example(Informational and transactional queries, Navigational queries)\n",
    "- Performance on key slices of the dataset\n",
    "  1. Prevent discriminations on certain attributes(protected attributes) that may raise questions concerning fairness.\n",
    "  2. Be careful to treat fairly all major user, retailer and product categories \n",
    "- Rare Classes\n",
    "  1. Skewed data distribution(Certain classes that are less than 1% of the training set)\n",
    "  2. "
   ]
  },
  {
   "cell_type": "markdown",
   "metadata": {},
   "source": []
  }
 ],
 "metadata": {
  "kernelspec": {
   "display_name": "Python 3.8.12 64-bit ('shims')",
   "language": "python",
   "name": "python3"
  },
  "language_info": {
   "name": "python",
   "version": "3.8.12"
  },
  "orig_nbformat": 4,
  "vscode": {
   "interpreter": {
    "hash": "82f1088fa484f5b54e382e6f3ab804b0f8e7491f37ff80b3b36194223562fb4e"
   }
  }
 },
 "nbformat": 4,
 "nbformat_minor": 2
}
