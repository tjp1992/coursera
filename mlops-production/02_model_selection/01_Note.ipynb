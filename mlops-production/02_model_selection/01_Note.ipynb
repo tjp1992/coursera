{
 "cells": [
  {
   "cell_type": "markdown",
   "metadata": {},
   "source": [
    "# Week2\n",
    "\n",
    "Following Notebook Summarizes the [Week 2](https://www.coursera.org/learn/machine-learning/home/week/2) of [Machine Learning](https://www.coursera.org/specializations/machine-learning-engineering-for-production-mlops?)\n",
    "\n",
    "**Index**\n",
    "- [Model Selection](#model-selection)\n",
    "  - [Challenges in model development](#challenges-in-model-development)\n",
    "- [Baseline establishment](#baseline)\n",
    "- [Error Analysis](#error-analysis)\n",
    "- [Skewed Datasets](#skewed-datasets)\n",
    "- [Data/Model Centric Development](#datamodel-centric-ai-development)"
   ]
  },
  {
   "cell_type": "markdown",
   "metadata": {},
   "source": [
    "### Model Selection\n",
    "\n",
    "Model selection comes down to two approaches *Model-Centric AI Development* and *Data-Centric AI Development*, but for practical approach for model selection, it is more practical to take *Data-Centric AI Development* where the goal is to feed the model quality data.\n",
    "\n",
    "Quality Data can be fed to the model, not by collecting more and more data, but to improve upon the current data on hand."
   ]
  },
  {
   "cell_type": "markdown",
   "metadata": {},
   "source": [
    "### Challenges in model development\n",
    "\n",
    "The following procedure should be used as standard when developing a new model.\n",
    "\n",
    "1. Doing well on training set.(This step is imperitive before moving on to the next)\n",
    "2. Doing well on dev/test sets.\n",
    "3. Doing well on business metrics/projects goals.\n",
    "\n",
    "**Low average test set error does not indicate that the model will perform well in production**\n",
    "\n",
    "The following are some of the key challenges that are common when developing a model.\n",
    "- Performance on disproportionately important examples\n",
    "  1. Web search example(Informational and transactional queries, Navigational queries)\n",
    "- Performance on key slices of the dataset\n",
    "  1. Prevent discriminations on certain attributes(protected attributes) that may raise questions concerning fairness.\n",
    "  2. Be careful to treat fairly all major user, retailer and product categories \n",
    "- Rare Classes\n",
    "  1. Skewed data distribution(Certain classes that are less than 1% of the training set)\n",
    "![rare-class](./pics/rare-class.png)\n",
    "\n"
   ]
  },
  {
   "cell_type": "markdown",
   "metadata": {},
   "source": [
    "### Baseline\n",
    "\n",
    "It is important to establish a baseline for which the model will be compared to. For the following example, *speech recognition* will be used.\n",
    "\n",
    "When deciding on which features to improve the performance, voice recognition is a very good example, as humans are best adapted to voice recognition. In the below example, it would seem at first glance, that improving model's performance on examples with *Low Bandwidth*, but when comparing with *Human Level Performance(HLP)*, it is much viable to improve the performance on examples with *Car Noise*.\n",
    "\n",
    "![human level performance](./pics/hlp.png)\n",
    "\n",
    "**Unstructured/Structured Data**\n",
    "\n",
    "*Unstructured Data* indicates data that are in general easily interpreted by huamans. This includes, Image, Audio and Text.\n",
    "\n",
    "*Structured Data* indicates data that are in a spreadsheet data or a robust data. In general, human performance is not as high compared to that of *unstructured data*\n",
    "\n",
    "![data-types](./pics/data-types.png)\n",
    "\n",
    "**Ways to establish baseline**\n",
    "\n",
    "- Human Level Performance(HLP)\n",
    "- Literature search for state-of-the-art/open source\n",
    "- Quick-and-dirty implementation\n",
    "- Performance of older system\n",
    "\n",
    "Baseline helps to indicate what might be possible. In some cases(such as HLP) it also gives a sense of what is ireeducible error/Bayes error."
   ]
  },
  {
   "cell_type": "markdown",
   "metadata": {},
   "source": [
    "### Error Analysis\n",
    "\n",
    "Modeling for Machine learning is a highly iterative process, that starts with building a model, training a model and doing error analysis.\n",
    "\n",
    "**In the following section, speech recognition is used as example to demonstrate the importance of *Error Analysis*.**\n",
    "\n",
    "In speech recognition, creating a spreadsheet with different tags to label each example can bring insight to which category can bring forth the most result when increasing the performance of the model.\n",
    "\n",
    "![spreadhseet](./pics/spreadsheet.png)\n",
    "\n",
    "This process is very important in prioritizing which aspect of the model to imrpove upon. Having a baseline as comparison and also labeling the data will give a more clear insight into which aspect of the model to improve upon. \n",
    "\n",
    "![prioritizing](./pics/percentage.png)\n",
    "\n",
    "**Summary**\n",
    "\n",
    "Deciding on most important categories to work on based on:\n",
    "- How much room for imrpovement there is.\n",
    "- How frequently that category appears.\n",
    "- How easy is to improve accuracy in that category.\n",
    "- How important it is to imrpove in that category.\n"
   ]
  },
  {
   "cell_type": "markdown",
   "metadata": {},
   "source": [
    "### Skewed Datasets\n",
    "\n",
    "When training a model, datasets are not always balanced, and in majority of cases are skewed. In such cases, it is better to use **Confusion Matrix** to use as a matrix to improve models.\n",
    "\n",
    "$$\n",
    "Precision = \\frac{TP}{TP+FP}\n",
    "$$\n",
    "$$\n",
    "Recall = \\frac{TP}{TP+FN}\n",
    "$$\n",
    "$$\n",
    "F1 = \\frac{2}{\\frac{1}{Precision}+\\frac{1}{Recall}}\n",
    "$$"
   ]
  },
  {
   "cell_type": "markdown",
   "metadata": {},
   "source": [
    "### Data/Model Centric AI Development\n",
    "\n",
    "As mentioned above, there are two different approaches when deciding on which models to use. "
   ]
  }
 ],
 "metadata": {
  "kernelspec": {
   "display_name": "Python 3.8.12 64-bit ('shims')",
   "language": "python",
   "name": "python3"
  },
  "language_info": {
   "name": "python",
   "version": "3.8.12"
  },
  "orig_nbformat": 4,
  "vscode": {
   "interpreter": {
    "hash": "82f1088fa484f5b54e382e6f3ab804b0f8e7491f37ff80b3b36194223562fb4e"
   }
  }
 },
 "nbformat": 4,
 "nbformat_minor": 2
}
