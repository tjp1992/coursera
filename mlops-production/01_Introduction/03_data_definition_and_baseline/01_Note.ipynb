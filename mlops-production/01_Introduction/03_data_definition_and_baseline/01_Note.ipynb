{
 "cells": [
  {
   "cell_type": "markdown",
   "metadata": {},
   "source": [
    "# Week3\n",
    "\n",
    "Following Notebook Summarizes the [Week 3](https://www.coursera.org/learn/machine-learning/home/week/3) of [Machine Learning](https://www.coursera.org/specializations/machine-learning-engineering-for-production-mlops?)\n",
    "\n",
    "**Index**\n",
    "- [Data Definition](#data-definition)\n",
    "- [Human Level Performance](#human-level-performance)\n",
    "- [Data Collection](#data-collection)\n",
    "- [Data Pipeline](#data-pipelines)"
   ]
  },
  {
   "cell_type": "markdown",
   "metadata": {},
   "source": [
    "### Data Definition\n",
    "\n",
    "*Data definition* is essential when it comes to training a model, as the input data needs to be *quality data* for the model to train from. *Data Ambiguity* is an issue that needs to be addressed, in order for the model to tackle the problem at hand.\n",
    "\n",
    "Data labeling is paramount when it comes to training a model. A few datasets that are clean and labeled properly will work equally or sometimes better than cases where there are more than a million datasets, but is not properly labeled or the dataset is rather noisy."
   ]
  },
  {
   "cell_type": "markdown",
   "metadata": {},
   "source": [
    "### Human Level Performance\n",
    "\n",
    "Human level performance can be an indicator for bayes error/irreducible error, mostly used for *unstructured data*. This is important, as it sets a baseline for the model to compare to, allowing a more efficient *error analysis* prioritization.\n",
    "\n",
    "However, HLP(Human Level Performance) cannot always be the baseline for the model to compare to, as the HLP is very subjective, and the labeling is done by Human intervention. "
   ]
  },
  {
   "cell_type": "markdown",
   "metadata": {},
   "source": [
    "### Data Collection\n",
    "\n",
    "Machine learning is a very *iterative* process, and thus, it is important to set a goal for how long to spend on data collection. If the training process and error analysis takes approximately 4 days in total, it would be unreasonable to carry out data collection for 30 days. \n",
    "\n",
    "**Provenance and Lineage**\n",
    "\n",
    "*Provenance* indicates the source from which the data has been collected from.\n",
    "\n",
    "*Lineage* indicates the sequence in which the data has been through. This couse include the pipeline or the model the data has been fed through for the preprocessing process."
   ]
  },
  {
   "cell_type": "markdown",
   "metadata": {},
   "source": []
  }
 ],
 "metadata": {
  "kernelspec": {
   "display_name": "Python 3.8.12 64-bit ('shims')",
   "language": "python",
   "name": "python3"
  },
  "language_info": {
   "name": "python",
   "version": "3.8.12"
  },
  "orig_nbformat": 4,
  "vscode": {
   "interpreter": {
    "hash": "82f1088fa484f5b54e382e6f3ab804b0f8e7491f37ff80b3b36194223562fb4e"
   }
  }
 },
 "nbformat": 4,
 "nbformat_minor": 2
}
