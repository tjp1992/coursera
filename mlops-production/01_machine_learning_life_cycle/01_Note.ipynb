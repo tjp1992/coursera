{
 "cells": [
  {
   "cell_type": "markdown",
   "metadata": {},
   "source": [
    "# Week 1\n",
    "\n",
    "Following Notebook Summarizes the [Week 2](https://www.coursera.org/learn/machine-learning/home/week/2) of [Machine Learning](https://www.coursera.org/specializations/machine-learning-engineering-for-production-mlops?)\n",
    "\n",
    "**Index**\n",
    "- [Project Life Cycle](#project-life-cycle)\n",
    "- []"
   ]
  },
  {
   "cell_type": "markdown",
   "metadata": {},
   "source": [
    "### Project Life Cycle\n",
    "\n",
    "- Scoping\n",
    "  - Define project\n",
    "- Data\n",
    "  - Define data and establish baseline\n",
    "  - Label and Organize Data\n",
    "- Modeling\n",
    "  - select and train model\n",
    "  - perform error analysis\n",
    "- Deployment\n",
    "  - Deploy in Production\n",
    "  - Monitor and Maintain System\n",
    "\n",
    "![LifeCycle](./pics/Lifecycle.png)"
   ]
  },
  {
   "cell_type": "markdown",
   "metadata": {},
   "source": [
    "### Scoping\n",
    "\n",
    "Through the life cycle of machine learning, it is important to define the project when scoping the project. \n",
    "This would include the following:\n",
    "- Decide to work on what the problem the model is meant to tackle (i.e. speech recognition)\n",
    "- Decide on Key Metrics\n",
    "  - Accuracy, latency(How long does it take to process), throughput(How many queryies per second)\n",
    "- Estimate Resources and timeline\n",
    "\n",
    "![scoping](pics/scoping.png)"
   ]
  },
  {
   "cell_type": "markdown",
   "metadata": {},
   "source": [
    "### Data\n",
    "\n",
    "Define Data\n",
    "  - is the data labeled consistently?(i.e. speech recognition, depending on the training set's transcription, the model will perform differently)\n",
    "  - How mch silence before/after each clip? (exclusive to speech recognition)\n",
    "  - How mcuh noise do you want?\n",
    "\n",
    "![data](pics/data.png)"
   ]
  },
  {
   "cell_type": "markdown",
   "metadata": {},
   "source": [
    "### Modeling\n",
    "\n",
    "**Select and train model**\n",
    "\n",
    "For modeling it depends on which perspective the model is being built for, is it academic purposes? or Production purposes.\n",
    "\n",
    "The following are the three criterias for building a model:\n",
    "- Code(Algorithm/model)\n",
    "- Hyperparameters\n",
    "- Data (Consistent)\n",
    "\n",
    "For *Academic* purposes it is better to fix the `data` and change the `Code` and `Hyperparameter`\n",
    "\n",
    "For *Production* purpose, it is better to fix the `Code` and fine tune the `Hyperparameter` and `Data`\n",
    "\n",
    "![modeling](pics/Modeling.png)"
   ]
  },
  {
   "cell_type": "markdown",
   "metadata": {},
   "source": [
    "### Deployment\n",
    "\n",
    "Typical implementation of model is deployment is to have a *prediction server* which will take in an *API call* which will then carry out the prediction/forecast and return the result back.\n",
    "\n",
    "![Deployment](pics/Deployment.png)\n",
    "\n",
    "When in production, it is inevitable that *Concept/Data Drift* occurs. *Concept/Data drift* indicating that the *data distribution changes*(i.e. speech recognition model that has been trained on adult voices will not be able to recognize voices of teenagers which has different frequency compared to that of an adult)"
   ]
  },
  {
   "cell_type": "markdown",
   "metadata": {},
   "source": []
  }
 ],
 "metadata": {
  "kernelspec": {
   "display_name": "Python 3.8.12 64-bit ('shims')",
   "language": "python",
   "name": "python3"
  },
  "language_info": {
   "name": "python",
   "version": "3.8.12"
  },
  "orig_nbformat": 4,
  "vscode": {
   "interpreter": {
    "hash": "82f1088fa484f5b54e382e6f3ab804b0f8e7491f37ff80b3b36194223562fb4e"
   }
  }
 },
 "nbformat": 4,
 "nbformat_minor": 2
}
