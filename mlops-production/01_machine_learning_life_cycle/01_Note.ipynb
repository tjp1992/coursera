{
 "cells": [
  {
   "cell_type": "markdown",
   "metadata": {},
   "source": [
    "# Week 1\n",
    "\n",
    "Following Notebook Summarizes the [Week 2](https://www.coursera.org/learn/machine-learning/home/week/2) of [Machine Learning](https://www.coursera.org/specializations/machine-learning-engineering-for-production-mlops?)\n",
    "\n",
    "**Index**\n",
    "- [Project Life Cycle](#project-life-cycle)\n",
    "- []"
   ]
  },
  {
   "cell_type": "markdown",
   "metadata": {},
   "source": [
    "### Project Life Cycle\n",
    "\n",
    "- Scoping\n",
    "  - Define project\n",
    "- Data\n",
    "  - Define data and establish baseline\n",
    "  - Label and Organize Data\n",
    "- Modeling\n",
    "  - select and train model\n",
    "  - perform error analysis\n",
    "- Deployment\n",
    "  - Deploy in Production\n",
    "  - Monitor and Maintain System\n",
    "\n",
    "![LifeCycle](Lifecycle.png)"
   ]
  },
  {
   "cell_type": "markdown",
   "metadata": {},
   "source": [
    "### Scoping\n",
    "\n",
    "Through the life cycle of machine learning, it is important to define the project when scoping the project. \n",
    "This would include the following:\n",
    "- Decide to work on what the problem the model is meant to tackle (i.e. speech recognition)\n",
    "- Decide on Key Metrics\n",
    "  - Accuracy, latency(How long does it take to process), throughput(How many queryies per second)\n",
    "- Estimate Resources and timeline\n"
   ]
  },
  {
   "cell_type": "markdown",
   "metadata": {},
   "source": [
    "### Data\n",
    "\n",
    "Define Data\n",
    "  - is the data labeled consistently?(i.e. speech recognition, depending on the training set's transcription, the model will perform differently)\n",
    "  - How mch silence before/after each clip? (exclusive to speech recognition)\n",
    "  - How mcuh noise do you want?\n"
   ]
  }
 ],
 "metadata": {
  "kernelspec": {
   "display_name": "Python 3.8.12 64-bit ('shims')",
   "language": "python",
   "name": "python3"
  },
  "language_info": {
   "name": "python",
   "version": "3.8.12"
  },
  "orig_nbformat": 4,
  "vscode": {
   "interpreter": {
    "hash": "82f1088fa484f5b54e382e6f3ab804b0f8e7491f37ff80b3b36194223562fb4e"
   }
  }
 },
 "nbformat": 4,
 "nbformat_minor": 2
}
