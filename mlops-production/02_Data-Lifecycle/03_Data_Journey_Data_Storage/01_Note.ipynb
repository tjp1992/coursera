{
 "cells": [
  {
   "cell_type": "markdown",
   "metadata": {},
   "source": [
    "# Week 3\n",
    "\n",
    "Following Notebook Summarizes the [Week 3](https://www.coursera.org/learn/machine-learning-data-lifecycle-in-production/home/week/3) of [Machine Learning](https://www.coursera.org/specializations/machine-learning-engineering-for-production-mlops?)\n",
    "\n",
    "**Index**\n",
    "\n",
    "- []"
   ]
  },
  {
   "cell_type": "markdown",
   "metadata": {},
   "source": [
    "### Metadata (MLMD)\n",
    "\n",
    "Every pipeline produces *artifact* which contains metadata concerning the pipeline, this will include the *Data Source*, *Pipeline Versions*, *Metric Values*, ... etc. This is significant as it allows programmers to debug each stage of pipeline to determine where a bug or an error is occuring.\n",
    "\n"
   ]
  },
  {
   "cell_type": "markdown",
   "metadata": {},
   "source": [
    "*The Following section deals with enterprise solutions for storing data, and as such should be used as a reference for being aware of different data storing solutions*\n",
    "\n",
    "### Feature Stores\n",
    "\n",
    "Feature store is a central repository for storing documented, curated and access controlled features. This means that Feature Stores can be seen as the interface between feature engineering and model development.\n",
    "\n",
    "![img](./pics/feature-store.png)\n",
    "\n",
    "Feature stores contained curated data, indicating that the features have been engineered to be used for training purposes. This expedites the procedure of collecting, and selecting features for modeling purposes.\n",
    "\n",
    "### Data Warehouse\n",
    "\n",
    "Data Warehouse is a solution used in enterprise for large amounts of data.\n",
    "![img](./pics/data-warehouse.png)\n",
    "\n",
    "### Data Lakes\n",
    "\n",
    "Data lakes, very much like Data Warehouse stores large amounts of data, but there are certain elements that differ Data Lakes from Data Warehouses.\n",
    "\n",
    "![img](./pics/data-lakes.png)\n",
    "\n",
    "*Key Points*\n",
    "\n",
    "![img](./pics/key-points.png)"
   ]
  },
  {
   "cell_type": "markdown",
   "metadata": {},
   "source": [
    "Data Versioning:\n",
    "\n",
    "https://dvc.org/\n",
    "\n",
    "https://git-lfs.github.com/\n",
    "\n",
    "ML Metadata:\n",
    "\n",
    "https://www.tensorflow.org/tfx/guide/mlmd#data_model\n",
    "\n",
    "https://www.tensorflow.org/tfx/guide/understanding_custom_components\n",
    "\n",
    "Chicago taxi trips data set: \n",
    "\n",
    "https://data.cityofchicago.org/Transportation/Taxi-Trips/wrvz-psew/data\n",
    "\n",
    "https://archive.ics.uci.edu/ml/datasets/covertype\n",
    "\n",
    "Feast:\n",
    "\n",
    "https://cloud.google.com/blog/products/ai-machine-learning/introducing-feast-an-open-source-feature-store-for-machine-learning\n",
    "\n",
    "https://github.com/feast-dev/feast\n",
    "\n",
    "https://www.gojek.io/blog/feast-bridging-ml-models-and-data\n",
    "\n"
   ]
  },
  {
   "cell_type": "markdown",
   "metadata": {},
   "source": []
  }
 ],
 "metadata": {
  "kernelspec": {
   "display_name": "Python 3.8.12 64-bit ('shims')",
   "language": "python",
   "name": "python3"
  },
  "language_info": {
   "name": "python",
   "version": "3.8.12"
  },
  "orig_nbformat": 4,
  "vscode": {
   "interpreter": {
    "hash": "82f1088fa484f5b54e382e6f3ab804b0f8e7491f37ff80b3b36194223562fb4e"
   }
  }
 },
 "nbformat": 4,
 "nbformat_minor": 2
}
