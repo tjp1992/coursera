{
 "cells": [
  {
   "cell_type": "markdown",
   "metadata": {},
   "source": [
    "# Week 3\n",
    "\n",
    "Following Notebook Summarizes the [Week 3](https://www.coursera.org/learn/machine-learning-data-lifecycle-in-production/home/week/3) of [Machine Learning](https://www.coursera.org/specializations/machine-learning-engineering-for-production-mlops?)\n",
    "\n",
    "**Index**\n",
    "\n",
    "- []"
   ]
  },
  {
   "cell_type": "markdown",
   "metadata": {},
   "source": [
    "### Metadata (MLMD)\n",
    "\n",
    "Every pipeline produces *artifact* which contains metadata concerning the pipeline, this will include the *Data Source*, *Pipeline Versions*, *Metric Values*, ... etc. This is significant as it allows programmers to debug each stage of pipeline to determine where a bug or an error is occuring.\n",
    "\n"
   ]
  },
  {
   "cell_type": "markdown",
   "metadata": {},
   "source": [
    "*The Following section deals with enterprise solutions for storing data, and as such should be used as a reference for being aware of different data storing solutions*\n",
    "\n",
    "### Feature Stores\n",
    "\n",
    "Feature store is a central repository for storing documented, curated and access controlled features. This means that Feature Stores can be seen as the interface between feature engineering and model development.\n",
    "\n",
    "![img](./pics/feature-store.png)\n",
    "\n",
    "### Data Warehouse\n",
    "\n",
    "\n",
    "\n",
    "### Data Lakes"
   ]
  },
  {
   "cell_type": "markdown",
   "metadata": {},
   "source": []
  }
 ],
 "metadata": {
  "kernelspec": {
   "display_name": "Python 3.8.12 64-bit ('shims')",
   "language": "python",
   "name": "python3"
  },
  "language_info": {
   "name": "python",
   "version": "3.8.12"
  },
  "orig_nbformat": 4,
  "vscode": {
   "interpreter": {
    "hash": "82f1088fa484f5b54e382e6f3ab804b0f8e7491f37ff80b3b36194223562fb4e"
   }
  }
 },
 "nbformat": 4,
 "nbformat_minor": 2
}
