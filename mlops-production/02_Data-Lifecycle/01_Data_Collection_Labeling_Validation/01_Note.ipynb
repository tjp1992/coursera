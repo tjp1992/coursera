{
 "cells": [
  {
   "cell_type": "markdown",
   "metadata": {},
   "source": [
    "# Week 1\n",
    "\n",
    "Following Notebook Summarizes the [Week 1](https://www.coursera.org/learn/machine-learning-data-lifecycle-in-production/home/week/1) of [Machine Learning](https://www.coursera.org/specializations/machine-learning-engineering-for-production-mlops?)\n",
    "\n",
    "**Index**\n",
    "\n",
    "- [ML-Pipelines](#pipelines)\n",
    "- [Data](#data)\n"
   ]
  },
  {
   "cell_type": "markdown",
   "metadata": {},
   "source": [
    "  ### Pipelines\n",
    "\n",
    "  Pipeline addresses the key challenges in production ML-cycle. Machine learning pipeline allows automating, monitoring and maintaining model training deployment.\n",
    "\n",
    "  MLOps follows an architecture that is most commonly used in MLOps and are known as [Directed Acyclic Graph (DAG)](https://en.wikipedia.org/wiki/Directed_acyclic_graph)\n",
    "\n",
    "  ![DAGs](./pics/DAGs.png)\n",
    "\n",
    "  The following graph demonstrates the DAGs, and there are many frameworks that allow expedition of DAGs architecture, and some of them are the following: [Airflow](https://airflow-tutorial.readthedocs.io/en/latest/airflow-intro.html), [Argo](https://argoproj.github.io/), [Celery](https://docs.celeryq.dev/en/stable/), [Luigi](https://luigi.readthedocs.io/en/stable/), [Kubeflow](https://www.kubeflow.org/)\n",
    "\n",
    "  However, in the following exercises to come, we will be using [TensorFlow Extended(TFX)](https://www.tensorflow.org/tfx/). It is an end-to-end platform for deploying production ML pipelines. Specifically, *TFX pipeline is a sequence of scalable components that can handle large volumes of data.*\n",
    "\n",
    "  ![TFX](./pics/TFXComponents.png)"
   ]
  },
  {
   "cell_type": "markdown",
   "metadata": {},
   "source": [
    "### Data\n",
    "\n"
   ]
  }
 ],
 "metadata": {
  "kernelspec": {
   "display_name": "Python 3.8.12 64-bit ('shims')",
   "language": "python",
   "name": "python3"
  },
  "language_info": {
   "name": "python",
   "version": "3.8.12"
  },
  "orig_nbformat": 4,
  "vscode": {
   "interpreter": {
    "hash": "82f1088fa484f5b54e382e6f3ab804b0f8e7491f37ff80b3b36194223562fb4e"
   }
  }
 },
 "nbformat": 4,
 "nbformat_minor": 2
}
