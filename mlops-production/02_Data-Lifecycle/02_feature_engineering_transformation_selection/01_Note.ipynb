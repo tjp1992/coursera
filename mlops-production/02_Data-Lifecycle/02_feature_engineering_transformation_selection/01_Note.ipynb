{
 "cells": [
  {
   "cell_type": "markdown",
   "metadata": {},
   "source": [
    "# Week 2\n",
    "\n",
    "Following Notebook Summarizes the [Week 2](https://www.coursera.org/learn/machine-learning-data-lifecycle-in-production/home/week/2) of [Machine Learning](https://www.coursera.org/specializations/machine-learning-engineering-for-production-mlops?)\n",
    "\n",
    "**Index**\n",
    "\n",
    "- [Preprocessing](#preprocessing-in-production)\n",
    "- [Feature Engineering](#feature-engineering-techniques)\n",
    "- [Preprocessing as Scale](#preprocessing-data-at-scale)"
   ]
  },
  {
   "cell_type": "markdown",
   "metadata": {},
   "source": [
    "### Preprocessing in Production\n",
    "\n",
    "Preprocessing for feature engineering is a vital process to reduce the feature dimensions, and thus reducing the cost of the model(CPU, GPU). *Data preprocessing in essence is transformation of raw data into a clean and training-ready dataset*\n"
   ]
  },
  {
   "cell_type": "markdown",
   "metadata": {},
   "source": [
    "### Feature Engineering Techniques\n",
    "\n",
    "There are many techniques for *Feature Engineering*, some of them are as following:\n",
    "\n",
    "- Numerical\n",
    "  - Normalization and Standardization\n",
    "  - Scaling\n",
    "- Grouping\n",
    "  - Bucketizing/Binning\n",
    "  - Bag of Words\n",
    "\n",
    "**Scaling**\n",
    "\n",
    "Scaling converts values from their natural range into a prescribed range\n",
    "\n",
    "\n",
    "$$\n",
    "  scaled(x) = \\frac{x-\\mu}{\\mu}\n",
    "$$\n",
    "\n",
    "*Benefits*\n",
    "\n",
    "- Helps Neural Nets converge faster\n",
    "- Do away with NaN errors during training\n",
    "- For each feature, the model learns the right weigths\n",
    "\n",
    "**Nomarlization**\n",
    "\n",
    "Normalization sets numerical values to range between [0,1] which allows faster computation, but requires the datasets to be not [Gaussian](https://en.wikipedia.org/wiki/Normal_distribution)(Indicating that the dataset is not Normally Distributed)  \n",
    "\n",
    "$$\n",
    "  X_{norm} = \\frac{X-X_{min}}{X_{max}-X_{min}}\n",
    "$$\n",
    "\n",
    "![Normalization](./pics/Normalization.png)\n",
    "\n",
    "**Standardization(Z-Score)**\n",
    "\n",
    "Z-score relates the number of standard deviations away from the mean.\n",
    "\n",
    "$$\n",
    "  X_{std} = \\frac{X-\\mu}{\\sigma}\n",
    "$$\n",
    "\n",
    "![Standardization](./pics/Standardization.png)\n",
    "\n",
    "**Bucketizing/Binning**\n",
    "\n",
    "Bucketizing is process of encoding numerical values into category using range.\n",
    "\n",
    "![Bucketizing](./pics/Bucketizing.png)"
   ]
  },
  {
   "cell_type": "markdown",
   "metadata": {},
   "source": [
    "### Feature Crosses\n",
    "\n",
    "*Feature Crosses* combine multiple features into a new feature. It encodes nonlinearity in the feature space, or encodes the same information in fewer features. \n",
    "\n",
    "*i.e.* Multiplying features(width, height) from housing data to get the house area.\n"
   ]
  },
  {
   "cell_type": "markdown",
   "metadata": {},
   "source": [
    "### Preprocessing Data at Scale\n",
    "\n"
   ]
  }
 ],
 "metadata": {
  "kernelspec": {
   "display_name": "Python 3.8.12 64-bit ('shims')",
   "language": "python",
   "name": "python3"
  },
  "language_info": {
   "name": "python",
   "version": "3.8.12"
  },
  "orig_nbformat": 4,
  "vscode": {
   "interpreter": {
    "hash": "82f1088fa484f5b54e382e6f3ab804b0f8e7491f37ff80b3b36194223562fb4e"
   }
  }
 },
 "nbformat": 4,
 "nbformat_minor": 2
}
