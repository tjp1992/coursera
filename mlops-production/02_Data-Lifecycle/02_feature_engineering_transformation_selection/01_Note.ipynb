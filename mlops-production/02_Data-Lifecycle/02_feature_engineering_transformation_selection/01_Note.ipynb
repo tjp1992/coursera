{
 "cells": [
  {
   "cell_type": "markdown",
   "metadata": {},
   "source": [
    "# Week 2\n",
    "\n",
    "Following Notebook Summarizes the [Week 2](https://www.coursera.org/learn/machine-learning-data-lifecycle-in-production/home/week/2) of [Machine Learning](https://www.coursera.org/specializations/machine-learning-engineering-for-production-mlops?)\n",
    "\n",
    "**Index**\n",
    "\n",
    "- [Preprocessing](#preprocessing-in-production)\n",
    "- [Feature Engineering](#feature-engineering-techniques)\n"
   ]
  },
  {
   "cell_type": "markdown",
   "metadata": {},
   "source": [
    "### Preprocessing in Production\n",
    "\n",
    "Preprocessing for feature engineering is a vital process to reduce the feature dimensions, and thus reducing the cost of the model(CPU, GPU). *Data preprocessing in essence is transformation of raw data into a clean and training-ready dataset*\n"
   ]
  },
  {
   "cell_type": "markdown",
   "metadata": {},
   "source": [
    "### Feature Engineering Techniques\n",
    "\n",
    "There are many techniques for *Feature Engineering*, some of them are as following:\n",
    "\n",
    "- Feature Scaling\n",
    "  - Normalization and Standardization\n",
    "- Bucketizing/Binning\n",
    "\n"
   ]
  }
 ],
 "metadata": {
  "kernelspec": {
   "display_name": "Python 3.8.12 64-bit ('shims')",
   "language": "python",
   "name": "python3"
  },
  "language_info": {
   "name": "python",
   "version": "3.8.12"
  },
  "orig_nbformat": 4,
  "vscode": {
   "interpreter": {
    "hash": "82f1088fa484f5b54e382e6f3ab804b0f8e7491f37ff80b3b36194223562fb4e"
   }
  }
 },
 "nbformat": 4,
 "nbformat_minor": 2
}
