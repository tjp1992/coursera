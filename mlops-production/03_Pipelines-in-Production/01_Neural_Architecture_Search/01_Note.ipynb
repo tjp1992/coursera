{
 "cells": [
  {
   "cell_type": "markdown",
   "metadata": {},
   "source": [
    "# Week 1\n",
    "\n",
    "Following Notebook Summarizes the [Week 3](https://www.coursera.org/learn/machine-learning-data-lifecycle-in-production/home/week/3) of [Machine Learning](https://www.coursera.org/learn/machine-learning-modeling-pipelines-in-production/home/week/1)\n",
    "\n",
    "This weeks content is an extension of the previous module of *Data Pipeline*, it addresses methods to optimize the model through hyperparameter tuning, and resource management.\n",
    "\n",
    "**Index**\n",
    "\n",
    "- [HyperParameter Tuning](#hyperparameter-tuning)"
   ]
  },
  {
   "cell_type": "markdown",
   "metadata": {},
   "source": [
    "### Hyperparameter Tuning\n",
    "\n",
    "*Neural Architecture Search(NAS)* is a technique for automating the design of the neural networks. It finds the most optimal model which often outperforms hand built models.\n",
    "\n",
    "Most common method to find the best hyperparameter is to use [keras-tuner](https://keras.io/keras_tuner/), which is a open-sourced library provided by Tensorflow. By using the *keras-tuner* you can define the number of `units` within a model and the `learning_rate` and finally the optimizers. \n",
    "\n",
    "**Below Demonstrates a code snippet from an example that creates a function for hyperparameter tuning using *keras-tuner***\n",
    "\n",
    "```python\n",
    "def model_builder(hp):\n",
    "  '''\n",
    "  Builds the model and sets up the hyperparameters to tune.\n",
    "\n",
    "  Args:\n",
    "    hp - Keras tuner object\n",
    "\n",
    "  Returns:\n",
    "    model with hyperparameters to tune\n",
    "  '''\n",
    "\n",
    "  # Initialize the Sequential API and start stacking the layers\n",
    "  model = keras.Sequential()\n",
    "  model.add(keras.layers.Flatten(input_shape=(28, 28)))\n",
    "\n",
    "  # Tune the number of units in the first Dense layer\n",
    "  # Choose an optimal value between 32-512\n",
    "  hp_units = hp.Int('units', min_value=32, max_value=512, step=32)      \n",
    "  model.add(keras.layers.Dense(units=hp_units, activation='relu', name='dense_1'))\n",
    "\n",
    "  # Add next layers\n",
    "  model.add(keras.layers.Dropout(0.2))\n",
    "  model.add(keras.layers.Dense(10, activation='softmax'))\n",
    "\n",
    "  # Tune the learning rate for the optimizer\n",
    "  # Choose an optimal value from 0.01, 0.001, or 0.0001\n",
    "  hp_learning_rate = hp.Choice('learning_rate', values=[1e-2, 1e-3, 1e-4])\n",
    "\n",
    "  model.compile(optimizer=keras.optimizers.Adam(learning_rate=hp_learning_rate),\n",
    "                loss=keras.losses.SparseCategoricalCrossentropy(),\n",
    "                metrics=['accuracy'])\n",
    "\n",
    "  return \n",
    "\n",
    "# Instantiate the tuner\n",
    "tuner = kt.Hyperband(model_builder,\n",
    "                     objective='val_accuracy',\n",
    "                     max_epochs=10,\n",
    "                     factor=3,\n",
    "                     directory='kt_dir',\n",
    "                     project_name='kt_hyperband')\n",
    "```\n",
    "\n",
    "By defining the function for hyperparameter tuning, you can feed the function to the *keras-tuner* object as parameter to find the optimum hyperparameter"
   ]
  },
  {
   "cell_type": "markdown",
   "metadata": {},
   "source": [
    "### AutoML\n",
    "\n",
    "AutoML (Automated Machine Learning) is aimed at enabling developers with very little experience in machine learning to utilize the machine learning models and techniques. \n",
    "It expedites the process of building a solution utilizing Machine Learning Models, and it utilizes NAS(Neural Architecture Search) which will often find best models that are suited for the problem at hand. In addition, with NAS, it often performs better compared to hand coded models.\n",
    "\n",
    "Autom ML is comprised of three components which ensures the best model for the problem at hand.\n",
    "\n",
    "![img](./pics/automl.png)\n",
    "\n",
    "Meredith Digital is a great example of AutoML utilization.\n"
   ]
  },
  {
   "cell_type": "markdown",
   "metadata": {},
   "source": [
    "### Search Space\n",
    "\n",
    "AutoML goes through different search spaces to find the most optimal model for the problem at hand. There are two different spaces *Micro* and *Macro*.\n",
    "\n",
    "*Macro Architecture Search Space*\n",
    "contains individual layers and connection types and are built sequentially after one another. Each layer containing different neuron type.\n",
    "\n",
    "![Macro](./pics/Macro.png)\n",
    "\n",
    "*Micro Architecture Search Space*\n",
    "Micro Architecture builds models that comprise of different *Cells* where each *cell* is a different neural network. It has been proven that stacking different neural network improves the performance.\n",
    "\n",
    "![Macro](./pics/Micro.png)"
   ]
  },
  {
   "cell_type": "markdown",
   "metadata": {},
   "source": [
    "### Search Strateies\n",
    "\n",
    "- Grid Search\n",
    "- Random Search\n",
    "- Bayesian Optimization\n",
    "- Evolutionary Algorithms\n",
    "- Reinforcement Learning\n",
    "\n",
    "**Reference Material**\n",
    "\n",
    "- [Neural Architecture Search](https://arxiv.org/pdf/1808.05377.pdf)\n",
    "- [Bayesian Optimization](https://distill.pub/2020/bayesian-optimization/)\n",
    "- [Neural Architecture Search with Reinforcement Learning](https://arxiv.org/pdf/1611.01578.pdf)\n",
    "- [Progressive Neural Architecture Search](https://arxiv.org/pdf/1712.00559.pdf)\n",
    "- [Network Morphism](https://arxiv.org/abs/1603.01670)\n"
   ]
  },
  {
   "cell_type": "markdown",
   "metadata": {},
   "source": [
    "### AutoML on the Cloud\n",
    "\n",
    "Examples of different AutoML solutions provided by different companies, major companies are the following:\n",
    "- SageMaker Autopilot(Amazon)\n",
    "- Azure AutoML(Microsoft)\n",
    "- Google Cloud AutoML(Google)\n",
    "\n",
    "**Resources**\n",
    "- [Amazon SageMaker Autopilot](https://aws.amazon.com/sagemaker/autopilot)\n",
    "- [Microsoft Azure Automated Machine Learning](https://azure.microsoft.com/en-in/services/machine-learning/automatedml/)\n",
    "- [Google Cloud AutoML](https://cloud.google.com/automl)\n"
   ]
  }
 ],
 "metadata": {
  "kernelspec": {
   "display_name": "Python 3.8.12 64-bit ('shims')",
   "language": "python",
   "name": "python3"
  },
  "language_info": {
   "codemirror_mode": {
    "name": "ipython",
    "version": 3
   },
   "file_extension": ".py",
   "mimetype": "text/x-python",
   "name": "python",
   "nbconvert_exporter": "python",
   "pygments_lexer": "ipython3",
   "version": "3.8.12"
  },
  "orig_nbformat": 4,
  "vscode": {
   "interpreter": {
    "hash": "82f1088fa484f5b54e382e6f3ab804b0f8e7491f37ff80b3b36194223562fb4e"
   }
  }
 },
 "nbformat": 4,
 "nbformat_minor": 2
}
