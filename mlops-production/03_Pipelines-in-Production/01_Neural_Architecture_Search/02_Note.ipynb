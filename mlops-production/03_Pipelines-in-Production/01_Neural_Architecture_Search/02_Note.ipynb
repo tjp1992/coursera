{
 "cells": [
  {
   "cell_type": "markdown",
   "metadata": {},
   "source": [
    "# Week 2\n",
    "\n",
    "Following Notebook Summarizes the [Week 3](https://www.coursera.org/learn/machine-learning-data-lifecycle-in-production/home/week/3) of [Machine Learning](https://www.coursera.org/learn/machine-learning-modeling-pipelines-in-production/home/week/1)\n",
    "\n",
    "This weeks content is an extension of the previous module of *Data Pipeline*, it addresses methods to optimize the model through hyperparameter tuning, and resource management.\n",
    "\n",
    "**Index**\n",
    "\n",
    "- []()"
   ]
  },
  {
   "cell_type": "markdown",
   "metadata": {},
   "source": [
    "### Dimensionality\n",
    "\n",
    "**Problems caused by High Dimensional data**\n",
    "- More dimensions -> more features\n",
    "- Risk of overfitting our models\n",
    "- Distances grow more and more alike as more features causes data points to grow apart\n",
    "- No clear distinction between clustered objects\n",
    "- Concentration phenomenon for Euclidean distance\n",
    "\n",
    "**Technical issues of High Dimensionality**\n",
    "- Runtime and System memory requirements\n",
    "- Solutions take longer to reach global optima\n",
    "- More dimensions raise the likelihood of correlated features\n"
   ]
  }
 ],
 "metadata": {
  "kernelspec": {
   "display_name": "Python 3.8.12 64-bit ('shims')",
   "language": "python",
   "name": "python3"
  },
  "language_info": {
   "name": "python",
   "version": "3.8.12"
  },
  "orig_nbformat": 4,
  "vscode": {
   "interpreter": {
    "hash": "82f1088fa484f5b54e382e6f3ab804b0f8e7491f37ff80b3b36194223562fb4e"
   }
  }
 },
 "nbformat": 4,
 "nbformat_minor": 2
}
