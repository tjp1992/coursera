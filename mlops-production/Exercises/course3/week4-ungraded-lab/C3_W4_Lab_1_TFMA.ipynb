{
  "cells": [
    {
      "cell_type": "markdown",
      "metadata": {
        "id": "YuSYVbwEYNHw"
      },
      "source": [
        "# Ungraded Lab: TensorFlow Model Analysis\n",
        "\n",
        "In production systems, the decision to deploy a model usually goes beyond the global metrics (e.g. accuracy) set during training. It is also important to evaluate how your model performs in different scenarios. For instance, does your weather forecasting model perform equally well in summer compared to winter? Or does your camera-based defect detector work only in certain lighting conditions? This type of investigation helps to ensure that your model can handle different cases. More than that, it can help uncover any learned biases that can result in a negative experience for your users. For example, if you're supposed to have a gender-neutral application, you don't want your model to only work well for one while poorly for another.\n",
        "\n",
        "In this lab, you will be working with [TensorFlow Model Analysis (TFMA)](https://www.tensorflow.org/tfx/guide/tfma) -- a library built specifically for analyzing a model's performance across different configurations. It allows you to specify slices of your data, then it will compute and visualize how your model performs on each slice. You can also set thresholds that your model must meet before it is marked ready for deployment. These help you make better decisions regarding any improvements you may want to make to boost your model's performance and ensure fairness.\n",
        "\n",
        "For this exercise, you will use TFMA to analyze models trained on the [Census Income dataset](http://archive.ics.uci.edu/ml/datasets/Census+Income). Specifically, you will:\n",
        "\n",
        "* study and setup the starter files to use with TFMA\n",
        "* make a configuration file to tell TFMA what data slices it will analyze and the metrics it will compute\n",
        "* visualize TFMA's outputs in a notebook environment\n",
        "* generate a time series of a model's performance\n",
        "* compare the performance of two models so you can decide which one to push to production\n",
        "\n",
        "*Credits: Some of the code and discussions are based on the TensorFlow team's [official tutorial](https://www.tensorflow.org/tfx/tutorials/model_analysis/tfma_basic).*"
      ]
    },
    {
      "cell_type": "markdown",
      "metadata": {
        "id": "VUHcOxH0W2PH"
      },
      "source": [
        "## Setup\n",
        "\n",
        "In this section, you will first setup your workspace to have all the modules and files to work with TFMA. You will \n",
        "* install required libraries, \n",
        "* download starter files that will contain the dataset, schema, and pretrained models you will analyze\n",
        "* prepare the dataset so it can be consumed by TFMA\n",
        "* observe how the models transform the raw features"
      ]
    },
    {
      "cell_type": "markdown",
      "metadata": {
        "id": "q7-ouHFnWAsu"
      },
      "source": [
        "### Install Jupyter Extensions\n",
        "If running in a local Jupyter notebook, then these Jupyter extensions must be installed in the environment before running Jupyter. These are already available in Colab so we'll just leave the commands here for reference.\n",
        "\n",
        "```bash\n",
        "jupyter nbextension enable --py widgetsnbextension --sys-prefix \n",
        "jupyter nbextension install --py --symlink tensorflow_model_analysis --sys-prefix \n",
        "jupyter nbextension enable --py tensorflow_model_analysis --sys-prefix\n",
        "```"
      ]
    },
    {
      "cell_type": "code",
      "execution_count": 1,
      "metadata": {},
      "outputs": [
        {
          "name": "stdout",
          "output_type": "stream",
          "text": [
            "Enabling notebook extension jupyter-js-widgets/extension...\n",
            "      - Validating: \u001b[32mOK\u001b[0m\n",
            "Traceback (most recent call last):\n",
            "  File \"/home/tjp1992/.pyenv/versions/3.8.12/envs/coursera/bin/jupyter-nbextension\", line 8, in <module>\n",
            "    sys.exit(main())\n",
            "  File \"/home/tjp1992/.pyenv/versions/3.8.12/envs/coursera/lib/python3.8/site-packages/jupyter_core/application.py\", line 269, in launch_instance\n",
            "    return super().launch_instance(argv=argv, **kwargs)\n",
            "  File \"/home/tjp1992/.pyenv/versions/3.8.12/envs/coursera/lib/python3.8/site-packages/traitlets/config/application.py\", line 982, in launch_instance\n",
            "    app.start()\n",
            "  File \"/home/tjp1992/.pyenv/versions/3.8.12/envs/coursera/lib/python3.8/site-packages/notebook/nbextensions.py\", line 972, in start\n",
            "    super().start()\n",
            "  File \"/home/tjp1992/.pyenv/versions/3.8.12/envs/coursera/lib/python3.8/site-packages/jupyter_core/application.py\", line 258, in start\n",
            "    self.subapp.start()\n",
            "  File \"/home/tjp1992/.pyenv/versions/3.8.12/envs/coursera/lib/python3.8/site-packages/notebook/nbextensions.py\", line 702, in start\n",
            "    self.install_extensions()\n",
            "  File \"/home/tjp1992/.pyenv/versions/3.8.12/envs/coursera/lib/python3.8/site-packages/notebook/nbextensions.py\", line 675, in install_extensions\n",
            "    full_dests = install(self.extra_args[0],\n",
            "  File \"/home/tjp1992/.pyenv/versions/3.8.12/envs/coursera/lib/python3.8/site-packages/notebook/nbextensions.py\", line 203, in install_nbextension_python\n",
            "    m, nbexts = _get_nbextension_metadata(module)\n",
            "  File \"/home/tjp1992/.pyenv/versions/3.8.12/envs/coursera/lib/python3.8/site-packages/notebook/nbextensions.py\", line 1107, in _get_nbextension_metadata\n",
            "    m = import_item(module)\n",
            "  File \"/home/tjp1992/.pyenv/versions/3.8.12/envs/coursera/lib/python3.8/site-packages/traitlets/utils/importstring.py\", line 38, in import_item\n",
            "    return __import__(parts[0])\n",
            "ModuleNotFoundError: No module named 'tensorflow_model_analysis'\n",
            "Traceback (most recent call last):\n",
            "  File \"/home/tjp1992/.pyenv/versions/3.8.12/envs/coursera/bin/jupyter-nbextension\", line 8, in <module>\n",
            "    sys.exit(main())\n",
            "  File \"/home/tjp1992/.pyenv/versions/3.8.12/envs/coursera/lib/python3.8/site-packages/jupyter_core/application.py\", line 269, in launch_instance\n",
            "    return super().launch_instance(argv=argv, **kwargs)\n",
            "  File \"/home/tjp1992/.pyenv/versions/3.8.12/envs/coursera/lib/python3.8/site-packages/traitlets/config/application.py\", line 982, in launch_instance\n",
            "    app.start()\n",
            "  File \"/home/tjp1992/.pyenv/versions/3.8.12/envs/coursera/lib/python3.8/site-packages/notebook/nbextensions.py\", line 972, in start\n",
            "    super().start()\n",
            "  File \"/home/tjp1992/.pyenv/versions/3.8.12/envs/coursera/lib/python3.8/site-packages/jupyter_core/application.py\", line 258, in start\n",
            "    self.subapp.start()\n",
            "  File \"/home/tjp1992/.pyenv/versions/3.8.12/envs/coursera/lib/python3.8/site-packages/notebook/nbextensions.py\", line 882, in start\n",
            "    self.toggle_nbextension_python(self.extra_args[0])\n",
            "  File \"/home/tjp1992/.pyenv/versions/3.8.12/envs/coursera/lib/python3.8/site-packages/notebook/nbextensions.py\", line 855, in toggle_nbextension_python\n",
            "    return toggle(module,\n",
            "  File \"/home/tjp1992/.pyenv/versions/3.8.12/envs/coursera/lib/python3.8/site-packages/notebook/nbextensions.py\", line 470, in enable_nbextension_python\n",
            "    return _set_nbextension_state_python(True, module, user, sys_prefix,\n",
            "  File \"/home/tjp1992/.pyenv/versions/3.8.12/envs/coursera/lib/python3.8/site-packages/notebook/nbextensions.py\", line 368, in _set_nbextension_state_python\n",
            "    m, nbexts = _get_nbextension_metadata(module)\n",
            "  File \"/home/tjp1992/.pyenv/versions/3.8.12/envs/coursera/lib/python3.8/site-packages/notebook/nbextensions.py\", line 1107, in _get_nbextension_metadata\n",
            "    m = import_item(module)\n",
            "  File \"/home/tjp1992/.pyenv/versions/3.8.12/envs/coursera/lib/python3.8/site-packages/traitlets/utils/importstring.py\", line 38, in import_item\n",
            "    return __import__(parts[0])\n",
            "ModuleNotFoundError: No module named 'tensorflow_model_analysis'\n"
          ]
        }
      ],
      "source": [
        "!jupyter nbextension enable --py widgetsnbextension --sys-prefix \n",
        "!jupyter nbextension install --py --symlink tensorflow_model_analysis --sys-prefix \n",
        "!jupyter nbextension enable --py tensorflow_model_analysis --sys-prefix "
      ]
    },
    {
      "cell_type": "markdown",
      "metadata": {
        "id": "LZj-impiAD_l"
      },
      "source": [
        "### Install libraries\n",
        "\n",
        "This will pull in all the dependencies and will take 6 to 8 minutes to complete.\n"
      ]
    },
    {
      "cell_type": "code",
      "execution_count": 2,
      "metadata": {
        "id": "8X32Q_lIKYxH"
      },
      "outputs": [
        {
          "name": "stdout",
          "output_type": "stream",
          "text": [
            "Requirement already satisfied: pip in /home/tjp1992/.pyenv/versions/3.8.12/envs/lewagon/lib/python3.8/site-packages (22.2.2)\n",
            "Collecting pip\n",
            "  Downloading pip-22.3.1-py3-none-any.whl (2.1 MB)\n",
            "\u001b[2K     \u001b[90m━━━━━━━━━━━━━━━━━━━━━━━━━━━━━━━━━━━━━━━━\u001b[0m \u001b[32m2.1/2.1 MB\u001b[0m \u001b[31m5.4 MB/s\u001b[0m eta \u001b[36m0:00:00\u001b[0m00:01\u001b[0m00:01\u001b[0m\n",
            "\u001b[?25hInstalling collected packages: pip\n",
            "  Attempting uninstall: pip\n",
            "    Found existing installation: pip 22.2.2\n",
            "    Uninstalling pip-22.2.2:\n",
            "      Successfully uninstalled pip-22.2.2\n",
            "Successfully installed pip-22.3.1\n",
            "Collecting tensorflow_data_validation==1.1.0\n",
            "  Downloading tensorflow_data_validation-1.1.0-cp38-cp38-manylinux_2_12_x86_64.manylinux2010_x86_64.whl (1.4 MB)\n",
            "\u001b[2K     \u001b[90m━━━━━━━━━━━━━━━━━━━━━━━━━━━━━━━━━━━━━━━━\u001b[0m \u001b[32m1.4/1.4 MB\u001b[0m \u001b[31m5.0 MB/s\u001b[0m eta \u001b[36m0:00:00\u001b[0m00:01\u001b[0m00:01\u001b[0mm\n",
            "\u001b[?25hCollecting pyarrow<3,>=1\n",
            "  Using cached pyarrow-2.0.0-cp38-cp38-manylinux2014_x86_64.whl (17.8 MB)\n",
            "Collecting joblib<0.15,>=0.12\n",
            "  Using cached joblib-0.14.1-py2.py3-none-any.whl (294 kB)\n",
            "Collecting tfx-bsl<1.2,>=1.1\n",
            "  Downloading tfx_bsl-1.1.1-cp38-cp38-manylinux_2_12_x86_64.manylinux2010_x86_64.whl (19.0 MB)\n",
            "\u001b[2K     \u001b[90m━━━━━━━━━━━━━━━━━━━━━━━━━━━━━━━━━━━━━━━━\u001b[0m \u001b[32m19.0/19.0 MB\u001b[0m \u001b[31m3.8 MB/s\u001b[0m eta \u001b[36m0:00:00\u001b[0m00:01\u001b[0m00:01\u001b[0m\n",
            "\u001b[?25hRequirement already satisfied: six<2,>=1.12 in /home/tjp1992/.pyenv/versions/3.8.12/envs/lewagon/lib/python3.8/site-packages (from tensorflow_data_validation==1.1.0) (1.16.0)\n",
            "Requirement already satisfied: tensorflow!=2.0.*,!=2.1.*,!=2.2.*,!=2.3.*,!=2.4.*,<3,>=1.15.2 in /home/tjp1992/.pyenv/versions/3.8.12/envs/lewagon/lib/python3.8/site-packages (from tensorflow_data_validation==1.1.0) (2.7.0)\n",
            "Collecting tensorflow-metadata<1.2,>=1.1\n",
            "  Downloading tensorflow_metadata-1.1.0-py3-none-any.whl (48 kB)\n",
            "\u001b[2K     \u001b[90m━━━━━━━━━━━━━━━━━━━━━━━━━━━━━━━━━━━━━━━\u001b[0m \u001b[32m48.1/48.1 kB\u001b[0m \u001b[31m731.4 kB/s\u001b[0m eta \u001b[36m0:00:00\u001b[0ma \u001b[36m0:00:01\u001b[0m\n",
            "\u001b[?25hRequirement already satisfied: apache-beam[gcp]<3,>=2.29 in /home/tjp1992/.pyenv/versions/3.8.12/envs/lewagon/lib/python3.8/site-packages (from tensorflow_data_validation==1.1.0) (2.40.0)\n",
            "Collecting numpy<1.20,>=1.16\n",
            "  Using cached numpy-1.19.5-cp38-cp38-manylinux2010_x86_64.whl (14.9 MB)\n",
            "Requirement already satisfied: absl-py<0.13,>=0.9 in /home/tjp1992/.pyenv/versions/3.8.12/envs/lewagon/lib/python3.8/site-packages (from tensorflow_data_validation==1.1.0) (0.12.0)\n",
            "Requirement already satisfied: pandas<2,>=1.0 in /home/tjp1992/.pyenv/versions/3.8.12/envs/lewagon/lib/python3.8/site-packages (from tensorflow_data_validation==1.1.0) (1.3.5)\n",
            "Requirement already satisfied: protobuf<4,>=3.13 in /home/tjp1992/.pyenv/versions/3.8.12/envs/lewagon/lib/python3.8/site-packages (from tensorflow_data_validation==1.1.0) (3.19.1)\n",
            "Requirement already satisfied: google-api-python-client<2,>=1.7.11 in /home/tjp1992/.pyenv/versions/3.8.12/envs/lewagon/lib/python3.8/site-packages (from tfx-bsl<1.2,>=1.1->tensorflow_data_validation==1.1.0) (1.12.11)\n",
            "Collecting google-cloud-bigquery<2.21,>=1.28.0\n",
            "  Downloading google_cloud_bigquery-2.20.0-py2.py3-none-any.whl (189 kB)\n",
            "\u001b[2K     \u001b[90m━━━━━━━━━━━━━━━━━━━━━━━━━━━━━━━━━━━━━━━\u001b[0m \u001b[32m189.1/189.1 kB\u001b[0m \u001b[31m1.7 MB/s\u001b[0m eta \u001b[36m0:00:00\u001b[0m00:01\u001b[0m\n",
            "\u001b[?25hRequirement already satisfied: tensorflow-serving-api!=2.0.*,!=2.1.*,!=2.2.*,!=2.3.*,!=2.4.*,<3,>=1.15 in /home/tjp1992/.pyenv/versions/3.8.12/envs/lewagon/lib/python3.8/site-packages (from tfx-bsl<1.2,>=1.1->tensorflow_data_validation==1.1.0) (2.9.1)\n",
            "Requirement already satisfied: keras-preprocessing>=1.1.1 in /home/tjp1992/.pyenv/versions/3.8.12/envs/lewagon/lib/python3.8/site-packages (from tensorflow!=2.0.*,!=2.1.*,!=2.2.*,!=2.3.*,!=2.4.*,<3,>=1.15.2->tensorflow_data_validation==1.1.0) (1.1.2)\n",
            "Requirement already satisfied: gast<0.5.0,>=0.2.1 in /home/tjp1992/.pyenv/versions/3.8.12/envs/lewagon/lib/python3.8/site-packages (from tensorflow!=2.0.*,!=2.1.*,!=2.2.*,!=2.3.*,!=2.4.*,<3,>=1.15.2->tensorflow_data_validation==1.1.0) (0.4.0)\n",
            "Requirement already satisfied: tensorflow-estimator<2.8,~=2.7.0rc0 in /home/tjp1992/.pyenv/versions/3.8.12/envs/lewagon/lib/python3.8/site-packages (from tensorflow!=2.0.*,!=2.1.*,!=2.2.*,!=2.3.*,!=2.4.*,<3,>=1.15.2->tensorflow_data_validation==1.1.0) (2.7.0)\n",
            "Requirement already satisfied: keras<2.8,>=2.7.0rc0 in /home/tjp1992/.pyenv/versions/3.8.12/envs/lewagon/lib/python3.8/site-packages (from tensorflow!=2.0.*,!=2.1.*,!=2.2.*,!=2.3.*,!=2.4.*,<3,>=1.15.2->tensorflow_data_validation==1.1.0) (2.7.0)\n",
            "Requirement already satisfied: termcolor>=1.1.0 in /home/tjp1992/.pyenv/versions/3.8.12/envs/lewagon/lib/python3.8/site-packages (from tensorflow!=2.0.*,!=2.1.*,!=2.2.*,!=2.3.*,!=2.4.*,<3,>=1.15.2->tensorflow_data_validation==1.1.0) (1.1.0)\n",
            "Requirement already satisfied: tensorflow-io-gcs-filesystem>=0.21.0 in /home/tjp1992/.pyenv/versions/3.8.12/envs/lewagon/lib/python3.8/site-packages (from tensorflow!=2.0.*,!=2.1.*,!=2.2.*,!=2.3.*,!=2.4.*,<3,>=1.15.2->tensorflow_data_validation==1.1.0) (0.23.1)\n",
            "Requirement already satisfied: flatbuffers<3.0,>=1.12 in /home/tjp1992/.pyenv/versions/3.8.12/envs/lewagon/lib/python3.8/site-packages (from tensorflow!=2.0.*,!=2.1.*,!=2.2.*,!=2.3.*,!=2.4.*,<3,>=1.15.2->tensorflow_data_validation==1.1.0) (2.0)\n",
            "Requirement already satisfied: google-pasta>=0.1.1 in /home/tjp1992/.pyenv/versions/3.8.12/envs/lewagon/lib/python3.8/site-packages (from tensorflow!=2.0.*,!=2.1.*,!=2.2.*,!=2.3.*,!=2.4.*,<3,>=1.15.2->tensorflow_data_validation==1.1.0) (0.2.0)\n",
            "Requirement already satisfied: opt-einsum>=2.3.2 in /home/tjp1992/.pyenv/versions/3.8.12/envs/lewagon/lib/python3.8/site-packages (from tensorflow!=2.0.*,!=2.1.*,!=2.2.*,!=2.3.*,!=2.4.*,<3,>=1.15.2->tensorflow_data_validation==1.1.0) (3.3.0)\n",
            "Requirement already satisfied: astunparse>=1.6.0 in /home/tjp1992/.pyenv/versions/3.8.12/envs/lewagon/lib/python3.8/site-packages (from tensorflow!=2.0.*,!=2.1.*,!=2.2.*,!=2.3.*,!=2.4.*,<3,>=1.15.2->tensorflow_data_validation==1.1.0) (1.6.3)\n",
            "Requirement already satisfied: grpcio<2.0,>=1.24.3 in /home/tjp1992/.pyenv/versions/3.8.12/envs/lewagon/lib/python3.8/site-packages (from tensorflow!=2.0.*,!=2.1.*,!=2.2.*,!=2.3.*,!=2.4.*,<3,>=1.15.2->tensorflow_data_validation==1.1.0) (1.43.0)\n",
            "Requirement already satisfied: tensorboard~=2.6 in /home/tjp1992/.pyenv/versions/3.8.12/envs/lewagon/lib/python3.8/site-packages (from tensorflow!=2.0.*,!=2.1.*,!=2.2.*,!=2.3.*,!=2.4.*,<3,>=1.15.2->tensorflow_data_validation==1.1.0) (2.7.0)\n",
            "Requirement already satisfied: wrapt>=1.11.0 in /home/tjp1992/.pyenv/versions/3.8.12/envs/lewagon/lib/python3.8/site-packages (from tensorflow!=2.0.*,!=2.1.*,!=2.2.*,!=2.3.*,!=2.4.*,<3,>=1.15.2->tensorflow_data_validation==1.1.0) (1.12.1)\n",
            "Requirement already satisfied: wheel<1.0,>=0.32.0 in /home/tjp1992/.pyenv/versions/3.8.12/envs/lewagon/lib/python3.8/site-packages (from tensorflow!=2.0.*,!=2.1.*,!=2.2.*,!=2.3.*,!=2.4.*,<3,>=1.15.2->tensorflow_data_validation==1.1.0) (0.37.1)\n",
            "Requirement already satisfied: typing-extensions>=3.6.6 in /home/tjp1992/.pyenv/versions/3.8.12/envs/lewagon/lib/python3.8/site-packages (from tensorflow!=2.0.*,!=2.1.*,!=2.2.*,!=2.3.*,!=2.4.*,<3,>=1.15.2->tensorflow_data_validation==1.1.0) (4.0.1)\n",
            "Requirement already satisfied: h5py>=2.9.0 in /home/tjp1992/.pyenv/versions/3.8.12/envs/lewagon/lib/python3.8/site-packages (from tensorflow!=2.0.*,!=2.1.*,!=2.2.*,!=2.3.*,!=2.4.*,<3,>=1.15.2->tensorflow_data_validation==1.1.0) (3.6.0)\n",
            "Requirement already satisfied: libclang>=9.0.1 in /home/tjp1992/.pyenv/versions/3.8.12/envs/lewagon/lib/python3.8/site-packages (from tensorflow!=2.0.*,!=2.1.*,!=2.2.*,!=2.3.*,!=2.4.*,<3,>=1.15.2->tensorflow_data_validation==1.1.0) (12.0.0)\n",
            "Requirement already satisfied: googleapis-common-protos<2,>=1.52.0 in /home/tjp1992/.pyenv/versions/3.8.12/envs/lewagon/lib/python3.8/site-packages (from tensorflow-metadata<1.2,>=1.1->tensorflow_data_validation==1.1.0) (1.54.0)\n",
            "Collecting cloudpickle<3,>=2.1.0\n",
            "  Downloading cloudpickle-2.2.0-py3-none-any.whl (25 kB)\n",
            "Requirement already satisfied: httplib2<0.21.0,>=0.8 in /home/tjp1992/.pyenv/versions/3.8.12/envs/lewagon/lib/python3.8/site-packages (from apache-beam[gcp]<3,>=2.29->tensorflow_data_validation==1.1.0) (0.20.4)\n",
            "Requirement already satisfied: orjson<4.0 in /home/tjp1992/.pyenv/versions/3.8.12/envs/lewagon/lib/python3.8/site-packages (from apache-beam[gcp]<3,>=2.29->tensorflow_data_validation==1.1.0) (3.7.11)\n",
            "Requirement already satisfied: python-dateutil<3,>=2.8.0 in /home/tjp1992/.pyenv/versions/3.8.12/envs/lewagon/lib/python3.8/site-packages (from apache-beam[gcp]<3,>=2.29->tensorflow_data_validation==1.1.0) (2.8.2)\n",
            "Requirement already satisfied: pytz>=2018.3 in /home/tjp1992/.pyenv/versions/3.8.12/envs/lewagon/lib/python3.8/site-packages (from apache-beam[gcp]<3,>=2.29->tensorflow_data_validation==1.1.0) (2021.3)\n",
            "Requirement already satisfied: requests<3.0.0,>=2.24.0 in /home/tjp1992/.pyenv/versions/3.8.12/envs/lewagon/lib/python3.8/site-packages (from apache-beam[gcp]<3,>=2.29->tensorflow_data_validation==1.1.0) (2.27.1)\n",
            "Requirement already satisfied: hdfs<3.0.0,>=2.1.0 in /home/tjp1992/.pyenv/versions/3.8.12/envs/lewagon/lib/python3.8/site-packages (from apache-beam[gcp]<3,>=2.29->tensorflow_data_validation==1.1.0) (2.7.0)\n",
            "Requirement already satisfied: crcmod<2.0,>=1.7 in /home/tjp1992/.pyenv/versions/3.8.12/envs/lewagon/lib/python3.8/site-packages (from apache-beam[gcp]<3,>=2.29->tensorflow_data_validation==1.1.0) (1.7)\n",
            "Requirement already satisfied: pymongo<4.0.0,>=3.8.0 in /home/tjp1992/.pyenv/versions/3.8.12/envs/lewagon/lib/python3.8/site-packages (from apache-beam[gcp]<3,>=2.29->tensorflow_data_validation==1.1.0) (3.12.3)\n",
            "Requirement already satisfied: fastavro<2,>=0.23.6 in /home/tjp1992/.pyenv/versions/3.8.12/envs/lewagon/lib/python3.8/site-packages (from apache-beam[gcp]<3,>=2.29->tensorflow_data_validation==1.1.0) (1.5.4)\n",
            "Requirement already satisfied: proto-plus<2,>=1.7.1 in /home/tjp1992/.pyenv/versions/3.8.12/envs/lewagon/lib/python3.8/site-packages (from apache-beam[gcp]<3,>=2.29->tensorflow_data_validation==1.1.0) (1.19.8)\n",
            "Requirement already satisfied: pydot<2,>=1.2.0 in /home/tjp1992/.pyenv/versions/3.8.12/envs/lewagon/lib/python3.8/site-packages (from apache-beam[gcp]<3,>=2.29->tensorflow_data_validation==1.1.0) (1.4.2)\n",
            "Collecting dill<0.3.2,>=0.3.1.1\n",
            "  Using cached dill-0.3.1.1.tar.gz (151 kB)\n",
            "  Preparing metadata (setup.py) ... \u001b[?25ldone\n",
            "\u001b[?25hRequirement already satisfied: google-auth<3,>=1.18.0; extra == \"gcp\" in /home/tjp1992/.pyenv/versions/3.8.12/envs/lewagon/lib/python3.8/site-packages (from apache-beam[gcp]<3,>=2.29->tensorflow_data_validation==1.1.0) (2.3.3)\n",
            "Requirement already satisfied: google-cloud-videointelligence<2,>=1.8.0; extra == \"gcp\" in /home/tjp1992/.pyenv/versions/3.8.12/envs/lewagon/lib/python3.8/site-packages (from apache-beam[gcp]<3,>=2.29->tensorflow_data_validation==1.1.0) (1.16.3)\n",
            "Requirement already satisfied: grpcio-gcp<1,>=0.2.2; extra == \"gcp\" in /home/tjp1992/.pyenv/versions/3.8.12/envs/lewagon/lib/python3.8/site-packages (from apache-beam[gcp]<3,>=2.29->tensorflow_data_validation==1.1.0) (0.2.2)\n",
            "Collecting google-cloud-core<2,>=0.28.1; extra == \"gcp\"\n",
            "  Using cached google_cloud_core-1.7.3-py2.py3-none-any.whl (28 kB)\n",
            "Requirement already satisfied: google-cloud-language<2,>=1.3.0; extra == \"gcp\" in /home/tjp1992/.pyenv/versions/3.8.12/envs/lewagon/lib/python3.8/site-packages (from apache-beam[gcp]<3,>=2.29->tensorflow_data_validation==1.1.0) (1.3.2)\n",
            "Requirement already satisfied: google-cloud-dlp<4,>=3.0.0; extra == \"gcp\" in /home/tjp1992/.pyenv/versions/3.8.12/envs/lewagon/lib/python3.8/site-packages (from apache-beam[gcp]<3,>=2.29->tensorflow_data_validation==1.1.0) (3.8.0)\n",
            "Requirement already satisfied: google-cloud-vision<2,>=0.38.0; extra == \"gcp\" in /home/tjp1992/.pyenv/versions/3.8.12/envs/lewagon/lib/python3.8/site-packages (from apache-beam[gcp]<3,>=2.29->tensorflow_data_validation==1.1.0) (1.0.2)\n",
            "Requirement already satisfied: google-auth-httplib2<0.2.0,>=0.1.0; extra == \"gcp\" in /home/tjp1992/.pyenv/versions/3.8.12/envs/lewagon/lib/python3.8/site-packages (from apache-beam[gcp]<3,>=2.29->tensorflow_data_validation==1.1.0) (0.1.0)\n",
            "Requirement already satisfied: cachetools<5,>=3.1.0; extra == \"gcp\" in /home/tjp1992/.pyenv/versions/3.8.12/envs/lewagon/lib/python3.8/site-packages (from apache-beam[gcp]<3,>=2.29->tensorflow_data_validation==1.1.0) (4.2.4)\n",
            "Requirement already satisfied: google-cloud-pubsublite<2,>=1.2.0; extra == \"gcp\" in /home/tjp1992/.pyenv/versions/3.8.12/envs/lewagon/lib/python3.8/site-packages (from apache-beam[gcp]<3,>=2.29->tensorflow_data_validation==1.1.0) (1.4.2)\n",
            "Requirement already satisfied: google-cloud-pubsub<3,>=2.1.0; extra == \"gcp\" in /home/tjp1992/.pyenv/versions/3.8.12/envs/lewagon/lib/python3.8/site-packages (from apache-beam[gcp]<3,>=2.29->tensorflow_data_validation==1.1.0) (2.13.4)\n",
            "Requirement already satisfied: google-cloud-recommendations-ai<=0.2.0,>=0.1.0; extra == \"gcp\" in /home/tjp1992/.pyenv/versions/3.8.12/envs/lewagon/lib/python3.8/site-packages (from apache-beam[gcp]<3,>=2.29->tensorflow_data_validation==1.1.0) (0.2.0)\n",
            "Requirement already satisfied: google-apitools<0.5.32,>=0.5.31; extra == \"gcp\" in /home/tjp1992/.pyenv/versions/3.8.12/envs/lewagon/lib/python3.8/site-packages (from apache-beam[gcp]<3,>=2.29->tensorflow_data_validation==1.1.0) (0.5.31)\n",
            "Requirement already satisfied: google-cloud-spanner<2,>=1.13.0; extra == \"gcp\" in /home/tjp1992/.pyenv/versions/3.8.12/envs/lewagon/lib/python3.8/site-packages (from apache-beam[gcp]<3,>=2.29->tensorflow_data_validation==1.1.0) (1.19.3)\n",
            "Requirement already satisfied: google-cloud-bigquery-storage>=2.6.3; extra == \"gcp\" in /home/tjp1992/.pyenv/versions/3.8.12/envs/lewagon/lib/python3.8/site-packages (from apache-beam[gcp]<3,>=2.29->tensorflow_data_validation==1.1.0) (2.10.1)\n",
            "Requirement already satisfied: google-cloud-bigtable<2,>=0.31.1; extra == \"gcp\" in /home/tjp1992/.pyenv/versions/3.8.12/envs/lewagon/lib/python3.8/site-packages (from apache-beam[gcp]<3,>=2.29->tensorflow_data_validation==1.1.0) (1.7.2)\n",
            "Requirement already satisfied: google-cloud-datastore<2,>=1.8.0; extra == \"gcp\" in /home/tjp1992/.pyenv/versions/3.8.12/envs/lewagon/lib/python3.8/site-packages (from apache-beam[gcp]<3,>=2.29->tensorflow_data_validation==1.1.0) (1.15.5)\n",
            "Requirement already satisfied: uritemplate<4dev,>=3.0.0 in /home/tjp1992/.pyenv/versions/3.8.12/envs/lewagon/lib/python3.8/site-packages (from google-api-python-client<2,>=1.7.11->tfx-bsl<1.2,>=1.1->tensorflow_data_validation==1.1.0) (3.0.1)\n",
            "Requirement already satisfied: google-api-core<3dev,>=1.21.0; python_version >= \"3\" in /home/tjp1992/.pyenv/versions/3.8.12/envs/lewagon/lib/python3.8/site-packages (from google-api-python-client<2,>=1.7.11->tfx-bsl<1.2,>=1.1->tensorflow_data_validation==1.1.0) (2.3.2)\n",
            "Collecting google-resumable-media<2.0dev,>=0.6.0\n",
            "  Downloading google_resumable_media-1.3.3-py2.py3-none-any.whl (75 kB)\n",
            "\u001b[2K     \u001b[90m━━━━━━━━━━━━━━━━━━━━━━━━━━━━━━━━━━━━━━━━\u001b[0m \u001b[32m76.0/76.0 kB\u001b[0m \u001b[31m1.2 MB/s\u001b[0m eta \u001b[36m0:00:00\u001b[0mta \u001b[36m0:00:01\u001b[0m\n",
            "\u001b[?25hRequirement already satisfied: packaging>=14.3 in /home/tjp1992/.pyenv/versions/3.8.12/envs/lewagon/lib/python3.8/site-packages (from google-cloud-bigquery<2.21,>=1.28.0->tfx-bsl<1.2,>=1.1->tensorflow_data_validation==1.1.0) (21.3)\n",
            "Requirement already satisfied: werkzeug>=0.11.15 in /home/tjp1992/.pyenv/versions/3.8.12/envs/lewagon/lib/python3.8/site-packages (from tensorboard~=2.6->tensorflow!=2.0.*,!=2.1.*,!=2.2.*,!=2.3.*,!=2.4.*,<3,>=1.15.2->tensorflow_data_validation==1.1.0) (2.0.2)\n",
            "Requirement already satisfied: tensorboard-data-server<0.7.0,>=0.6.0 in /home/tjp1992/.pyenv/versions/3.8.12/envs/lewagon/lib/python3.8/site-packages (from tensorboard~=2.6->tensorflow!=2.0.*,!=2.1.*,!=2.2.*,!=2.3.*,!=2.4.*,<3,>=1.15.2->tensorflow_data_validation==1.1.0) (0.6.1)\n",
            "Requirement already satisfied: setuptools>=41.0.0 in /home/tjp1992/.pyenv/versions/3.8.12/envs/lewagon/lib/python3.8/site-packages (from tensorboard~=2.6->tensorflow!=2.0.*,!=2.1.*,!=2.2.*,!=2.3.*,!=2.4.*,<3,>=1.15.2->tensorflow_data_validation==1.1.0) (56.0.0)\n",
            "Requirement already satisfied: google-auth-oauthlib<0.5,>=0.4.1 in /home/tjp1992/.pyenv/versions/3.8.12/envs/lewagon/lib/python3.8/site-packages (from tensorboard~=2.6->tensorflow!=2.0.*,!=2.1.*,!=2.2.*,!=2.3.*,!=2.4.*,<3,>=1.15.2->tensorflow_data_validation==1.1.0) (0.4.6)\n",
            "Requirement already satisfied: markdown>=2.6.8 in /home/tjp1992/.pyenv/versions/3.8.12/envs/lewagon/lib/python3.8/site-packages (from tensorboard~=2.6->tensorflow!=2.0.*,!=2.1.*,!=2.2.*,!=2.3.*,!=2.4.*,<3,>=1.15.2->tensorflow_data_validation==1.1.0) (3.3.6)\n",
            "Requirement already satisfied: tensorboard-plugin-wit>=1.6.0 in /home/tjp1992/.pyenv/versions/3.8.12/envs/lewagon/lib/python3.8/site-packages (from tensorboard~=2.6->tensorflow!=2.0.*,!=2.1.*,!=2.2.*,!=2.3.*,!=2.4.*,<3,>=1.15.2->tensorflow_data_validation==1.1.0) (1.8.1)\n",
            "Requirement already satisfied: pyparsing!=3.0.0,!=3.0.1,!=3.0.2,!=3.0.3,<4,>=2.4.2; python_version > \"3.0\" in /home/tjp1992/.pyenv/versions/3.8.12/envs/lewagon/lib/python3.8/site-packages (from httplib2<0.21.0,>=0.8->apache-beam[gcp]<3,>=2.29->tensorflow_data_validation==1.1.0) (3.0.6)\n",
            "Requirement already satisfied: charset-normalizer~=2.0.0; python_version >= \"3\" in /home/tjp1992/.pyenv/versions/3.8.12/envs/lewagon/lib/python3.8/site-packages (from requests<3.0.0,>=2.24.0->apache-beam[gcp]<3,>=2.29->tensorflow_data_validation==1.1.0) (2.0.10)\n",
            "Requirement already satisfied: urllib3<1.27,>=1.21.1 in /home/tjp1992/.pyenv/versions/3.8.12/envs/lewagon/lib/python3.8/site-packages (from requests<3.0.0,>=2.24.0->apache-beam[gcp]<3,>=2.29->tensorflow_data_validation==1.1.0) (1.26.7)\n",
            "Requirement already satisfied: idna<4,>=2.5; python_version >= \"3\" in /home/tjp1992/.pyenv/versions/3.8.12/envs/lewagon/lib/python3.8/site-packages (from requests<3.0.0,>=2.24.0->apache-beam[gcp]<3,>=2.29->tensorflow_data_validation==1.1.0) (3.3)\n",
            "Requirement already satisfied: certifi>=2017.4.17 in /home/tjp1992/.pyenv/versions/3.8.12/envs/lewagon/lib/python3.8/site-packages (from requests<3.0.0,>=2.24.0->apache-beam[gcp]<3,>=2.29->tensorflow_data_validation==1.1.0) (2021.10.8)\n",
            "Requirement already satisfied: docopt in /home/tjp1992/.pyenv/versions/3.8.12/envs/lewagon/lib/python3.8/site-packages (from hdfs<3.0.0,>=2.1.0->apache-beam[gcp]<3,>=2.29->tensorflow_data_validation==1.1.0) (0.6.2)\n",
            "Requirement already satisfied: pyasn1-modules>=0.2.1 in /home/tjp1992/.pyenv/versions/3.8.12/envs/lewagon/lib/python3.8/site-packages (from google-auth<3,>=1.18.0; extra == \"gcp\"->apache-beam[gcp]<3,>=2.29->tensorflow_data_validation==1.1.0) (0.2.8)\n",
            "Requirement already satisfied: rsa<5,>=3.1.4; python_version >= \"3.6\" in /home/tjp1992/.pyenv/versions/3.8.12/envs/lewagon/lib/python3.8/site-packages (from google-auth<3,>=1.18.0; extra == \"gcp\"->apache-beam[gcp]<3,>=2.29->tensorflow_data_validation==1.1.0) (4.8)\n",
            "Requirement already satisfied: grpcio-status>=1.18.0 in /home/tjp1992/.pyenv/versions/3.8.12/envs/lewagon/lib/python3.8/site-packages (from google-cloud-pubsublite<2,>=1.2.0; extra == \"gcp\"->apache-beam[gcp]<3,>=2.29->tensorflow_data_validation==1.1.0) (1.43.0)\n",
            "Requirement already satisfied: overrides<7.0.0,>=6.0.1 in /home/tjp1992/.pyenv/versions/3.8.12/envs/lewagon/lib/python3.8/site-packages (from google-cloud-pubsublite<2,>=1.2.0; extra == \"gcp\"->apache-beam[gcp]<3,>=2.29->tensorflow_data_validation==1.1.0) (6.2.0)\n",
            "Requirement already satisfied: grpc-google-iam-v1<1.0.0dev,>=0.12.4 in /home/tjp1992/.pyenv/versions/3.8.12/envs/lewagon/lib/python3.8/site-packages (from google-cloud-pubsub<3,>=2.1.0; extra == \"gcp\"->apache-beam[gcp]<3,>=2.29->tensorflow_data_validation==1.1.0) (0.12.4)\n",
            "Requirement already satisfied: oauth2client>=1.4.12 in /home/tjp1992/.pyenv/versions/3.8.12/envs/lewagon/lib/python3.8/site-packages (from google-apitools<0.5.32,>=0.5.31; extra == \"gcp\"->apache-beam[gcp]<3,>=2.29->tensorflow_data_validation==1.1.0) (4.1.3)\n",
            "Requirement already satisfied: fasteners>=0.14 in /home/tjp1992/.pyenv/versions/3.8.12/envs/lewagon/lib/python3.8/site-packages (from google-apitools<0.5.32,>=0.5.31; extra == \"gcp\"->apache-beam[gcp]<3,>=2.29->tensorflow_data_validation==1.1.0) (0.17.3)\n",
            "Requirement already satisfied: libcst>=0.2.5 in /home/tjp1992/.pyenv/versions/3.8.12/envs/lewagon/lib/python3.8/site-packages (from google-cloud-bigquery-storage>=2.6.3; extra == \"gcp\"->apache-beam[gcp]<3,>=2.29->tensorflow_data_validation==1.1.0) (0.3.23)\n",
            "Requirement already satisfied: google-crc32c<2.0dev,>=1.0; python_version >= \"3.5\" in /home/tjp1992/.pyenv/versions/3.8.12/envs/lewagon/lib/python3.8/site-packages (from google-resumable-media<2.0dev,>=0.6.0->google-cloud-bigquery<2.21,>=1.28.0->tfx-bsl<1.2,>=1.1->tensorflow_data_validation==1.1.0) (1.3.0)\n",
            "Requirement already satisfied: requests-oauthlib>=0.7.0 in /home/tjp1992/.pyenv/versions/3.8.12/envs/lewagon/lib/python3.8/site-packages (from google-auth-oauthlib<0.5,>=0.4.1->tensorboard~=2.6->tensorflow!=2.0.*,!=2.1.*,!=2.2.*,!=2.3.*,!=2.4.*,<3,>=1.15.2->tensorflow_data_validation==1.1.0) (1.3.0)\n",
            "Requirement already satisfied: importlib-metadata>=4.4; python_version < \"3.10\" in /home/tjp1992/.pyenv/versions/3.8.12/envs/lewagon/lib/python3.8/site-packages (from markdown>=2.6.8->tensorboard~=2.6->tensorflow!=2.0.*,!=2.1.*,!=2.2.*,!=2.3.*,!=2.4.*,<3,>=1.15.2->tensorflow_data_validation==1.1.0) (4.10.0)\n",
            "Requirement already satisfied: pyasn1<0.5.0,>=0.4.6 in /home/tjp1992/.pyenv/versions/3.8.12/envs/lewagon/lib/python3.8/site-packages (from pyasn1-modules>=0.2.1->google-auth<3,>=1.18.0; extra == \"gcp\"->apache-beam[gcp]<3,>=2.29->tensorflow_data_validation==1.1.0) (0.4.8)\n",
            "Requirement already satisfied: typing-inspect>=0.4.0 in /home/tjp1992/.pyenv/versions/3.8.12/envs/lewagon/lib/python3.8/site-packages (from libcst>=0.2.5->google-cloud-bigquery-storage>=2.6.3; extra == \"gcp\"->apache-beam[gcp]<3,>=2.29->tensorflow_data_validation==1.1.0) (0.7.1)\n",
            "Requirement already satisfied: pyyaml>=5.2 in /home/tjp1992/.pyenv/versions/3.8.12/envs/lewagon/lib/python3.8/site-packages (from libcst>=0.2.5->google-cloud-bigquery-storage>=2.6.3; extra == \"gcp\"->apache-beam[gcp]<3,>=2.29->tensorflow_data_validation==1.1.0) (6.0)\n",
            "Requirement already satisfied: oauthlib>=3.0.0 in /home/tjp1992/.pyenv/versions/3.8.12/envs/lewagon/lib/python3.8/site-packages (from requests-oauthlib>=0.7.0->google-auth-oauthlib<0.5,>=0.4.1->tensorboard~=2.6->tensorflow!=2.0.*,!=2.1.*,!=2.2.*,!=2.3.*,!=2.4.*,<3,>=1.15.2->tensorflow_data_validation==1.1.0) (3.1.1)\n",
            "Requirement already satisfied: zipp>=0.5 in /home/tjp1992/.pyenv/versions/3.8.12/envs/lewagon/lib/python3.8/site-packages (from importlib-metadata>=4.4; python_version < \"3.10\"->markdown>=2.6.8->tensorboard~=2.6->tensorflow!=2.0.*,!=2.1.*,!=2.2.*,!=2.3.*,!=2.4.*,<3,>=1.15.2->tensorflow_data_validation==1.1.0) (3.7.0)\n",
            "Requirement already satisfied: mypy-extensions>=0.3.0 in /home/tjp1992/.pyenv/versions/3.8.12/envs/lewagon/lib/python3.8/site-packages (from typing-inspect>=0.4.0->libcst>=0.2.5->google-cloud-bigquery-storage>=2.6.3; extra == \"gcp\"->apache-beam[gcp]<3,>=2.29->tensorflow_data_validation==1.1.0) (0.4.3)\n",
            "Building wheels for collected packages: dill\n",
            "  Building wheel for dill (setup.py) ... \u001b[?25ldone\n",
            "\u001b[?25h  Created wheel for dill: filename=dill-0.3.1.1-py3-none-any.whl size=78531 sha256=76206346d89a1c8758010440e5d29541e4c86e8f3a85196d72ffee26ad7757aa\n",
            "  Stored in directory: /home/tjp1992/.cache/pip/wheels/cc/f7/48/22bb9c8c35e6d86a02a8d3bc89f4462bc705ef75f6cbf84be0\n",
            "Successfully built dill\n",
            "Installing collected packages: numpy, pyarrow, joblib, tensorflow-metadata, google-cloud-core, google-resumable-media, google-cloud-bigquery, tfx-bsl, tensorflow_data_validation, cloudpickle, dill\n",
            "  Attempting uninstall: numpy\n",
            "    Found existing installation: numpy 1.22.3\n",
            "    Uninstalling numpy-1.22.3:\n",
            "      Successfully uninstalled numpy-1.22.3\n",
            "  Attempting uninstall: pyarrow\n",
            "    Found existing installation: pyarrow 6.0.1\n",
            "    Uninstalling pyarrow-6.0.1:\n",
            "      Successfully uninstalled pyarrow-6.0.1\n",
            "  Attempting uninstall: joblib\n",
            "    Found existing installation: joblib 1.0.1\n",
            "    Uninstalling joblib-1.0.1:\n",
            "      Successfully uninstalled joblib-1.0.1\n",
            "  Attempting uninstall: tensorflow-metadata\n",
            "    Found existing installation: tensorflow-metadata 1.5.0\n",
            "    Uninstalling tensorflow-metadata-1.5.0:\n",
            "      Successfully uninstalled tensorflow-metadata-1.5.0\n",
            "  Attempting uninstall: google-cloud-core\n",
            "    Found existing installation: google-cloud-core 2.2.1\n",
            "    Uninstalling google-cloud-core-2.2.1:\n",
            "      Successfully uninstalled google-cloud-core-2.2.1\n",
            "  Attempting uninstall: google-resumable-media\n",
            "    Found existing installation: google-resumable-media 2.1.0\n",
            "    Uninstalling google-resumable-media-2.1.0:\n",
            "      Successfully uninstalled google-resumable-media-2.1.0\n",
            "  Attempting uninstall: google-cloud-bigquery\n",
            "    Found existing installation: google-cloud-bigquery 2.31.0\n",
            "    Uninstalling google-cloud-bigquery-2.31.0:\n",
            "      Successfully uninstalled google-cloud-bigquery-2.31.0\n",
            "  Attempting uninstall: tfx-bsl\n",
            "    Found existing installation: tfx-bsl 1.9.0\n",
            "    Uninstalling tfx-bsl-1.9.0:\n",
            "      Successfully uninstalled tfx-bsl-1.9.0\n",
            "  Attempting uninstall: tensorflow_data_validation\n",
            "    Found existing installation: tensorflow-data-validation 1.9.0\n",
            "    Uninstalling tensorflow-data-validation-1.9.0:\n",
            "      Successfully uninstalled tensorflow-data-validation-1.9.0\n",
            "  Attempting uninstall: cloudpickle\n",
            "    Found existing installation: cloudpickle 2.0.0\n",
            "    Uninstalling cloudpickle-2.0.0:\n",
            "      Successfully uninstalled cloudpickle-2.0.0\n",
            "  Attempting uninstall: dill\n",
            "    Found existing installation: dill 0.3.4\n",
            "    Uninstalling dill-0.3.4:\n",
            "      Successfully uninstalled dill-0.3.4\n",
            "\u001b[31mERROR: pip's legacy dependency resolver does not consider dependency conflicts when selecting packages. This behaviour is the source of the following dependency conflicts.\n",
            "tfx 1.9.1 requires attrs<21,>=19.3.0, but you'll have attrs 21.4.0 which is incompatible.\n",
            "tfx 1.9.1 requires docker<5,>=4.1, but you'll have docker 5.0.3 which is incompatible.\n",
            "tfx 1.9.1 requires google-api-core<2, but you'll have google-api-core 2.3.2 which is incompatible.\n",
            "tfx 1.9.1 requires google-cloud-bigquery<3,>=2.26.0, but you'll have google-cloud-bigquery 2.20.0 which is incompatible.\n",
            "tfx 1.9.1 requires packaging<21,>=20, but you'll have packaging 21.3 which is incompatible.\n",
            "tfx 1.9.1 requires pyyaml<6,>=3.12, but you'll have pyyaml 6.0 which is incompatible.\n",
            "tfx 1.9.1 requires tensorflow!=2.0.*,!=2.1.*,!=2.2.*,!=2.3.*,!=2.4.*,!=2.5.*,!=2.6.*,!=2.7.*,!=2.8.*,<2.10,>=1.15.5, but you'll have tensorflow 2.7.0 which is incompatible.\n",
            "tfx 1.9.1 requires tensorflow-data-validation<1.10.0,>=1.9.0, but you'll have tensorflow-data-validation 1.1.0 which is incompatible.\n",
            "tfx 1.9.1 requires tfx-bsl<1.10.0,>=1.9.0, but you'll have tfx-bsl 1.1.1 which is incompatible.\n",
            "tensorflow-transform 1.9.0 requires tensorflow!=2.0.*,!=2.1.*,!=2.2.*,!=2.3.*,!=2.4.*,!=2.5.*,!=2.6.*,!=2.7.*,!=2.8.*,<2.10,>=1.15.5, but you'll have tensorflow 2.7.0 which is incompatible.\n",
            "tensorflow-transform 1.9.0 requires tensorflow-metadata<1.10.0,>=1.9.0, but you'll have tensorflow-metadata 1.1.0 which is incompatible.\n",
            "tensorflow-transform 1.9.0 requires tfx-bsl<1.10.0,>=1.9.0, but you'll have tfx-bsl 1.1.1 which is incompatible.\n",
            "tensorflow-serving-api 2.9.1 requires tensorflow<3,>=2.9.1, but you'll have tensorflow 2.7.0 which is incompatible.\n",
            "tensorflow-model-analysis 0.40.0 requires tensorflow!=2.0.*,!=2.1.*,!=2.2.*,!=2.3.*,!=2.4.*,!=2.5.*,!=2.6.*,!=2.7.*,!=2.8.*,<3,>=1.15.5, but you'll have tensorflow 2.7.0 which is incompatible.\n",
            "tensorflow-model-analysis 0.40.0 requires tensorflow-metadata<1.10.0,>=1.9.0, but you'll have tensorflow-metadata 1.1.0 which is incompatible.\n",
            "tensorflow-model-analysis 0.40.0 requires tfx-bsl<1.10.0,>=1.9.0, but you'll have tfx-bsl 1.1.1 which is incompatible.\n",
            "pandas-profiling 3.1.0 requires joblib~=1.0.1, but you'll have joblib 0.14.1 which is incompatible.\n",
            "pandas-gbq 0.16.0 requires pyarrow<7.0dev,>=3.0.0, but you'll have pyarrow 2.0.0 which is incompatible.\n",
            "google-cloud-storage 2.2.1 requires google-resumable-media>=2.3.2, but you'll have google-resumable-media 1.3.3 which is incompatible.\n",
            "google-cloud-core 1.7.3 requires google-auth<2.0dev,>=1.24.0, but you'll have google-auth 2.3.3 which is incompatible.\n",
            "google-cloud-bigquery 2.20.0 requires google-api-core[grpc]<2.0.0dev,>=1.29.0, but you'll have google-api-core 2.3.2 which is incompatible.\n",
            "google-cloud-aiplatform 1.16.1 requires google-api-core[grpc]!=2.0.*,!=2.1.*,!=2.2.*,!=2.3.*,!=2.4.*,!=2.5.*,!=2.6.*,!=2.7.*,<3.0.0dev,>=1.32.0, but you'll have google-api-core 2.3.2 which is incompatible.\n",
            "dataprep 0.4.3 requires numpy<2.0,>=1.21, but you'll have numpy 1.19.5 which is incompatible.\u001b[0m\u001b[31m\n",
            "\u001b[0mSuccessfully installed cloudpickle-2.2.0 dill-0.3.1.1 google-cloud-bigquery-2.20.0 google-cloud-core-1.7.3 google-resumable-media-1.3.3 joblib-0.14.1 numpy-1.19.5 pyarrow-2.0.0 tensorflow-metadata-1.1.0 tensorflow_data_validation-1.1.0 tfx-bsl-1.1.1\n",
            "Collecting tensorflow-transform==1.0.0\n",
            "  Downloading tensorflow_transform-1.0.0-py3-none-any.whl (402 kB)\n",
            "\u001b[2K     \u001b[90m━━━━━━━━━━━━━━━━━━━━━━━━━━━━━━━━━━━━━━━\u001b[0m \u001b[32m402.9/402.9 kB\u001b[0m \u001b[31m7.5 MB/s\u001b[0m eta \u001b[36m0:00:00\u001b[0m00:01\u001b[0m\n",
            "\u001b[?25hCollecting tensorflow-metadata<1.1.0,>=1.0.0\n",
            "  Downloading tensorflow_metadata-1.0.0-py3-none-any.whl (48 kB)\n",
            "\u001b[2K     \u001b[90m━━━━━━━━━━━━━━━━━━━━━━━━━━━━━━━━━━━━━━━━\u001b[0m \u001b[32m48.1/48.1 kB\u001b[0m \u001b[31m2.5 MB/s\u001b[0m eta \u001b[36m0:00:00\u001b[0m\n",
            "\u001b[?25hCollecting tfx-bsl<1.1.0,>=1.0.0\n",
            "  Downloading tfx_bsl-1.0.0-cp38-cp38-manylinux_2_12_x86_64.manylinux2010_x86_64.whl (2.2 MB)\n",
            "\u001b[2K     \u001b[90m━━━━━━━━━━━━━━━━━━━━━━━━━━━━━━━━━━━━━━━━\u001b[0m \u001b[32m2.2/2.2 MB\u001b[0m \u001b[31m5.3 MB/s\u001b[0m eta \u001b[36m0:00:00\u001b[0m00:01\u001b[0m00:01\u001b[0mm\n",
            "\u001b[?25hRequirement already satisfied: pydot<2,>=1.2 in /home/tjp1992/.pyenv/versions/3.8.12/envs/lewagon/lib/python3.8/site-packages (from tensorflow-transform==1.0.0) (1.4.2)\n",
            "Requirement already satisfied: absl-py<0.13,>=0.9 in /home/tjp1992/.pyenv/versions/3.8.12/envs/lewagon/lib/python3.8/site-packages (from tensorflow-transform==1.0.0) (0.12.0)\n",
            "Requirement already satisfied: numpy<1.20,>=1.16 in /home/tjp1992/.pyenv/versions/3.8.12/envs/lewagon/lib/python3.8/site-packages (from tensorflow-transform==1.0.0) (1.19.5)\n",
            "Requirement already satisfied: six<2,>=1.12 in /home/tjp1992/.pyenv/versions/3.8.12/envs/lewagon/lib/python3.8/site-packages (from tensorflow-transform==1.0.0) (1.16.0)\n",
            "Collecting tensorflow!=2.0.*,!=2.1.*,!=2.2.*,!=2.3.*,!=2.4.*,<2.6,>=1.15.2\n",
            "  Downloading tensorflow-2.5.3-cp38-cp38-manylinux2010_x86_64.whl (460.4 MB)\n",
            "\u001b[2K     \u001b[90m━━━━━━━━━━━━━━━━━━━━━━━━━━━━━━━━━━━━━\u001b[0m \u001b[32m460.4/460.4 MB\u001b[0m \u001b[31m955.7 kB/s\u001b[0m eta \u001b[36m0:00:00\u001b[0m00:01\u001b[0m00:02\u001b[0m\n",
            "\u001b[?25hRequirement already satisfied: pyarrow<3,>=1 in /home/tjp1992/.pyenv/versions/3.8.12/envs/lewagon/lib/python3.8/site-packages (from tensorflow-transform==1.0.0) (2.0.0)\n",
            "Requirement already satisfied: protobuf<4,>=3.9.2 in /home/tjp1992/.pyenv/versions/3.8.12/envs/lewagon/lib/python3.8/site-packages (from tensorflow-transform==1.0.0) (3.19.1)\n",
            "Requirement already satisfied: apache-beam[gcp]<3,>=2.29 in /home/tjp1992/.pyenv/versions/3.8.12/envs/lewagon/lib/python3.8/site-packages (from tensorflow-transform==1.0.0) (2.40.0)\n",
            "Requirement already satisfied: googleapis-common-protos<2,>=1.52.0 in /home/tjp1992/.pyenv/versions/3.8.12/envs/lewagon/lib/python3.8/site-packages (from tensorflow-metadata<1.1.0,>=1.0.0->tensorflow-transform==1.0.0) (1.54.0)\n",
            "Requirement already satisfied: google-api-python-client<2,>=1.7.11 in /home/tjp1992/.pyenv/versions/3.8.12/envs/lewagon/lib/python3.8/site-packages (from tfx-bsl<1.1.0,>=1.0.0->tensorflow-transform==1.0.0) (1.12.11)\n",
            "Requirement already satisfied: pandas<2,>=1.0 in /home/tjp1992/.pyenv/versions/3.8.12/envs/lewagon/lib/python3.8/site-packages (from tfx-bsl<1.1.0,>=1.0.0->tensorflow-transform==1.0.0) (1.3.5)\n",
            "Requirement already satisfied: tensorflow-serving-api!=2.0.*,!=2.1.*,!=2.2.*,!=2.3.*,!=2.4.*,<3,>=1.15 in /home/tjp1992/.pyenv/versions/3.8.12/envs/lewagon/lib/python3.8/site-packages (from tfx-bsl<1.1.0,>=1.0.0->tensorflow-transform==1.0.0) (2.9.1)\n",
            "Requirement already satisfied: pyparsing>=2.1.4 in /home/tjp1992/.pyenv/versions/3.8.12/envs/lewagon/lib/python3.8/site-packages (from pydot<2,>=1.2->tensorflow-transform==1.0.0) (3.0.6)\n",
            "Requirement already satisfied: tensorboard~=2.5 in /home/tjp1992/.pyenv/versions/3.8.12/envs/lewagon/lib/python3.8/site-packages (from tensorflow!=2.0.*,!=2.1.*,!=2.2.*,!=2.3.*,!=2.4.*,<2.6,>=1.15.2->tensorflow-transform==1.0.0) (2.7.0)\n",
            "Collecting tensorflow-estimator<2.6.0,>=2.5.0\n",
            "  Downloading tensorflow_estimator-2.5.0-py2.py3-none-any.whl (462 kB)\n",
            "\u001b[2K     \u001b[90m━━━━━━━━━━━━━━━━━━━━━━━━━━━━━━━━━━━━━━━\u001b[0m \u001b[32m462.4/462.4 kB\u001b[0m \u001b[31m4.0 MB/s\u001b[0m eta \u001b[36m0:00:00\u001b[0m00:01\u001b[0m00:01\u001b[0m\n",
            "\u001b[?25hRequirement already satisfied: google-pasta~=0.2 in /home/tjp1992/.pyenv/versions/3.8.12/envs/lewagon/lib/python3.8/site-packages (from tensorflow!=2.0.*,!=2.1.*,!=2.2.*,!=2.3.*,!=2.4.*,<2.6,>=1.15.2->tensorflow-transform==1.0.0) (0.2.0)\n",
            "Collecting typing-extensions~=3.7.4\n",
            "  Using cached typing_extensions-3.7.4.3-py3-none-any.whl (22 kB)\n",
            "Requirement already satisfied: termcolor~=1.1.0 in /home/tjp1992/.pyenv/versions/3.8.12/envs/lewagon/lib/python3.8/site-packages (from tensorflow!=2.0.*,!=2.1.*,!=2.2.*,!=2.3.*,!=2.4.*,<2.6,>=1.15.2->tensorflow-transform==1.0.0) (1.1.0)\n",
            "Requirement already satisfied: gast==0.4.0 in /home/tjp1992/.pyenv/versions/3.8.12/envs/lewagon/lib/python3.8/site-packages (from tensorflow!=2.0.*,!=2.1.*,!=2.2.*,!=2.3.*,!=2.4.*,<2.6,>=1.15.2->tensorflow-transform==1.0.0) (0.4.0)\n",
            "Requirement already satisfied: keras-preprocessing~=1.1.2 in /home/tjp1992/.pyenv/versions/3.8.12/envs/lewagon/lib/python3.8/site-packages (from tensorflow!=2.0.*,!=2.1.*,!=2.2.*,!=2.3.*,!=2.4.*,<2.6,>=1.15.2->tensorflow-transform==1.0.0) (1.1.2)\n",
            "Requirement already satisfied: wrapt~=1.12.1 in /home/tjp1992/.pyenv/versions/3.8.12/envs/lewagon/lib/python3.8/site-packages (from tensorflow!=2.0.*,!=2.1.*,!=2.2.*,!=2.3.*,!=2.4.*,<2.6,>=1.15.2->tensorflow-transform==1.0.0) (1.12.1)\n",
            "Collecting flatbuffers~=1.12.0\n",
            "  Using cached flatbuffers-1.12-py2.py3-none-any.whl (15 kB)\n",
            "Requirement already satisfied: wheel~=0.35 in /home/tjp1992/.pyenv/versions/3.8.12/envs/lewagon/lib/python3.8/site-packages (from tensorflow!=2.0.*,!=2.1.*,!=2.2.*,!=2.3.*,!=2.4.*,<2.6,>=1.15.2->tensorflow-transform==1.0.0) (0.37.1)\n",
            "Collecting keras-nightly~=2.5.0.dev\n",
            "  Downloading keras_nightly-2.5.0.dev2021032900-py2.py3-none-any.whl (1.2 MB)\n",
            "\u001b[2K     \u001b[90m━━━━━━━━━━━━━━━━━━━━━━━━━━━━━━━━━━━━━━━━\u001b[0m \u001b[32m1.2/1.2 MB\u001b[0m \u001b[31m5.9 MB/s\u001b[0m eta \u001b[36m0:00:00\u001b[0m00:01\u001b[0m00:01\u001b[0mm\n",
            "\u001b[?25hCollecting h5py~=3.1.0\n",
            "  Using cached h5py-3.1.0-cp38-cp38-manylinux1_x86_64.whl (4.4 MB)\n",
            "Requirement already satisfied: astunparse~=1.6.3 in /home/tjp1992/.pyenv/versions/3.8.12/envs/lewagon/lib/python3.8/site-packages (from tensorflow!=2.0.*,!=2.1.*,!=2.2.*,!=2.3.*,!=2.4.*,<2.6,>=1.15.2->tensorflow-transform==1.0.0) (1.6.3)\n",
            "Requirement already satisfied: opt-einsum~=3.3.0 in /home/tjp1992/.pyenv/versions/3.8.12/envs/lewagon/lib/python3.8/site-packages (from tensorflow!=2.0.*,!=2.1.*,!=2.2.*,!=2.3.*,!=2.4.*,<2.6,>=1.15.2->tensorflow-transform==1.0.0) (3.3.0)\n",
            "Collecting grpcio~=1.34.0\n",
            "  Downloading grpcio-1.34.1-cp38-cp38-manylinux2014_x86_64.whl (4.0 MB)\n",
            "\u001b[2K     \u001b[90m━━━━━━━━━━━━━━━━━━━━━━━━━━━━━━━━━━━━━━━━\u001b[0m \u001b[32m4.0/4.0 MB\u001b[0m \u001b[31m5.9 MB/s\u001b[0m eta \u001b[36m0:00:00\u001b[0m00:01\u001b[0m00:01\u001b[0mm\n",
            "\u001b[?25hRequirement already satisfied: cloudpickle<3,>=2.1.0 in /home/tjp1992/.pyenv/versions/3.8.12/envs/lewagon/lib/python3.8/site-packages (from apache-beam[gcp]<3,>=2.29->tensorflow-transform==1.0.0) (2.2.0)\n",
            "Requirement already satisfied: hdfs<3.0.0,>=2.1.0 in /home/tjp1992/.pyenv/versions/3.8.12/envs/lewagon/lib/python3.8/site-packages (from apache-beam[gcp]<3,>=2.29->tensorflow-transform==1.0.0) (2.7.0)\n",
            "Requirement already satisfied: proto-plus<2,>=1.7.1 in /home/tjp1992/.pyenv/versions/3.8.12/envs/lewagon/lib/python3.8/site-packages (from apache-beam[gcp]<3,>=2.29->tensorflow-transform==1.0.0) (1.19.8)\n",
            "Requirement already satisfied: orjson<4.0 in /home/tjp1992/.pyenv/versions/3.8.12/envs/lewagon/lib/python3.8/site-packages (from apache-beam[gcp]<3,>=2.29->tensorflow-transform==1.0.0) (3.7.11)\n",
            "Requirement already satisfied: pytz>=2018.3 in /home/tjp1992/.pyenv/versions/3.8.12/envs/lewagon/lib/python3.8/site-packages (from apache-beam[gcp]<3,>=2.29->tensorflow-transform==1.0.0) (2021.3)\n",
            "Requirement already satisfied: python-dateutil<3,>=2.8.0 in /home/tjp1992/.pyenv/versions/3.8.12/envs/lewagon/lib/python3.8/site-packages (from apache-beam[gcp]<3,>=2.29->tensorflow-transform==1.0.0) (2.8.2)\n",
            "Requirement already satisfied: requests<3.0.0,>=2.24.0 in /home/tjp1992/.pyenv/versions/3.8.12/envs/lewagon/lib/python3.8/site-packages (from apache-beam[gcp]<3,>=2.29->tensorflow-transform==1.0.0) (2.27.1)\n",
            "Requirement already satisfied: pymongo<4.0.0,>=3.8.0 in /home/tjp1992/.pyenv/versions/3.8.12/envs/lewagon/lib/python3.8/site-packages (from apache-beam[gcp]<3,>=2.29->tensorflow-transform==1.0.0) (3.12.3)\n",
            "Requirement already satisfied: fastavro<2,>=0.23.6 in /home/tjp1992/.pyenv/versions/3.8.12/envs/lewagon/lib/python3.8/site-packages (from apache-beam[gcp]<3,>=2.29->tensorflow-transform==1.0.0) (1.5.4)\n",
            "Requirement already satisfied: httplib2<0.21.0,>=0.8 in /home/tjp1992/.pyenv/versions/3.8.12/envs/lewagon/lib/python3.8/site-packages (from apache-beam[gcp]<3,>=2.29->tensorflow-transform==1.0.0) (0.20.4)\n",
            "Requirement already satisfied: crcmod<2.0,>=1.7 in /home/tjp1992/.pyenv/versions/3.8.12/envs/lewagon/lib/python3.8/site-packages (from apache-beam[gcp]<3,>=2.29->tensorflow-transform==1.0.0) (1.7)\n",
            "Requirement already satisfied: dill<0.3.2,>=0.3.1.1 in /home/tjp1992/.pyenv/versions/3.8.12/envs/lewagon/lib/python3.8/site-packages (from apache-beam[gcp]<3,>=2.29->tensorflow-transform==1.0.0) (0.3.1.1)\n",
            "Requirement already satisfied: google-apitools<0.5.32,>=0.5.31; extra == \"gcp\" in /home/tjp1992/.pyenv/versions/3.8.12/envs/lewagon/lib/python3.8/site-packages (from apache-beam[gcp]<3,>=2.29->tensorflow-transform==1.0.0) (0.5.31)\n",
            "Requirement already satisfied: google-cloud-bigtable<2,>=0.31.1; extra == \"gcp\" in /home/tjp1992/.pyenv/versions/3.8.12/envs/lewagon/lib/python3.8/site-packages (from apache-beam[gcp]<3,>=2.29->tensorflow-transform==1.0.0) (1.7.2)\n",
            "Requirement already satisfied: google-cloud-datastore<2,>=1.8.0; extra == \"gcp\" in /home/tjp1992/.pyenv/versions/3.8.12/envs/lewagon/lib/python3.8/site-packages (from apache-beam[gcp]<3,>=2.29->tensorflow-transform==1.0.0) (1.15.5)\n",
            "Requirement already satisfied: google-cloud-bigquery<3,>=1.6.0; extra == \"gcp\" in /home/tjp1992/.pyenv/versions/3.8.12/envs/lewagon/lib/python3.8/site-packages (from apache-beam[gcp]<3,>=2.29->tensorflow-transform==1.0.0) (2.20.0)\n",
            "Requirement already satisfied: google-cloud-vision<2,>=0.38.0; extra == \"gcp\" in /home/tjp1992/.pyenv/versions/3.8.12/envs/lewagon/lib/python3.8/site-packages (from apache-beam[gcp]<3,>=2.29->tensorflow-transform==1.0.0) (1.0.2)\n",
            "Requirement already satisfied: google-cloud-core<2,>=0.28.1; extra == \"gcp\" in /home/tjp1992/.pyenv/versions/3.8.12/envs/lewagon/lib/python3.8/site-packages (from apache-beam[gcp]<3,>=2.29->tensorflow-transform==1.0.0) (1.7.3)\n",
            "Requirement already satisfied: google-cloud-pubsub<3,>=2.1.0; extra == \"gcp\" in /home/tjp1992/.pyenv/versions/3.8.12/envs/lewagon/lib/python3.8/site-packages (from apache-beam[gcp]<3,>=2.29->tensorflow-transform==1.0.0) (2.13.4)\n",
            "Requirement already satisfied: google-cloud-videointelligence<2,>=1.8.0; extra == \"gcp\" in /home/tjp1992/.pyenv/versions/3.8.12/envs/lewagon/lib/python3.8/site-packages (from apache-beam[gcp]<3,>=2.29->tensorflow-transform==1.0.0) (1.16.3)\n",
            "Requirement already satisfied: google-auth<3,>=1.18.0; extra == \"gcp\" in /home/tjp1992/.pyenv/versions/3.8.12/envs/lewagon/lib/python3.8/site-packages (from apache-beam[gcp]<3,>=2.29->tensorflow-transform==1.0.0) (2.3.3)\n",
            "Requirement already satisfied: google-cloud-spanner<2,>=1.13.0; extra == \"gcp\" in /home/tjp1992/.pyenv/versions/3.8.12/envs/lewagon/lib/python3.8/site-packages (from apache-beam[gcp]<3,>=2.29->tensorflow-transform==1.0.0) (1.19.3)\n",
            "Requirement already satisfied: google-cloud-pubsublite<2,>=1.2.0; extra == \"gcp\" in /home/tjp1992/.pyenv/versions/3.8.12/envs/lewagon/lib/python3.8/site-packages (from apache-beam[gcp]<3,>=2.29->tensorflow-transform==1.0.0) (1.4.2)\n",
            "Requirement already satisfied: grpcio-gcp<1,>=0.2.2; extra == \"gcp\" in /home/tjp1992/.pyenv/versions/3.8.12/envs/lewagon/lib/python3.8/site-packages (from apache-beam[gcp]<3,>=2.29->tensorflow-transform==1.0.0) (0.2.2)\n",
            "Requirement already satisfied: google-cloud-dlp<4,>=3.0.0; extra == \"gcp\" in /home/tjp1992/.pyenv/versions/3.8.12/envs/lewagon/lib/python3.8/site-packages (from apache-beam[gcp]<3,>=2.29->tensorflow-transform==1.0.0) (3.8.0)\n",
            "Requirement already satisfied: google-cloud-bigquery-storage>=2.6.3; extra == \"gcp\" in /home/tjp1992/.pyenv/versions/3.8.12/envs/lewagon/lib/python3.8/site-packages (from apache-beam[gcp]<3,>=2.29->tensorflow-transform==1.0.0) (2.10.1)\n",
            "Requirement already satisfied: google-cloud-language<2,>=1.3.0; extra == \"gcp\" in /home/tjp1992/.pyenv/versions/3.8.12/envs/lewagon/lib/python3.8/site-packages (from apache-beam[gcp]<3,>=2.29->tensorflow-transform==1.0.0) (1.3.2)\n",
            "Requirement already satisfied: google-cloud-recommendations-ai<=0.2.0,>=0.1.0; extra == \"gcp\" in /home/tjp1992/.pyenv/versions/3.8.12/envs/lewagon/lib/python3.8/site-packages (from apache-beam[gcp]<3,>=2.29->tensorflow-transform==1.0.0) (0.2.0)\n",
            "Requirement already satisfied: cachetools<5,>=3.1.0; extra == \"gcp\" in /home/tjp1992/.pyenv/versions/3.8.12/envs/lewagon/lib/python3.8/site-packages (from apache-beam[gcp]<3,>=2.29->tensorflow-transform==1.0.0) (4.2.4)\n",
            "Requirement already satisfied: google-auth-httplib2<0.2.0,>=0.1.0; extra == \"gcp\" in /home/tjp1992/.pyenv/versions/3.8.12/envs/lewagon/lib/python3.8/site-packages (from apache-beam[gcp]<3,>=2.29->tensorflow-transform==1.0.0) (0.1.0)\n",
            "Requirement already satisfied: google-api-core<3dev,>=1.21.0; python_version >= \"3\" in /home/tjp1992/.pyenv/versions/3.8.12/envs/lewagon/lib/python3.8/site-packages (from google-api-python-client<2,>=1.7.11->tfx-bsl<1.1.0,>=1.0.0->tensorflow-transform==1.0.0) (2.3.2)\n",
            "Requirement already satisfied: uritemplate<4dev,>=3.0.0 in /home/tjp1992/.pyenv/versions/3.8.12/envs/lewagon/lib/python3.8/site-packages (from google-api-python-client<2,>=1.7.11->tfx-bsl<1.1.0,>=1.0.0->tensorflow-transform==1.0.0) (3.0.1)\n",
            "Requirement already satisfied: tensorboard-plugin-wit>=1.6.0 in /home/tjp1992/.pyenv/versions/3.8.12/envs/lewagon/lib/python3.8/site-packages (from tensorboard~=2.5->tensorflow!=2.0.*,!=2.1.*,!=2.2.*,!=2.3.*,!=2.4.*,<2.6,>=1.15.2->tensorflow-transform==1.0.0) (1.8.1)\n",
            "Requirement already satisfied: tensorboard-data-server<0.7.0,>=0.6.0 in /home/tjp1992/.pyenv/versions/3.8.12/envs/lewagon/lib/python3.8/site-packages (from tensorboard~=2.5->tensorflow!=2.0.*,!=2.1.*,!=2.2.*,!=2.3.*,!=2.4.*,<2.6,>=1.15.2->tensorflow-transform==1.0.0) (0.6.1)\n",
            "Requirement already satisfied: markdown>=2.6.8 in /home/tjp1992/.pyenv/versions/3.8.12/envs/lewagon/lib/python3.8/site-packages (from tensorboard~=2.5->tensorflow!=2.0.*,!=2.1.*,!=2.2.*,!=2.3.*,!=2.4.*,<2.6,>=1.15.2->tensorflow-transform==1.0.0) (3.3.6)\n",
            "Requirement already satisfied: google-auth-oauthlib<0.5,>=0.4.1 in /home/tjp1992/.pyenv/versions/3.8.12/envs/lewagon/lib/python3.8/site-packages (from tensorboard~=2.5->tensorflow!=2.0.*,!=2.1.*,!=2.2.*,!=2.3.*,!=2.4.*,<2.6,>=1.15.2->tensorflow-transform==1.0.0) (0.4.6)\n",
            "Requirement already satisfied: werkzeug>=0.11.15 in /home/tjp1992/.pyenv/versions/3.8.12/envs/lewagon/lib/python3.8/site-packages (from tensorboard~=2.5->tensorflow!=2.0.*,!=2.1.*,!=2.2.*,!=2.3.*,!=2.4.*,<2.6,>=1.15.2->tensorflow-transform==1.0.0) (2.0.2)\n",
            "Requirement already satisfied: setuptools>=41.0.0 in /home/tjp1992/.pyenv/versions/3.8.12/envs/lewagon/lib/python3.8/site-packages (from tensorboard~=2.5->tensorflow!=2.0.*,!=2.1.*,!=2.2.*,!=2.3.*,!=2.4.*,<2.6,>=1.15.2->tensorflow-transform==1.0.0) (56.0.0)\n",
            "Requirement already satisfied: docopt in /home/tjp1992/.pyenv/versions/3.8.12/envs/lewagon/lib/python3.8/site-packages (from hdfs<3.0.0,>=2.1.0->apache-beam[gcp]<3,>=2.29->tensorflow-transform==1.0.0) (0.6.2)\n",
            "Requirement already satisfied: idna<4,>=2.5; python_version >= \"3\" in /home/tjp1992/.pyenv/versions/3.8.12/envs/lewagon/lib/python3.8/site-packages (from requests<3.0.0,>=2.24.0->apache-beam[gcp]<3,>=2.29->tensorflow-transform==1.0.0) (3.3)\n",
            "Requirement already satisfied: urllib3<1.27,>=1.21.1 in /home/tjp1992/.pyenv/versions/3.8.12/envs/lewagon/lib/python3.8/site-packages (from requests<3.0.0,>=2.24.0->apache-beam[gcp]<3,>=2.29->tensorflow-transform==1.0.0) (1.26.7)\n",
            "Requirement already satisfied: certifi>=2017.4.17 in /home/tjp1992/.pyenv/versions/3.8.12/envs/lewagon/lib/python3.8/site-packages (from requests<3.0.0,>=2.24.0->apache-beam[gcp]<3,>=2.29->tensorflow-transform==1.0.0) (2021.10.8)\n",
            "Requirement already satisfied: charset-normalizer~=2.0.0; python_version >= \"3\" in /home/tjp1992/.pyenv/versions/3.8.12/envs/lewagon/lib/python3.8/site-packages (from requests<3.0.0,>=2.24.0->apache-beam[gcp]<3,>=2.29->tensorflow-transform==1.0.0) (2.0.10)\n",
            "Requirement already satisfied: fasteners>=0.14 in /home/tjp1992/.pyenv/versions/3.8.12/envs/lewagon/lib/python3.8/site-packages (from google-apitools<0.5.32,>=0.5.31; extra == \"gcp\"->apache-beam[gcp]<3,>=2.29->tensorflow-transform==1.0.0) (0.17.3)\n",
            "Requirement already satisfied: oauth2client>=1.4.12 in /home/tjp1992/.pyenv/versions/3.8.12/envs/lewagon/lib/python3.8/site-packages (from google-apitools<0.5.32,>=0.5.31; extra == \"gcp\"->apache-beam[gcp]<3,>=2.29->tensorflow-transform==1.0.0) (4.1.3)\n",
            "Requirement already satisfied: grpc-google-iam-v1<0.13dev,>=0.12.3 in /home/tjp1992/.pyenv/versions/3.8.12/envs/lewagon/lib/python3.8/site-packages (from google-cloud-bigtable<2,>=0.31.1; extra == \"gcp\"->apache-beam[gcp]<3,>=2.29->tensorflow-transform==1.0.0) (0.12.4)\n",
            "Requirement already satisfied: packaging>=14.3 in /home/tjp1992/.pyenv/versions/3.8.12/envs/lewagon/lib/python3.8/site-packages (from google-cloud-bigquery<3,>=1.6.0; extra == \"gcp\"->apache-beam[gcp]<3,>=2.29->tensorflow-transform==1.0.0) (21.3)\n",
            "Requirement already satisfied: google-resumable-media<2.0dev,>=0.6.0 in /home/tjp1992/.pyenv/versions/3.8.12/envs/lewagon/lib/python3.8/site-packages (from google-cloud-bigquery<3,>=1.6.0; extra == \"gcp\"->apache-beam[gcp]<3,>=2.29->tensorflow-transform==1.0.0) (1.3.3)\n",
            "Requirement already satisfied: grpcio-status>=1.16.0 in /home/tjp1992/.pyenv/versions/3.8.12/envs/lewagon/lib/python3.8/site-packages (from google-cloud-pubsub<3,>=2.1.0; extra == \"gcp\"->apache-beam[gcp]<3,>=2.29->tensorflow-transform==1.0.0) (1.43.0)\n",
            "Requirement already satisfied: pyasn1-modules>=0.2.1 in /home/tjp1992/.pyenv/versions/3.8.12/envs/lewagon/lib/python3.8/site-packages (from google-auth<3,>=1.18.0; extra == \"gcp\"->apache-beam[gcp]<3,>=2.29->tensorflow-transform==1.0.0) (0.2.8)\n",
            "Requirement already satisfied: rsa<5,>=3.1.4; python_version >= \"3.6\" in /home/tjp1992/.pyenv/versions/3.8.12/envs/lewagon/lib/python3.8/site-packages (from google-auth<3,>=1.18.0; extra == \"gcp\"->apache-beam[gcp]<3,>=2.29->tensorflow-transform==1.0.0) (4.8)\n",
            "Requirement already satisfied: overrides<7.0.0,>=6.0.1 in /home/tjp1992/.pyenv/versions/3.8.12/envs/lewagon/lib/python3.8/site-packages (from google-cloud-pubsublite<2,>=1.2.0; extra == \"gcp\"->apache-beam[gcp]<3,>=2.29->tensorflow-transform==1.0.0) (6.2.0)\n",
            "Requirement already satisfied: libcst>=0.2.5 in /home/tjp1992/.pyenv/versions/3.8.12/envs/lewagon/lib/python3.8/site-packages (from google-cloud-bigquery-storage>=2.6.3; extra == \"gcp\"->apache-beam[gcp]<3,>=2.29->tensorflow-transform==1.0.0) (0.3.23)\n",
            "Requirement already satisfied: importlib-metadata>=4.4; python_version < \"3.10\" in /home/tjp1992/.pyenv/versions/3.8.12/envs/lewagon/lib/python3.8/site-packages (from markdown>=2.6.8->tensorboard~=2.5->tensorflow!=2.0.*,!=2.1.*,!=2.2.*,!=2.3.*,!=2.4.*,<2.6,>=1.15.2->tensorflow-transform==1.0.0) (4.10.0)\n",
            "Requirement already satisfied: requests-oauthlib>=0.7.0 in /home/tjp1992/.pyenv/versions/3.8.12/envs/lewagon/lib/python3.8/site-packages (from google-auth-oauthlib<0.5,>=0.4.1->tensorboard~=2.5->tensorflow!=2.0.*,!=2.1.*,!=2.2.*,!=2.3.*,!=2.4.*,<2.6,>=1.15.2->tensorflow-transform==1.0.0) (1.3.0)\n",
            "Requirement already satisfied: pyasn1>=0.1.7 in /home/tjp1992/.pyenv/versions/3.8.12/envs/lewagon/lib/python3.8/site-packages (from oauth2client>=1.4.12->google-apitools<0.5.32,>=0.5.31; extra == \"gcp\"->apache-beam[gcp]<3,>=2.29->tensorflow-transform==1.0.0) (0.4.8)\n",
            "Requirement already satisfied: google-crc32c<2.0dev,>=1.0; python_version >= \"3.5\" in /home/tjp1992/.pyenv/versions/3.8.12/envs/lewagon/lib/python3.8/site-packages (from google-resumable-media<2.0dev,>=0.6.0->google-cloud-bigquery<3,>=1.6.0; extra == \"gcp\"->apache-beam[gcp]<3,>=2.29->tensorflow-transform==1.0.0) (1.3.0)\n",
            "Requirement already satisfied: pyyaml>=5.2 in /home/tjp1992/.pyenv/versions/3.8.12/envs/lewagon/lib/python3.8/site-packages (from libcst>=0.2.5->google-cloud-bigquery-storage>=2.6.3; extra == \"gcp\"->apache-beam[gcp]<3,>=2.29->tensorflow-transform==1.0.0) (6.0)\n",
            "Requirement already satisfied: typing-inspect>=0.4.0 in /home/tjp1992/.pyenv/versions/3.8.12/envs/lewagon/lib/python3.8/site-packages (from libcst>=0.2.5->google-cloud-bigquery-storage>=2.6.3; extra == \"gcp\"->apache-beam[gcp]<3,>=2.29->tensorflow-transform==1.0.0) (0.7.1)\n",
            "Requirement already satisfied: zipp>=0.5 in /home/tjp1992/.pyenv/versions/3.8.12/envs/lewagon/lib/python3.8/site-packages (from importlib-metadata>=4.4; python_version < \"3.10\"->markdown>=2.6.8->tensorboard~=2.5->tensorflow!=2.0.*,!=2.1.*,!=2.2.*,!=2.3.*,!=2.4.*,<2.6,>=1.15.2->tensorflow-transform==1.0.0) (3.7.0)\n",
            "Requirement already satisfied: oauthlib>=3.0.0 in /home/tjp1992/.pyenv/versions/3.8.12/envs/lewagon/lib/python3.8/site-packages (from requests-oauthlib>=0.7.0->google-auth-oauthlib<0.5,>=0.4.1->tensorboard~=2.5->tensorflow!=2.0.*,!=2.1.*,!=2.2.*,!=2.3.*,!=2.4.*,<2.6,>=1.15.2->tensorflow-transform==1.0.0) (3.1.1)\n",
            "Requirement already satisfied: mypy-extensions>=0.3.0 in /home/tjp1992/.pyenv/versions/3.8.12/envs/lewagon/lib/python3.8/site-packages (from typing-inspect>=0.4.0->libcst>=0.2.5->google-cloud-bigquery-storage>=2.6.3; extra == \"gcp\"->apache-beam[gcp]<3,>=2.29->tensorflow-transform==1.0.0) (0.4.3)\n",
            "Installing collected packages: tensorflow-metadata, tensorflow-estimator, typing-extensions, flatbuffers, keras-nightly, h5py, grpcio, tensorflow, tfx-bsl, tensorflow-transform\n",
            "  Attempting uninstall: tensorflow-metadata\n",
            "    Found existing installation: tensorflow-metadata 1.1.0\n",
            "    Uninstalling tensorflow-metadata-1.1.0:\n",
            "      Successfully uninstalled tensorflow-metadata-1.1.0\n",
            "  Attempting uninstall: tensorflow-estimator\n",
            "    Found existing installation: tensorflow-estimator 2.7.0\n",
            "    Uninstalling tensorflow-estimator-2.7.0:\n",
            "      Successfully uninstalled tensorflow-estimator-2.7.0\n",
            "  Attempting uninstall: typing-extensions\n",
            "    Found existing installation: typing_extensions 4.0.1\n",
            "    Uninstalling typing_extensions-4.0.1:\n",
            "      Successfully uninstalled typing_extensions-4.0.1\n",
            "  Attempting uninstall: flatbuffers\n",
            "    Found existing installation: flatbuffers 2.0\n",
            "    Uninstalling flatbuffers-2.0:\n",
            "      Successfully uninstalled flatbuffers-2.0\n",
            "  Attempting uninstall: h5py\n",
            "    Found existing installation: h5py 3.6.0\n",
            "    Uninstalling h5py-3.6.0:\n",
            "      Successfully uninstalled h5py-3.6.0\n",
            "  Attempting uninstall: grpcio\n",
            "    Found existing installation: grpcio 1.43.0\n",
            "    Uninstalling grpcio-1.43.0:\n",
            "      Successfully uninstalled grpcio-1.43.0\n",
            "  Attempting uninstall: tensorflow\n",
            "    Found existing installation: tensorflow 2.7.0\n",
            "    Uninstalling tensorflow-2.7.0:\n",
            "      Successfully uninstalled tensorflow-2.7.0\n",
            "  Attempting uninstall: tfx-bsl\n",
            "    Found existing installation: tfx-bsl 1.1.1\n",
            "    Uninstalling tfx-bsl-1.1.1:\n",
            "      Successfully uninstalled tfx-bsl-1.1.1\n",
            "  Attempting uninstall: tensorflow-transform\n",
            "    Found existing installation: tensorflow-transform 1.9.0\n",
            "    Uninstalling tensorflow-transform-1.9.0:\n",
            "      Successfully uninstalled tensorflow-transform-1.9.0\n",
            "\u001b[31mERROR: pip's legacy dependency resolver does not consider dependency conflicts when selecting packages. This behaviour is the source of the following dependency conflicts.\n",
            "tfx 1.9.1 requires attrs<21,>=19.3.0, but you'll have attrs 21.4.0 which is incompatible.\n",
            "tfx 1.9.1 requires docker<5,>=4.1, but you'll have docker 5.0.3 which is incompatible.\n",
            "tfx 1.9.1 requires google-api-core<2, but you'll have google-api-core 2.3.2 which is incompatible.\n",
            "tfx 1.9.1 requires google-cloud-bigquery<3,>=2.26.0, but you'll have google-cloud-bigquery 2.20.0 which is incompatible.\n",
            "tfx 1.9.1 requires packaging<21,>=20, but you'll have packaging 21.3 which is incompatible.\n",
            "tfx 1.9.1 requires pyyaml<6,>=3.12, but you'll have pyyaml 6.0 which is incompatible.\n",
            "tfx 1.9.1 requires tensorflow!=2.0.*,!=2.1.*,!=2.2.*,!=2.3.*,!=2.4.*,!=2.5.*,!=2.6.*,!=2.7.*,!=2.8.*,<2.10,>=1.15.5, but you'll have tensorflow 2.5.3 which is incompatible.\n",
            "tfx 1.9.1 requires tensorflow-data-validation<1.10.0,>=1.9.0, but you'll have tensorflow-data-validation 1.1.0 which is incompatible.\n",
            "tfx 1.9.1 requires tensorflow-transform<1.10.0,>=1.9.0, but you'll have tensorflow-transform 1.0.0 which is incompatible.\n",
            "tfx 1.9.1 requires tfx-bsl<1.10.0,>=1.9.0, but you'll have tfx-bsl 1.0.0 which is incompatible.\n",
            "tfx 1.9.1 requires typing-extensions<5,>=3.10.0.2, but you'll have typing-extensions 3.7.4.3 which is incompatible.\n",
            "tensorflow 2.5.3 requires six~=1.15.0, but you'll have six 1.16.0 which is incompatible.\n",
            "tensorflow-serving-api 2.9.1 requires tensorflow<3,>=2.9.1, but you'll have tensorflow 2.5.3 which is incompatible.\n",
            "tensorflow-model-analysis 0.40.0 requires tensorflow!=2.0.*,!=2.1.*,!=2.2.*,!=2.3.*,!=2.4.*,!=2.5.*,!=2.6.*,!=2.7.*,!=2.8.*,<3,>=1.15.5, but you'll have tensorflow 2.5.3 which is incompatible.\n",
            "tensorflow-model-analysis 0.40.0 requires tensorflow-metadata<1.10.0,>=1.9.0, but you'll have tensorflow-metadata 1.0.0 which is incompatible.\n",
            "tensorflow-model-analysis 0.40.0 requires tfx-bsl<1.10.0,>=1.9.0, but you'll have tfx-bsl 1.0.0 which is incompatible.\n",
            "tensorflow-data-validation 1.1.0 requires tensorflow-metadata<1.2,>=1.1, but you'll have tensorflow-metadata 1.0.0 which is incompatible.\n",
            "tensorflow-data-validation 1.1.0 requires tfx-bsl<1.2,>=1.1, but you'll have tfx-bsl 1.0.0 which is incompatible.\n",
            "pandas-profiling 3.1.0 requires joblib~=1.0.1, but you'll have joblib 0.14.1 which is incompatible.\n",
            "ml-metadata 1.9.0 requires attrs<21,>=20.3, but you'll have attrs 21.4.0 which is incompatible.\n",
            "grpcio-status 1.43.0 requires grpcio>=1.43.0, but you'll have grpcio 1.34.1 which is incompatible.\n",
            "grpc-google-iam-v1 0.12.4 requires googleapis-common-protos[grpc]<2.0.0dev,>=1.56.0, but you'll have googleapis-common-protos 1.54.0 which is incompatible.\n",
            "google-cloud-resource-manager 1.6.1 requires google-api-core[grpc]!=2.0.*,!=2.1.*,!=2.2.*,!=2.3.*,!=2.4.*,!=2.5.*,!=2.6.*,!=2.7.*,<3.0.0dev,>=1.32.0, but you'll have google-api-core 2.3.2 which is incompatible.\n",
            "google-cloud-resource-manager 1.6.1 requires proto-plus<2.0.0dev,>=1.22.0, but you'll have proto-plus 1.19.8 which is incompatible.\n",
            "google-cloud-pubsub 2.13.4 requires google-api-core[grpc]!=2.0.*,!=2.1.*,!=2.2.*,!=2.3.*,!=2.4.*,!=2.5.*,!=2.6.*,!=2.7.*,<3.0.0dev,>=1.32.0, but you'll have google-api-core 2.3.2 which is incompatible.\n",
            "google-cloud-pubsub 2.13.4 requires grpcio<2.0dev,>=1.38.1, but you'll have grpcio 1.34.1 which is incompatible.\n",
            "google-cloud-aiplatform 1.16.1 requires google-api-core[grpc]!=2.0.*,!=2.1.*,!=2.2.*,!=2.3.*,!=2.4.*,!=2.5.*,!=2.6.*,!=2.7.*,<3.0.0dev,>=1.32.0, but you'll have google-api-core 2.3.2 which is incompatible.\n",
            "dataprep 0.4.3 requires numpy<2.0,>=1.21, but you'll have numpy 1.19.5 which is incompatible.\n",
            "bokeh 2.4.2 requires typing-extensions>=3.10.0, but you'll have typing-extensions 3.7.4.3 which is incompatible.\n",
            "black 21.12b0 requires typing-extensions>=3.10.0.0, but you'll have typing-extensions 3.7.4.3 which is incompatible.\u001b[0m\u001b[31m\n",
            "\u001b[0mSuccessfully installed flatbuffers-1.12 grpcio-1.34.1 h5py-3.1.0 keras-nightly-2.5.0.dev2021032900 tensorflow-2.5.3 tensorflow-estimator-2.5.0 tensorflow-metadata-1.0.0 tensorflow-transform-1.0.0 tfx-bsl-1.0.0 typing-extensions-3.7.4.3\n",
            "Collecting tensorflow-model-analysis==0.32.0\n",
            "  Downloading tensorflow_model_analysis-0.32.0-py3-none-any.whl (1.7 MB)\n",
            "\u001b[2K     \u001b[90m━━━━━━━━━━━━━━━━━━━━━━━━━━━━━━━━━━━━━━━━\u001b[0m \u001b[32m1.7/1.7 MB\u001b[0m \u001b[31m4.0 MB/s\u001b[0m eta \u001b[36m0:00:00\u001b[0m00:01\u001b[0m00:01\u001b[0mm\n",
            "\u001b[?25hRequirement already satisfied: ipywidgets<8,>=7 in /home/tjp1992/.pyenv/versions/3.8.12/envs/lewagon/lib/python3.8/site-packages (from tensorflow-model-analysis==0.32.0) (7.6.5)\n",
            "Collecting tensorflow-metadata<1.2.0,>=1.1.0\n",
            "  Using cached tensorflow_metadata-1.1.0-py3-none-any.whl (48 kB)\n",
            "Requirement already satisfied: numpy<1.20,>=1.16 in /home/tjp1992/.pyenv/versions/3.8.12/envs/lewagon/lib/python3.8/site-packages (from tensorflow-model-analysis==0.32.0) (1.19.5)\n",
            "Requirement already satisfied: pyarrow<3,>=1 in /home/tjp1992/.pyenv/versions/3.8.12/envs/lewagon/lib/python3.8/site-packages (from tensorflow-model-analysis==0.32.0) (2.0.0)\n",
            "Requirement already satisfied: ipython<8,>=7 in /home/tjp1992/.pyenv/versions/3.8.12/envs/lewagon/lib/python3.8/site-packages (from tensorflow-model-analysis==0.32.0) (7.31.0)\n",
            "Requirement already satisfied: absl-py<0.13,>=0.9 in /home/tjp1992/.pyenv/versions/3.8.12/envs/lewagon/lib/python3.8/site-packages (from tensorflow-model-analysis==0.32.0) (0.12.0)\n",
            "Requirement already satisfied: six<2,>=1.12 in /home/tjp1992/.pyenv/versions/3.8.12/envs/lewagon/lib/python3.8/site-packages (from tensorflow-model-analysis==0.32.0) (1.16.0)\n",
            "Requirement already satisfied: protobuf<4,>=3.13 in /home/tjp1992/.pyenv/versions/3.8.12/envs/lewagon/lib/python3.8/site-packages (from tensorflow-model-analysis==0.32.0) (3.19.1)\n",
            "Requirement already satisfied: pandas<2,>=1.0 in /home/tjp1992/.pyenv/versions/3.8.12/envs/lewagon/lib/python3.8/site-packages (from tensorflow-model-analysis==0.32.0) (1.3.5)\n",
            "Requirement already satisfied: scipy<2,>=1.4.1 in /home/tjp1992/.pyenv/versions/3.8.12/envs/lewagon/lib/python3.8/site-packages (from tensorflow-model-analysis==0.32.0) (1.7.1)\n",
            "Collecting tfx-bsl<1.2.0,>=1.1.0\n",
            "  Using cached tfx_bsl-1.1.1-cp38-cp38-manylinux_2_12_x86_64.manylinux2010_x86_64.whl (19.0 MB)\n",
            "Requirement already satisfied: apache-beam[gcp]<3,>=2.29 in /home/tjp1992/.pyenv/versions/3.8.12/envs/lewagon/lib/python3.8/site-packages (from tensorflow-model-analysis==0.32.0) (2.40.0)\n",
            "Requirement already satisfied: tensorflow!=2.0.*,!=2.1.*,!=2.2.*,!=2.3.*,!=2.4.*,<3,>=1.15.2 in /home/tjp1992/.pyenv/versions/3.8.12/envs/lewagon/lib/python3.8/site-packages (from tensorflow-model-analysis==0.32.0) (2.5.3)\n",
            "Requirement already satisfied: jupyterlab-widgets>=1.0.0; python_version >= \"3.6\" in /home/tjp1992/.pyenv/versions/3.8.12/envs/lewagon/lib/python3.8/site-packages (from ipywidgets<8,>=7->tensorflow-model-analysis==0.32.0) (1.0.2)\n",
            "Requirement already satisfied: nbformat>=4.2.0 in /home/tjp1992/.pyenv/versions/3.8.12/envs/lewagon/lib/python3.8/site-packages (from ipywidgets<8,>=7->tensorflow-model-analysis==0.32.0) (5.1.3)\n",
            "Requirement already satisfied: widgetsnbextension~=3.5.0 in /home/tjp1992/.pyenv/versions/3.8.12/envs/lewagon/lib/python3.8/site-packages (from ipywidgets<8,>=7->tensorflow-model-analysis==0.32.0) (3.5.2)\n",
            "Requirement already satisfied: ipykernel>=4.5.1 in /home/tjp1992/.pyenv/versions/3.8.12/envs/lewagon/lib/python3.8/site-packages (from ipywidgets<8,>=7->tensorflow-model-analysis==0.32.0) (6.6.1)\n",
            "Requirement already satisfied: traitlets>=4.3.1 in /home/tjp1992/.pyenv/versions/3.8.12/envs/lewagon/lib/python3.8/site-packages (from ipywidgets<8,>=7->tensorflow-model-analysis==0.32.0) (5.1.1)\n",
            "Requirement already satisfied: ipython-genutils~=0.2.0 in /home/tjp1992/.pyenv/versions/3.8.12/envs/lewagon/lib/python3.8/site-packages (from ipywidgets<8,>=7->tensorflow-model-analysis==0.32.0) (0.2.0)\n",
            "Requirement already satisfied: googleapis-common-protos<2,>=1.52.0 in /home/tjp1992/.pyenv/versions/3.8.12/envs/lewagon/lib/python3.8/site-packages (from tensorflow-metadata<1.2.0,>=1.1.0->tensorflow-model-analysis==0.32.0) (1.54.0)\n",
            "Requirement already satisfied: jedi>=0.16 in /home/tjp1992/.pyenv/versions/3.8.12/envs/lewagon/lib/python3.8/site-packages (from ipython<8,>=7->tensorflow-model-analysis==0.32.0) (0.18.1)\n",
            "Requirement already satisfied: prompt-toolkit!=3.0.0,!=3.0.1,<3.1.0,>=2.0.0 in /home/tjp1992/.pyenv/versions/3.8.12/envs/lewagon/lib/python3.8/site-packages (from ipython<8,>=7->tensorflow-model-analysis==0.32.0) (3.0.24)\n",
            "Requirement already satisfied: pygments in /home/tjp1992/.pyenv/versions/3.8.12/envs/lewagon/lib/python3.8/site-packages (from ipython<8,>=7->tensorflow-model-analysis==0.32.0) (2.11.2)\n",
            "Requirement already satisfied: pexpect>4.3; sys_platform != \"win32\" in /home/tjp1992/.pyenv/versions/3.8.12/envs/lewagon/lib/python3.8/site-packages (from ipython<8,>=7->tensorflow-model-analysis==0.32.0) (4.8.0)\n",
            "Requirement already satisfied: setuptools>=18.5 in /home/tjp1992/.pyenv/versions/3.8.12/envs/lewagon/lib/python3.8/site-packages (from ipython<8,>=7->tensorflow-model-analysis==0.32.0) (56.0.0)\n",
            "Requirement already satisfied: backcall in /home/tjp1992/.pyenv/versions/3.8.12/envs/lewagon/lib/python3.8/site-packages (from ipython<8,>=7->tensorflow-model-analysis==0.32.0) (0.2.0)\n",
            "Requirement already satisfied: matplotlib-inline in /home/tjp1992/.pyenv/versions/3.8.12/envs/lewagon/lib/python3.8/site-packages (from ipython<8,>=7->tensorflow-model-analysis==0.32.0) (0.1.3)\n",
            "Requirement already satisfied: decorator in /home/tjp1992/.pyenv/versions/3.8.12/envs/lewagon/lib/python3.8/site-packages (from ipython<8,>=7->tensorflow-model-analysis==0.32.0) (5.1.0)\n",
            "Requirement already satisfied: pickleshare in /home/tjp1992/.pyenv/versions/3.8.12/envs/lewagon/lib/python3.8/site-packages (from ipython<8,>=7->tensorflow-model-analysis==0.32.0) (0.7.5)\n",
            "Requirement already satisfied: python-dateutil>=2.7.3 in /home/tjp1992/.pyenv/versions/3.8.12/envs/lewagon/lib/python3.8/site-packages (from pandas<2,>=1.0->tensorflow-model-analysis==0.32.0) (2.8.2)\n",
            "Requirement already satisfied: pytz>=2017.3 in /home/tjp1992/.pyenv/versions/3.8.12/envs/lewagon/lib/python3.8/site-packages (from pandas<2,>=1.0->tensorflow-model-analysis==0.32.0) (2021.3)\n",
            "Requirement already satisfied: google-cloud-bigquery<2.21,>=1.28.0 in /home/tjp1992/.pyenv/versions/3.8.12/envs/lewagon/lib/python3.8/site-packages (from tfx-bsl<1.2.0,>=1.1.0->tensorflow-model-analysis==0.32.0) (2.20.0)\n",
            "Requirement already satisfied: google-api-python-client<2,>=1.7.11 in /home/tjp1992/.pyenv/versions/3.8.12/envs/lewagon/lib/python3.8/site-packages (from tfx-bsl<1.2.0,>=1.1.0->tensorflow-model-analysis==0.32.0) (1.12.11)\n",
            "Requirement already satisfied: tensorflow-serving-api!=2.0.*,!=2.1.*,!=2.2.*,!=2.3.*,!=2.4.*,<3,>=1.15 in /home/tjp1992/.pyenv/versions/3.8.12/envs/lewagon/lib/python3.8/site-packages (from tfx-bsl<1.2.0,>=1.1.0->tensorflow-model-analysis==0.32.0) (2.9.1)\n",
            "Requirement already satisfied: orjson<4.0 in /home/tjp1992/.pyenv/versions/3.8.12/envs/lewagon/lib/python3.8/site-packages (from apache-beam[gcp]<3,>=2.29->tensorflow-model-analysis==0.32.0) (3.7.11)\n",
            "Requirement already satisfied: grpcio<2,>=1.33.1 in /home/tjp1992/.pyenv/versions/3.8.12/envs/lewagon/lib/python3.8/site-packages (from apache-beam[gcp]<3,>=2.29->tensorflow-model-analysis==0.32.0) (1.34.1)\n",
            "Requirement already satisfied: pydot<2,>=1.2.0 in /home/tjp1992/.pyenv/versions/3.8.12/envs/lewagon/lib/python3.8/site-packages (from apache-beam[gcp]<3,>=2.29->tensorflow-model-analysis==0.32.0) (1.4.2)\n",
            "Requirement already satisfied: httplib2<0.21.0,>=0.8 in /home/tjp1992/.pyenv/versions/3.8.12/envs/lewagon/lib/python3.8/site-packages (from apache-beam[gcp]<3,>=2.29->tensorflow-model-analysis==0.32.0) (0.20.4)\n",
            "Requirement already satisfied: dill<0.3.2,>=0.3.1.1 in /home/tjp1992/.pyenv/versions/3.8.12/envs/lewagon/lib/python3.8/site-packages (from apache-beam[gcp]<3,>=2.29->tensorflow-model-analysis==0.32.0) (0.3.1.1)\n",
            "Requirement already satisfied: crcmod<2.0,>=1.7 in /home/tjp1992/.pyenv/versions/3.8.12/envs/lewagon/lib/python3.8/site-packages (from apache-beam[gcp]<3,>=2.29->tensorflow-model-analysis==0.32.0) (1.7)\n",
            "Requirement already satisfied: cloudpickle<3,>=2.1.0 in /home/tjp1992/.pyenv/versions/3.8.12/envs/lewagon/lib/python3.8/site-packages (from apache-beam[gcp]<3,>=2.29->tensorflow-model-analysis==0.32.0) (2.2.0)\n",
            "Requirement already satisfied: typing-extensions>=3.7.0 in /home/tjp1992/.pyenv/versions/3.8.12/envs/lewagon/lib/python3.8/site-packages (from apache-beam[gcp]<3,>=2.29->tensorflow-model-analysis==0.32.0) (3.7.4.3)\n",
            "Requirement already satisfied: requests<3.0.0,>=2.24.0 in /home/tjp1992/.pyenv/versions/3.8.12/envs/lewagon/lib/python3.8/site-packages (from apache-beam[gcp]<3,>=2.29->tensorflow-model-analysis==0.32.0) (2.27.1)\n",
            "Requirement already satisfied: proto-plus<2,>=1.7.1 in /home/tjp1992/.pyenv/versions/3.8.12/envs/lewagon/lib/python3.8/site-packages (from apache-beam[gcp]<3,>=2.29->tensorflow-model-analysis==0.32.0) (1.19.8)\n",
            "Requirement already satisfied: pymongo<4.0.0,>=3.8.0 in /home/tjp1992/.pyenv/versions/3.8.12/envs/lewagon/lib/python3.8/site-packages (from apache-beam[gcp]<3,>=2.29->tensorflow-model-analysis==0.32.0) (3.12.3)\n",
            "Requirement already satisfied: fastavro<2,>=0.23.6 in /home/tjp1992/.pyenv/versions/3.8.12/envs/lewagon/lib/python3.8/site-packages (from apache-beam[gcp]<3,>=2.29->tensorflow-model-analysis==0.32.0) (1.5.4)\n",
            "Requirement already satisfied: hdfs<3.0.0,>=2.1.0 in /home/tjp1992/.pyenv/versions/3.8.12/envs/lewagon/lib/python3.8/site-packages (from apache-beam[gcp]<3,>=2.29->tensorflow-model-analysis==0.32.0) (2.7.0)\n",
            "Requirement already satisfied: google-cloud-videointelligence<2,>=1.8.0; extra == \"gcp\" in /home/tjp1992/.pyenv/versions/3.8.12/envs/lewagon/lib/python3.8/site-packages (from apache-beam[gcp]<3,>=2.29->tensorflow-model-analysis==0.32.0) (1.16.3)\n",
            "Requirement already satisfied: google-cloud-bigtable<2,>=0.31.1; extra == \"gcp\" in /home/tjp1992/.pyenv/versions/3.8.12/envs/lewagon/lib/python3.8/site-packages (from apache-beam[gcp]<3,>=2.29->tensorflow-model-analysis==0.32.0) (1.7.2)\n",
            "Requirement already satisfied: google-cloud-dlp<4,>=3.0.0; extra == \"gcp\" in /home/tjp1992/.pyenv/versions/3.8.12/envs/lewagon/lib/python3.8/site-packages (from apache-beam[gcp]<3,>=2.29->tensorflow-model-analysis==0.32.0) (3.8.0)\n",
            "Requirement already satisfied: grpcio-gcp<1,>=0.2.2; extra == \"gcp\" in /home/tjp1992/.pyenv/versions/3.8.12/envs/lewagon/lib/python3.8/site-packages (from apache-beam[gcp]<3,>=2.29->tensorflow-model-analysis==0.32.0) (0.2.2)\n",
            "Requirement already satisfied: google-auth<3,>=1.18.0; extra == \"gcp\" in /home/tjp1992/.pyenv/versions/3.8.12/envs/lewagon/lib/python3.8/site-packages (from apache-beam[gcp]<3,>=2.29->tensorflow-model-analysis==0.32.0) (2.3.3)\n",
            "Requirement already satisfied: google-cloud-spanner<2,>=1.13.0; extra == \"gcp\" in /home/tjp1992/.pyenv/versions/3.8.12/envs/lewagon/lib/python3.8/site-packages (from apache-beam[gcp]<3,>=2.29->tensorflow-model-analysis==0.32.0) (1.19.3)\n",
            "Requirement already satisfied: google-cloud-recommendations-ai<=0.2.0,>=0.1.0; extra == \"gcp\" in /home/tjp1992/.pyenv/versions/3.8.12/envs/lewagon/lib/python3.8/site-packages (from apache-beam[gcp]<3,>=2.29->tensorflow-model-analysis==0.32.0) (0.2.0)\n",
            "Requirement already satisfied: google-cloud-pubsub<3,>=2.1.0; extra == \"gcp\" in /home/tjp1992/.pyenv/versions/3.8.12/envs/lewagon/lib/python3.8/site-packages (from apache-beam[gcp]<3,>=2.29->tensorflow-model-analysis==0.32.0) (2.13.4)\n",
            "Requirement already satisfied: google-cloud-language<2,>=1.3.0; extra == \"gcp\" in /home/tjp1992/.pyenv/versions/3.8.12/envs/lewagon/lib/python3.8/site-packages (from apache-beam[gcp]<3,>=2.29->tensorflow-model-analysis==0.32.0) (1.3.2)\n",
            "Requirement already satisfied: cachetools<5,>=3.1.0; extra == \"gcp\" in /home/tjp1992/.pyenv/versions/3.8.12/envs/lewagon/lib/python3.8/site-packages (from apache-beam[gcp]<3,>=2.29->tensorflow-model-analysis==0.32.0) (4.2.4)\n",
            "Requirement already satisfied: google-apitools<0.5.32,>=0.5.31; extra == \"gcp\" in /home/tjp1992/.pyenv/versions/3.8.12/envs/lewagon/lib/python3.8/site-packages (from apache-beam[gcp]<3,>=2.29->tensorflow-model-analysis==0.32.0) (0.5.31)\n",
            "Requirement already satisfied: google-cloud-core<2,>=0.28.1; extra == \"gcp\" in /home/tjp1992/.pyenv/versions/3.8.12/envs/lewagon/lib/python3.8/site-packages (from apache-beam[gcp]<3,>=2.29->tensorflow-model-analysis==0.32.0) (1.7.3)\n",
            "Requirement already satisfied: google-cloud-datastore<2,>=1.8.0; extra == \"gcp\" in /home/tjp1992/.pyenv/versions/3.8.12/envs/lewagon/lib/python3.8/site-packages (from apache-beam[gcp]<3,>=2.29->tensorflow-model-analysis==0.32.0) (1.15.5)\n",
            "Requirement already satisfied: google-cloud-bigquery-storage>=2.6.3; extra == \"gcp\" in /home/tjp1992/.pyenv/versions/3.8.12/envs/lewagon/lib/python3.8/site-packages (from apache-beam[gcp]<3,>=2.29->tensorflow-model-analysis==0.32.0) (2.10.1)\n",
            "Requirement already satisfied: google-cloud-pubsublite<2,>=1.2.0; extra == \"gcp\" in /home/tjp1992/.pyenv/versions/3.8.12/envs/lewagon/lib/python3.8/site-packages (from apache-beam[gcp]<3,>=2.29->tensorflow-model-analysis==0.32.0) (1.4.2)\n",
            "Requirement already satisfied: google-cloud-vision<2,>=0.38.0; extra == \"gcp\" in /home/tjp1992/.pyenv/versions/3.8.12/envs/lewagon/lib/python3.8/site-packages (from apache-beam[gcp]<3,>=2.29->tensorflow-model-analysis==0.32.0) (1.0.2)\n",
            "Requirement already satisfied: google-auth-httplib2<0.2.0,>=0.1.0; extra == \"gcp\" in /home/tjp1992/.pyenv/versions/3.8.12/envs/lewagon/lib/python3.8/site-packages (from apache-beam[gcp]<3,>=2.29->tensorflow-model-analysis==0.32.0) (0.1.0)\n",
            "Requirement already satisfied: tensorboard~=2.5 in /home/tjp1992/.pyenv/versions/3.8.12/envs/lewagon/lib/python3.8/site-packages (from tensorflow!=2.0.*,!=2.1.*,!=2.2.*,!=2.3.*,!=2.4.*,<3,>=1.15.2->tensorflow-model-analysis==0.32.0) (2.7.0)\n",
            "Requirement already satisfied: tensorflow-estimator<2.6.0,>=2.5.0 in /home/tjp1992/.pyenv/versions/3.8.12/envs/lewagon/lib/python3.8/site-packages (from tensorflow!=2.0.*,!=2.1.*,!=2.2.*,!=2.3.*,!=2.4.*,<3,>=1.15.2->tensorflow-model-analysis==0.32.0) (2.5.0)\n",
            "Requirement already satisfied: keras-preprocessing~=1.1.2 in /home/tjp1992/.pyenv/versions/3.8.12/envs/lewagon/lib/python3.8/site-packages (from tensorflow!=2.0.*,!=2.1.*,!=2.2.*,!=2.3.*,!=2.4.*,<3,>=1.15.2->tensorflow-model-analysis==0.32.0) (1.1.2)\n",
            "Requirement already satisfied: h5py~=3.1.0 in /home/tjp1992/.pyenv/versions/3.8.12/envs/lewagon/lib/python3.8/site-packages (from tensorflow!=2.0.*,!=2.1.*,!=2.2.*,!=2.3.*,!=2.4.*,<3,>=1.15.2->tensorflow-model-analysis==0.32.0) (3.1.0)\n",
            "Requirement already satisfied: gast==0.4.0 in /home/tjp1992/.pyenv/versions/3.8.12/envs/lewagon/lib/python3.8/site-packages (from tensorflow!=2.0.*,!=2.1.*,!=2.2.*,!=2.3.*,!=2.4.*,<3,>=1.15.2->tensorflow-model-analysis==0.32.0) (0.4.0)\n",
            "Requirement already satisfied: wrapt~=1.12.1 in /home/tjp1992/.pyenv/versions/3.8.12/envs/lewagon/lib/python3.8/site-packages (from tensorflow!=2.0.*,!=2.1.*,!=2.2.*,!=2.3.*,!=2.4.*,<3,>=1.15.2->tensorflow-model-analysis==0.32.0) (1.12.1)\n",
            "Requirement already satisfied: keras-nightly~=2.5.0.dev in /home/tjp1992/.pyenv/versions/3.8.12/envs/lewagon/lib/python3.8/site-packages (from tensorflow!=2.0.*,!=2.1.*,!=2.2.*,!=2.3.*,!=2.4.*,<3,>=1.15.2->tensorflow-model-analysis==0.32.0) (2.5.0.dev2021032900)\n",
            "Requirement already satisfied: opt-einsum~=3.3.0 in /home/tjp1992/.pyenv/versions/3.8.12/envs/lewagon/lib/python3.8/site-packages (from tensorflow!=2.0.*,!=2.1.*,!=2.2.*,!=2.3.*,!=2.4.*,<3,>=1.15.2->tensorflow-model-analysis==0.32.0) (3.3.0)\n",
            "Requirement already satisfied: google-pasta~=0.2 in /home/tjp1992/.pyenv/versions/3.8.12/envs/lewagon/lib/python3.8/site-packages (from tensorflow!=2.0.*,!=2.1.*,!=2.2.*,!=2.3.*,!=2.4.*,<3,>=1.15.2->tensorflow-model-analysis==0.32.0) (0.2.0)\n",
            "Requirement already satisfied: termcolor~=1.1.0 in /home/tjp1992/.pyenv/versions/3.8.12/envs/lewagon/lib/python3.8/site-packages (from tensorflow!=2.0.*,!=2.1.*,!=2.2.*,!=2.3.*,!=2.4.*,<3,>=1.15.2->tensorflow-model-analysis==0.32.0) (1.1.0)\n",
            "Requirement already satisfied: wheel~=0.35 in /home/tjp1992/.pyenv/versions/3.8.12/envs/lewagon/lib/python3.8/site-packages (from tensorflow!=2.0.*,!=2.1.*,!=2.2.*,!=2.3.*,!=2.4.*,<3,>=1.15.2->tensorflow-model-analysis==0.32.0) (0.37.1)\n",
            "Requirement already satisfied: flatbuffers~=1.12.0 in /home/tjp1992/.pyenv/versions/3.8.12/envs/lewagon/lib/python3.8/site-packages (from tensorflow!=2.0.*,!=2.1.*,!=2.2.*,!=2.3.*,!=2.4.*,<3,>=1.15.2->tensorflow-model-analysis==0.32.0) (1.12)\n",
            "Requirement already satisfied: astunparse~=1.6.3 in /home/tjp1992/.pyenv/versions/3.8.12/envs/lewagon/lib/python3.8/site-packages (from tensorflow!=2.0.*,!=2.1.*,!=2.2.*,!=2.3.*,!=2.4.*,<3,>=1.15.2->tensorflow-model-analysis==0.32.0) (1.6.3)\n",
            "Requirement already satisfied: jupyter-core in /home/tjp1992/.pyenv/versions/3.8.12/envs/lewagon/lib/python3.8/site-packages (from nbformat>=4.2.0->ipywidgets<8,>=7->tensorflow-model-analysis==0.32.0) (4.9.1)\n",
            "Requirement already satisfied: jsonschema!=2.5.0,>=2.4 in /home/tjp1992/.pyenv/versions/3.8.12/envs/lewagon/lib/python3.8/site-packages (from nbformat>=4.2.0->ipywidgets<8,>=7->tensorflow-model-analysis==0.32.0) (4.3.3)\n",
            "Requirement already satisfied: notebook>=4.4.1 in /home/tjp1992/.pyenv/versions/3.8.12/envs/lewagon/lib/python3.8/site-packages (from widgetsnbextension~=3.5.0->ipywidgets<8,>=7->tensorflow-model-analysis==0.32.0) (6.4.5)\n",
            "Requirement already satisfied: nest-asyncio in /home/tjp1992/.pyenv/versions/3.8.12/envs/lewagon/lib/python3.8/site-packages (from ipykernel>=4.5.1->ipywidgets<8,>=7->tensorflow-model-analysis==0.32.0) (1.4.3)\n",
            "Requirement already satisfied: debugpy<2.0,>=1.0.0 in /home/tjp1992/.pyenv/versions/3.8.12/envs/lewagon/lib/python3.8/site-packages (from ipykernel>=4.5.1->ipywidgets<8,>=7->tensorflow-model-analysis==0.32.0) (1.5.1)\n",
            "Requirement already satisfied: tornado<7.0,>=4.2 in /home/tjp1992/.pyenv/versions/3.8.12/envs/lewagon/lib/python3.8/site-packages (from ipykernel>=4.5.1->ipywidgets<8,>=7->tensorflow-model-analysis==0.32.0) (6.1)\n",
            "Requirement already satisfied: jupyter-client<8.0 in /home/tjp1992/.pyenv/versions/3.8.12/envs/lewagon/lib/python3.8/site-packages (from ipykernel>=4.5.1->ipywidgets<8,>=7->tensorflow-model-analysis==0.32.0) (6.1.12)\n",
            "Requirement already satisfied: parso<0.9.0,>=0.8.0 in /home/tjp1992/.pyenv/versions/3.8.12/envs/lewagon/lib/python3.8/site-packages (from jedi>=0.16->ipython<8,>=7->tensorflow-model-analysis==0.32.0) (0.8.3)\n",
            "Requirement already satisfied: wcwidth in /home/tjp1992/.pyenv/versions/3.8.12/envs/lewagon/lib/python3.8/site-packages (from prompt-toolkit!=3.0.0,!=3.0.1,<3.1.0,>=2.0.0->ipython<8,>=7->tensorflow-model-analysis==0.32.0) (0.2.5)\n",
            "Requirement already satisfied: ptyprocess>=0.5 in /home/tjp1992/.pyenv/versions/3.8.12/envs/lewagon/lib/python3.8/site-packages (from pexpect>4.3; sys_platform != \"win32\"->ipython<8,>=7->tensorflow-model-analysis==0.32.0) (0.7.0)\n",
            "Requirement already satisfied: packaging>=14.3 in /home/tjp1992/.pyenv/versions/3.8.12/envs/lewagon/lib/python3.8/site-packages (from google-cloud-bigquery<2.21,>=1.28.0->tfx-bsl<1.2.0,>=1.1.0->tensorflow-model-analysis==0.32.0) (21.3)\n",
            "Requirement already satisfied: google-resumable-media<2.0dev,>=0.6.0 in /home/tjp1992/.pyenv/versions/3.8.12/envs/lewagon/lib/python3.8/site-packages (from google-cloud-bigquery<2.21,>=1.28.0->tfx-bsl<1.2.0,>=1.1.0->tensorflow-model-analysis==0.32.0) (1.3.3)\n",
            "Collecting google-api-core[grpc]<2.0.0dev,>=1.29.0\n",
            "  Downloading google_api_core-1.33.2-py3-none-any.whl (115 kB)\n",
            "\u001b[2K     \u001b[90m━━━━━━━━━━━━━━━━━━━━━━━━━━━━━━━━━━━━━━\u001b[0m \u001b[32m115.5/115.5 kB\u001b[0m \u001b[31m10.9 MB/s\u001b[0m eta \u001b[36m0:00:00\u001b[0m\n",
            "\u001b[?25hRequirement already satisfied: uritemplate<4dev,>=3.0.0 in /home/tjp1992/.pyenv/versions/3.8.12/envs/lewagon/lib/python3.8/site-packages (from google-api-python-client<2,>=1.7.11->tfx-bsl<1.2.0,>=1.1.0->tensorflow-model-analysis==0.32.0) (3.0.1)\n",
            "Requirement already satisfied: pyparsing>=2.1.4 in /home/tjp1992/.pyenv/versions/3.8.12/envs/lewagon/lib/python3.8/site-packages (from pydot<2,>=1.2.0->apache-beam[gcp]<3,>=2.29->tensorflow-model-analysis==0.32.0) (3.0.6)\n",
            "Requirement already satisfied: idna<4,>=2.5; python_version >= \"3\" in /home/tjp1992/.pyenv/versions/3.8.12/envs/lewagon/lib/python3.8/site-packages (from requests<3.0.0,>=2.24.0->apache-beam[gcp]<3,>=2.29->tensorflow-model-analysis==0.32.0) (3.3)\n",
            "Requirement already satisfied: urllib3<1.27,>=1.21.1 in /home/tjp1992/.pyenv/versions/3.8.12/envs/lewagon/lib/python3.8/site-packages (from requests<3.0.0,>=2.24.0->apache-beam[gcp]<3,>=2.29->tensorflow-model-analysis==0.32.0) (1.26.7)\n",
            "Requirement already satisfied: charset-normalizer~=2.0.0; python_version >= \"3\" in /home/tjp1992/.pyenv/versions/3.8.12/envs/lewagon/lib/python3.8/site-packages (from requests<3.0.0,>=2.24.0->apache-beam[gcp]<3,>=2.29->tensorflow-model-analysis==0.32.0) (2.0.10)\n",
            "Requirement already satisfied: certifi>=2017.4.17 in /home/tjp1992/.pyenv/versions/3.8.12/envs/lewagon/lib/python3.8/site-packages (from requests<3.0.0,>=2.24.0->apache-beam[gcp]<3,>=2.29->tensorflow-model-analysis==0.32.0) (2021.10.8)\n",
            "Requirement already satisfied: docopt in /home/tjp1992/.pyenv/versions/3.8.12/envs/lewagon/lib/python3.8/site-packages (from hdfs<3.0.0,>=2.1.0->apache-beam[gcp]<3,>=2.29->tensorflow-model-analysis==0.32.0) (0.6.2)\n",
            "Requirement already satisfied: grpc-google-iam-v1<0.13dev,>=0.12.3 in /home/tjp1992/.pyenv/versions/3.8.12/envs/lewagon/lib/python3.8/site-packages (from google-cloud-bigtable<2,>=0.31.1; extra == \"gcp\"->apache-beam[gcp]<3,>=2.29->tensorflow-model-analysis==0.32.0) (0.12.4)\n",
            "Requirement already satisfied: pyasn1-modules>=0.2.1 in /home/tjp1992/.pyenv/versions/3.8.12/envs/lewagon/lib/python3.8/site-packages (from google-auth<3,>=1.18.0; extra == \"gcp\"->apache-beam[gcp]<3,>=2.29->tensorflow-model-analysis==0.32.0) (0.2.8)\n",
            "Requirement already satisfied: rsa<5,>=3.1.4; python_version >= \"3.6\" in /home/tjp1992/.pyenv/versions/3.8.12/envs/lewagon/lib/python3.8/site-packages (from google-auth<3,>=1.18.0; extra == \"gcp\"->apache-beam[gcp]<3,>=2.29->tensorflow-model-analysis==0.32.0) (4.8)\n",
            "Requirement already satisfied: grpcio-status>=1.16.0 in /home/tjp1992/.pyenv/versions/3.8.12/envs/lewagon/lib/python3.8/site-packages (from google-cloud-pubsub<3,>=2.1.0; extra == \"gcp\"->apache-beam[gcp]<3,>=2.29->tensorflow-model-analysis==0.32.0) (1.43.0)\n",
            "Requirement already satisfied: fasteners>=0.14 in /home/tjp1992/.pyenv/versions/3.8.12/envs/lewagon/lib/python3.8/site-packages (from google-apitools<0.5.32,>=0.5.31; extra == \"gcp\"->apache-beam[gcp]<3,>=2.29->tensorflow-model-analysis==0.32.0) (0.17.3)\n",
            "Requirement already satisfied: oauth2client>=1.4.12 in /home/tjp1992/.pyenv/versions/3.8.12/envs/lewagon/lib/python3.8/site-packages (from google-apitools<0.5.32,>=0.5.31; extra == \"gcp\"->apache-beam[gcp]<3,>=2.29->tensorflow-model-analysis==0.32.0) (4.1.3)\n",
            "Requirement already satisfied: libcst>=0.2.5 in /home/tjp1992/.pyenv/versions/3.8.12/envs/lewagon/lib/python3.8/site-packages (from google-cloud-bigquery-storage>=2.6.3; extra == \"gcp\"->apache-beam[gcp]<3,>=2.29->tensorflow-model-analysis==0.32.0) (0.3.23)\n",
            "Requirement already satisfied: overrides<7.0.0,>=6.0.1 in /home/tjp1992/.pyenv/versions/3.8.12/envs/lewagon/lib/python3.8/site-packages (from google-cloud-pubsublite<2,>=1.2.0; extra == \"gcp\"->apache-beam[gcp]<3,>=2.29->tensorflow-model-analysis==0.32.0) (6.2.0)\n",
            "Requirement already satisfied: tensorboard-data-server<0.7.0,>=0.6.0 in /home/tjp1992/.pyenv/versions/3.8.12/envs/lewagon/lib/python3.8/site-packages (from tensorboard~=2.5->tensorflow!=2.0.*,!=2.1.*,!=2.2.*,!=2.3.*,!=2.4.*,<3,>=1.15.2->tensorflow-model-analysis==0.32.0) (0.6.1)\n",
            "Requirement already satisfied: markdown>=2.6.8 in /home/tjp1992/.pyenv/versions/3.8.12/envs/lewagon/lib/python3.8/site-packages (from tensorboard~=2.5->tensorflow!=2.0.*,!=2.1.*,!=2.2.*,!=2.3.*,!=2.4.*,<3,>=1.15.2->tensorflow-model-analysis==0.32.0) (3.3.6)\n",
            "Requirement already satisfied: werkzeug>=0.11.15 in /home/tjp1992/.pyenv/versions/3.8.12/envs/lewagon/lib/python3.8/site-packages (from tensorboard~=2.5->tensorflow!=2.0.*,!=2.1.*,!=2.2.*,!=2.3.*,!=2.4.*,<3,>=1.15.2->tensorflow-model-analysis==0.32.0) (2.0.2)\n",
            "Requirement already satisfied: tensorboard-plugin-wit>=1.6.0 in /home/tjp1992/.pyenv/versions/3.8.12/envs/lewagon/lib/python3.8/site-packages (from tensorboard~=2.5->tensorflow!=2.0.*,!=2.1.*,!=2.2.*,!=2.3.*,!=2.4.*,<3,>=1.15.2->tensorflow-model-analysis==0.32.0) (1.8.1)\n",
            "Requirement already satisfied: google-auth-oauthlib<0.5,>=0.4.1 in /home/tjp1992/.pyenv/versions/3.8.12/envs/lewagon/lib/python3.8/site-packages (from tensorboard~=2.5->tensorflow!=2.0.*,!=2.1.*,!=2.2.*,!=2.3.*,!=2.4.*,<3,>=1.15.2->tensorflow-model-analysis==0.32.0) (0.4.6)\n",
            "Requirement already satisfied: pyrsistent!=0.17.0,!=0.17.1,!=0.17.2,>=0.14.0 in /home/tjp1992/.pyenv/versions/3.8.12/envs/lewagon/lib/python3.8/site-packages (from jsonschema!=2.5.0,>=2.4->nbformat>=4.2.0->ipywidgets<8,>=7->tensorflow-model-analysis==0.32.0) (0.18.0)\n",
            "Requirement already satisfied: attrs>=17.4.0 in /home/tjp1992/.pyenv/versions/3.8.12/envs/lewagon/lib/python3.8/site-packages (from jsonschema!=2.5.0,>=2.4->nbformat>=4.2.0->ipywidgets<8,>=7->tensorflow-model-analysis==0.32.0) (21.4.0)\n",
            "Requirement already satisfied: importlib-resources>=1.4.0; python_version < \"3.9\" in /home/tjp1992/.pyenv/versions/3.8.12/envs/lewagon/lib/python3.8/site-packages (from jsonschema!=2.5.0,>=2.4->nbformat>=4.2.0->ipywidgets<8,>=7->tensorflow-model-analysis==0.32.0) (5.4.0)\n",
            "Requirement already satisfied: Send2Trash>=1.5.0 in /home/tjp1992/.pyenv/versions/3.8.12/envs/lewagon/lib/python3.8/site-packages (from notebook>=4.4.1->widgetsnbextension~=3.5.0->ipywidgets<8,>=7->tensorflow-model-analysis==0.32.0) (1.8.0)\n",
            "Requirement already satisfied: argon2-cffi in /home/tjp1992/.pyenv/versions/3.8.12/envs/lewagon/lib/python3.8/site-packages (from notebook>=4.4.1->widgetsnbextension~=3.5.0->ipywidgets<8,>=7->tensorflow-model-analysis==0.32.0) (21.3.0)\n",
            "Requirement already satisfied: terminado>=0.8.3 in /home/tjp1992/.pyenv/versions/3.8.12/envs/lewagon/lib/python3.8/site-packages (from notebook>=4.4.1->widgetsnbextension~=3.5.0->ipywidgets<8,>=7->tensorflow-model-analysis==0.32.0) (0.12.1)\n",
            "Requirement already satisfied: nbconvert in /home/tjp1992/.pyenv/versions/3.8.12/envs/lewagon/lib/python3.8/site-packages (from notebook>=4.4.1->widgetsnbextension~=3.5.0->ipywidgets<8,>=7->tensorflow-model-analysis==0.32.0) (6.4.0)\n",
            "Requirement already satisfied: jinja2 in /home/tjp1992/.pyenv/versions/3.8.12/envs/lewagon/lib/python3.8/site-packages (from notebook>=4.4.1->widgetsnbextension~=3.5.0->ipywidgets<8,>=7->tensorflow-model-analysis==0.32.0) (3.0.3)\n",
            "Requirement already satisfied: prometheus-client in /home/tjp1992/.pyenv/versions/3.8.12/envs/lewagon/lib/python3.8/site-packages (from notebook>=4.4.1->widgetsnbextension~=3.5.0->ipywidgets<8,>=7->tensorflow-model-analysis==0.32.0) (0.12.0)\n",
            "Requirement already satisfied: pyzmq>=17 in /home/tjp1992/.pyenv/versions/3.8.12/envs/lewagon/lib/python3.8/site-packages (from notebook>=4.4.1->widgetsnbextension~=3.5.0->ipywidgets<8,>=7->tensorflow-model-analysis==0.32.0) (22.3.0)\n",
            "Requirement already satisfied: google-crc32c<2.0dev,>=1.0; python_version >= \"3.5\" in /home/tjp1992/.pyenv/versions/3.8.12/envs/lewagon/lib/python3.8/site-packages (from google-resumable-media<2.0dev,>=0.6.0->google-cloud-bigquery<2.21,>=1.28.0->tfx-bsl<1.2.0,>=1.1.0->tensorflow-model-analysis==0.32.0) (1.3.0)\n",
            "Requirement already satisfied: pyasn1<0.5.0,>=0.4.6 in /home/tjp1992/.pyenv/versions/3.8.12/envs/lewagon/lib/python3.8/site-packages (from pyasn1-modules>=0.2.1->google-auth<3,>=1.18.0; extra == \"gcp\"->apache-beam[gcp]<3,>=2.29->tensorflow-model-analysis==0.32.0) (0.4.8)\n",
            "Requirement already satisfied: typing-inspect>=0.4.0 in /home/tjp1992/.pyenv/versions/3.8.12/envs/lewagon/lib/python3.8/site-packages (from libcst>=0.2.5->google-cloud-bigquery-storage>=2.6.3; extra == \"gcp\"->apache-beam[gcp]<3,>=2.29->tensorflow-model-analysis==0.32.0) (0.7.1)\n",
            "Requirement already satisfied: pyyaml>=5.2 in /home/tjp1992/.pyenv/versions/3.8.12/envs/lewagon/lib/python3.8/site-packages (from libcst>=0.2.5->google-cloud-bigquery-storage>=2.6.3; extra == \"gcp\"->apache-beam[gcp]<3,>=2.29->tensorflow-model-analysis==0.32.0) (6.0)\n",
            "Requirement already satisfied: importlib-metadata>=4.4; python_version < \"3.10\" in /home/tjp1992/.pyenv/versions/3.8.12/envs/lewagon/lib/python3.8/site-packages (from markdown>=2.6.8->tensorboard~=2.5->tensorflow!=2.0.*,!=2.1.*,!=2.2.*,!=2.3.*,!=2.4.*,<3,>=1.15.2->tensorflow-model-analysis==0.32.0) (4.10.0)\n",
            "Requirement already satisfied: requests-oauthlib>=0.7.0 in /home/tjp1992/.pyenv/versions/3.8.12/envs/lewagon/lib/python3.8/site-packages (from google-auth-oauthlib<0.5,>=0.4.1->tensorboard~=2.5->tensorflow!=2.0.*,!=2.1.*,!=2.2.*,!=2.3.*,!=2.4.*,<3,>=1.15.2->tensorflow-model-analysis==0.32.0) (1.3.0)\n",
            "Requirement already satisfied: zipp>=3.1.0; python_version < \"3.10\" in /home/tjp1992/.pyenv/versions/3.8.12/envs/lewagon/lib/python3.8/site-packages (from importlib-resources>=1.4.0; python_version < \"3.9\"->jsonschema!=2.5.0,>=2.4->nbformat>=4.2.0->ipywidgets<8,>=7->tensorflow-model-analysis==0.32.0) (3.7.0)\n",
            "Requirement already satisfied: argon2-cffi-bindings in /home/tjp1992/.pyenv/versions/3.8.12/envs/lewagon/lib/python3.8/site-packages (from argon2-cffi->notebook>=4.4.1->widgetsnbextension~=3.5.0->ipywidgets<8,>=7->tensorflow-model-analysis==0.32.0) (21.2.0)\n",
            "Requirement already satisfied: pandocfilters>=1.4.1 in /home/tjp1992/.pyenv/versions/3.8.12/envs/lewagon/lib/python3.8/site-packages (from nbconvert->notebook>=4.4.1->widgetsnbextension~=3.5.0->ipywidgets<8,>=7->tensorflow-model-analysis==0.32.0) (1.5.0)\n",
            "Requirement already satisfied: mistune<2,>=0.8.1 in /home/tjp1992/.pyenv/versions/3.8.12/envs/lewagon/lib/python3.8/site-packages (from nbconvert->notebook>=4.4.1->widgetsnbextension~=3.5.0->ipywidgets<8,>=7->tensorflow-model-analysis==0.32.0) (0.8.4)\n",
            "Requirement already satisfied: bleach in /home/tjp1992/.pyenv/versions/3.8.12/envs/lewagon/lib/python3.8/site-packages (from nbconvert->notebook>=4.4.1->widgetsnbextension~=3.5.0->ipywidgets<8,>=7->tensorflow-model-analysis==0.32.0) (4.1.0)\n",
            "Requirement already satisfied: defusedxml in /home/tjp1992/.pyenv/versions/3.8.12/envs/lewagon/lib/python3.8/site-packages (from nbconvert->notebook>=4.4.1->widgetsnbextension~=3.5.0->ipywidgets<8,>=7->tensorflow-model-analysis==0.32.0) (0.7.1)\n",
            "Requirement already satisfied: jupyterlab-pygments in /home/tjp1992/.pyenv/versions/3.8.12/envs/lewagon/lib/python3.8/site-packages (from nbconvert->notebook>=4.4.1->widgetsnbextension~=3.5.0->ipywidgets<8,>=7->tensorflow-model-analysis==0.32.0) (0.1.2)\n",
            "Requirement already satisfied: testpath in /home/tjp1992/.pyenv/versions/3.8.12/envs/lewagon/lib/python3.8/site-packages (from nbconvert->notebook>=4.4.1->widgetsnbextension~=3.5.0->ipywidgets<8,>=7->tensorflow-model-analysis==0.32.0) (0.5.0)\n",
            "Requirement already satisfied: entrypoints>=0.2.2 in /home/tjp1992/.pyenv/versions/3.8.12/envs/lewagon/lib/python3.8/site-packages (from nbconvert->notebook>=4.4.1->widgetsnbextension~=3.5.0->ipywidgets<8,>=7->tensorflow-model-analysis==0.32.0) (0.3)\n",
            "Requirement already satisfied: nbclient<0.6.0,>=0.5.0 in /home/tjp1992/.pyenv/versions/3.8.12/envs/lewagon/lib/python3.8/site-packages (from nbconvert->notebook>=4.4.1->widgetsnbextension~=3.5.0->ipywidgets<8,>=7->tensorflow-model-analysis==0.32.0) (0.5.9)\n",
            "Requirement already satisfied: MarkupSafe>=2.0 in /home/tjp1992/.pyenv/versions/3.8.12/envs/lewagon/lib/python3.8/site-packages (from jinja2->notebook>=4.4.1->widgetsnbextension~=3.5.0->ipywidgets<8,>=7->tensorflow-model-analysis==0.32.0) (2.0.1)\n",
            "Requirement already satisfied: mypy-extensions>=0.3.0 in /home/tjp1992/.pyenv/versions/3.8.12/envs/lewagon/lib/python3.8/site-packages (from typing-inspect>=0.4.0->libcst>=0.2.5->google-cloud-bigquery-storage>=2.6.3; extra == \"gcp\"->apache-beam[gcp]<3,>=2.29->tensorflow-model-analysis==0.32.0) (0.4.3)\n",
            "Requirement already satisfied: oauthlib>=3.0.0 in /home/tjp1992/.pyenv/versions/3.8.12/envs/lewagon/lib/python3.8/site-packages (from requests-oauthlib>=0.7.0->google-auth-oauthlib<0.5,>=0.4.1->tensorboard~=2.5->tensorflow!=2.0.*,!=2.1.*,!=2.2.*,!=2.3.*,!=2.4.*,<3,>=1.15.2->tensorflow-model-analysis==0.32.0) (3.1.1)\n",
            "Requirement already satisfied: cffi>=1.0.1 in /home/tjp1992/.pyenv/versions/3.8.12/envs/lewagon/lib/python3.8/site-packages (from argon2-cffi-bindings->argon2-cffi->notebook>=4.4.1->widgetsnbextension~=3.5.0->ipywidgets<8,>=7->tensorflow-model-analysis==0.32.0) (1.15.0)\n",
            "Requirement already satisfied: webencodings in /home/tjp1992/.pyenv/versions/3.8.12/envs/lewagon/lib/python3.8/site-packages (from bleach->nbconvert->notebook>=4.4.1->widgetsnbextension~=3.5.0->ipywidgets<8,>=7->tensorflow-model-analysis==0.32.0) (0.5.1)\n",
            "Requirement already satisfied: pycparser in /home/tjp1992/.pyenv/versions/3.8.12/envs/lewagon/lib/python3.8/site-packages (from cffi>=1.0.1->argon2-cffi-bindings->argon2-cffi->notebook>=4.4.1->widgetsnbextension~=3.5.0->ipywidgets<8,>=7->tensorflow-model-analysis==0.32.0) (2.21)\n",
            "Installing collected packages: tensorflow-metadata, tfx-bsl, tensorflow-model-analysis, google-api-core\n",
            "  Attempting uninstall: tensorflow-metadata\n",
            "    Found existing installation: tensorflow-metadata 1.0.0\n",
            "    Uninstalling tensorflow-metadata-1.0.0:\n",
            "      Successfully uninstalled tensorflow-metadata-1.0.0\n",
            "  Attempting uninstall: tfx-bsl\n",
            "    Found existing installation: tfx-bsl 1.0.0\n",
            "    Uninstalling tfx-bsl-1.0.0:\n",
            "      Successfully uninstalled tfx-bsl-1.0.0\n",
            "  Attempting uninstall: tensorflow-model-analysis\n",
            "    Found existing installation: tensorflow-model-analysis 0.40.0\n",
            "    Uninstalling tensorflow-model-analysis-0.40.0:\n",
            "      Successfully uninstalled tensorflow-model-analysis-0.40.0\n",
            "  Attempting uninstall: google-api-core\n",
            "    Found existing installation: google-api-core 2.3.2\n",
            "    Uninstalling google-api-core-2.3.2:\n",
            "      Successfully uninstalled google-api-core-2.3.2\n",
            "\u001b[31mERROR: pip's legacy dependency resolver does not consider dependency conflicts when selecting packages. This behaviour is the source of the following dependency conflicts.\n",
            "tfx 1.9.1 requires attrs<21,>=19.3.0, but you'll have attrs 21.4.0 which is incompatible.\n",
            "tfx 1.9.1 requires docker<5,>=4.1, but you'll have docker 5.0.3 which is incompatible.\n",
            "tfx 1.9.1 requires google-cloud-bigquery<3,>=2.26.0, but you'll have google-cloud-bigquery 2.20.0 which is incompatible.\n",
            "tfx 1.9.1 requires packaging<21,>=20, but you'll have packaging 21.3 which is incompatible.\n",
            "tfx 1.9.1 requires pyyaml<6,>=3.12, but you'll have pyyaml 6.0 which is incompatible.\n",
            "tfx 1.9.1 requires tensorflow!=2.0.*,!=2.1.*,!=2.2.*,!=2.3.*,!=2.4.*,!=2.5.*,!=2.6.*,!=2.7.*,!=2.8.*,<2.10,>=1.15.5, but you'll have tensorflow 2.5.3 which is incompatible.\n",
            "tfx 1.9.1 requires tensorflow-data-validation<1.10.0,>=1.9.0, but you'll have tensorflow-data-validation 1.1.0 which is incompatible.\n",
            "tfx 1.9.1 requires tensorflow-model-analysis<0.41,>=0.40.0, but you'll have tensorflow-model-analysis 0.32.0 which is incompatible.\n",
            "tfx 1.9.1 requires tensorflow-transform<1.10.0,>=1.9.0, but you'll have tensorflow-transform 1.0.0 which is incompatible.\n",
            "tfx 1.9.1 requires tfx-bsl<1.10.0,>=1.9.0, but you'll have tfx-bsl 1.1.1 which is incompatible.\n",
            "tfx 1.9.1 requires typing-extensions<5,>=3.10.0.2, but you'll have typing-extensions 3.7.4.3 which is incompatible.\n",
            "tensorflow-transform 1.0.0 requires tensorflow-metadata<1.1.0,>=1.0.0, but you'll have tensorflow-metadata 1.1.0 which is incompatible.\n",
            "tensorflow-transform 1.0.0 requires tfx-bsl<1.1.0,>=1.0.0, but you'll have tfx-bsl 1.1.1 which is incompatible.\n",
            "google-cloud-storage 2.2.1 requires google-resumable-media>=2.3.2, but you'll have google-resumable-media 1.3.3 which is incompatible.\n",
            "google-cloud-resource-manager 1.6.1 requires proto-plus<2.0.0dev,>=1.22.0, but you'll have proto-plus 1.19.8 which is incompatible.\n",
            "google-cloud-pubsub 2.13.4 requires grpcio<2.0dev,>=1.38.1, but you'll have grpcio 1.34.1 which is incompatible.\n",
            "google-cloud-core 1.7.3 requires google-auth<2.0dev,>=1.24.0, but you'll have google-auth 2.3.3 which is incompatible.\n",
            "google-api-core 1.33.2 requires googleapis-common-protos<2.0dev,>=1.56.2, but you'll have googleapis-common-protos 1.54.0 which is incompatible.\n",
            "google-api-core 1.33.2 requires protobuf!=3.20.0,!=3.20.1,!=4.21.0,!=4.21.1,!=4.21.2,!=4.21.3,!=4.21.4,!=4.21.5,<4.0.0dev,>=3.19.5, but you'll have protobuf 3.19.1 which is incompatible.\u001b[0m\u001b[31m\n",
            "\u001b[0mSuccessfully installed google-api-core-1.33.2 tensorflow-metadata-1.1.0 tensorflow-model-analysis-0.32.0 tfx-bsl-1.1.1\n",
            "Collecting apache-beam==2.32.0\n",
            "  Downloading apache_beam-2.32.0-cp38-cp38-manylinux2010_x86_64.whl (11.6 MB)\n",
            "\u001b[2K     \u001b[90m━━━━━━━━━━━━━━━━━━━━━━━━━━━━━━━━━━━━━━━━\u001b[0m \u001b[32m11.6/11.6 MB\u001b[0m \u001b[31m5.3 MB/s\u001b[0m eta \u001b[36m0:00:00\u001b[0m00:01\u001b[0m00:01\u001b[0m\n",
            "\u001b[?25hRequirement already satisfied: dill<0.3.2,>=0.3.1.1 in /home/tjp1992/.pyenv/versions/3.8.12/envs/lewagon/lib/python3.8/site-packages (from apache-beam==2.32.0) (0.3.1.1)\n",
            "Requirement already satisfied: protobuf<4,>=3.12.2 in /home/tjp1992/.pyenv/versions/3.8.12/envs/lewagon/lib/python3.8/site-packages (from apache-beam==2.32.0) (3.19.1)\n",
            "Requirement already satisfied: future<1.0.0,>=0.18.2 in /home/tjp1992/.pyenv/versions/3.8.12/envs/lewagon/lib/python3.8/site-packages (from apache-beam==2.32.0) (0.18.2)\n",
            "Requirement already satisfied: grpcio<2,>=1.29.0 in /home/tjp1992/.pyenv/versions/3.8.12/envs/lewagon/lib/python3.8/site-packages (from apache-beam==2.32.0) (1.34.1)\n",
            "Requirement already satisfied: pymongo<4.0.0,>=3.8.0 in /home/tjp1992/.pyenv/versions/3.8.12/envs/lewagon/lib/python3.8/site-packages (from apache-beam==2.32.0) (3.12.3)\n",
            "Requirement already satisfied: orjson<4.0 in /home/tjp1992/.pyenv/versions/3.8.12/envs/lewagon/lib/python3.8/site-packages (from apache-beam==2.32.0) (3.7.11)\n",
            "Collecting avro-python3!=1.9.2,<1.10.0,>=1.8.1\n",
            "  Downloading avro-python3-1.9.2.1.tar.gz (37 kB)\n",
            "  Preparing metadata (setup.py) ... \u001b[?25ldone\n",
            "\u001b[?25hRequirement already satisfied: typing-extensions<3.8.0,>=3.7.0 in /home/tjp1992/.pyenv/versions/3.8.12/envs/lewagon/lib/python3.8/site-packages (from apache-beam==2.32.0) (3.7.4.3)\n",
            "Requirement already satisfied: pydot<2,>=1.2.0 in /home/tjp1992/.pyenv/versions/3.8.12/envs/lewagon/lib/python3.8/site-packages (from apache-beam==2.32.0) (1.4.2)\n",
            "Collecting httplib2<0.20.0,>=0.8\n",
            "  Using cached httplib2-0.19.1-py3-none-any.whl (95 kB)\n",
            "Requirement already satisfied: pyarrow<5.0.0,>=0.15.1 in /home/tjp1992/.pyenv/versions/3.8.12/envs/lewagon/lib/python3.8/site-packages (from apache-beam==2.32.0) (2.0.0)\n",
            "Requirement already satisfied: oauth2client<5,>=2.0.1 in /home/tjp1992/.pyenv/versions/3.8.12/envs/lewagon/lib/python3.8/site-packages (from apache-beam==2.32.0) (4.1.3)\n",
            "Requirement already satisfied: requests<3.0.0,>=2.24.0 in /home/tjp1992/.pyenv/versions/3.8.12/envs/lewagon/lib/python3.8/site-packages (from apache-beam==2.32.0) (2.27.1)\n",
            "Requirement already satisfied: crcmod<2.0,>=1.7 in /home/tjp1992/.pyenv/versions/3.8.12/envs/lewagon/lib/python3.8/site-packages (from apache-beam==2.32.0) (1.7)\n",
            "Requirement already satisfied: fastavro<2,>=0.21.4 in /home/tjp1992/.pyenv/versions/3.8.12/envs/lewagon/lib/python3.8/site-packages (from apache-beam==2.32.0) (1.5.4)\n",
            "Requirement already satisfied: hdfs<3.0.0,>=2.1.0 in /home/tjp1992/.pyenv/versions/3.8.12/envs/lewagon/lib/python3.8/site-packages (from apache-beam==2.32.0) (2.7.0)\n",
            "Requirement already satisfied: numpy<1.21.0,>=1.14.3 in /home/tjp1992/.pyenv/versions/3.8.12/envs/lewagon/lib/python3.8/site-packages (from apache-beam==2.32.0) (1.19.5)\n",
            "Requirement already satisfied: python-dateutil<3,>=2.8.0 in /home/tjp1992/.pyenv/versions/3.8.12/envs/lewagon/lib/python3.8/site-packages (from apache-beam==2.32.0) (2.8.2)\n",
            "Requirement already satisfied: pytz>=2018.3 in /home/tjp1992/.pyenv/versions/3.8.12/envs/lewagon/lib/python3.8/site-packages (from apache-beam==2.32.0) (2021.3)\n",
            "Requirement already satisfied: six>=1.5.2 in /home/tjp1992/.pyenv/versions/3.8.12/envs/lewagon/lib/python3.8/site-packages (from grpcio<2,>=1.29.0->apache-beam==2.32.0) (1.16.0)\n",
            "Requirement already satisfied: docopt in /home/tjp1992/.pyenv/versions/3.8.12/envs/lewagon/lib/python3.8/site-packages (from hdfs<3.0.0,>=2.1.0->apache-beam==2.32.0) (0.6.2)\n",
            "Collecting pyparsing<3,>=2.4.2\n",
            "  Using cached pyparsing-2.4.7-py2.py3-none-any.whl (67 kB)\n",
            "Requirement already satisfied: rsa>=3.1.4 in /home/tjp1992/.pyenv/versions/3.8.12/envs/lewagon/lib/python3.8/site-packages (from oauth2client<5,>=2.0.1->apache-beam==2.32.0) (4.8)\n",
            "Requirement already satisfied: pyasn1-modules>=0.0.5 in /home/tjp1992/.pyenv/versions/3.8.12/envs/lewagon/lib/python3.8/site-packages (from oauth2client<5,>=2.0.1->apache-beam==2.32.0) (0.2.8)\n",
            "Requirement already satisfied: pyasn1>=0.1.7 in /home/tjp1992/.pyenv/versions/3.8.12/envs/lewagon/lib/python3.8/site-packages (from oauth2client<5,>=2.0.1->apache-beam==2.32.0) (0.4.8)\n",
            "Requirement already satisfied: urllib3<1.27,>=1.21.1 in /home/tjp1992/.pyenv/versions/3.8.12/envs/lewagon/lib/python3.8/site-packages (from requests<3.0.0,>=2.24.0->apache-beam==2.32.0) (1.26.7)\n",
            "Requirement already satisfied: idna<4,>=2.5 in /home/tjp1992/.pyenv/versions/3.8.12/envs/lewagon/lib/python3.8/site-packages (from requests<3.0.0,>=2.24.0->apache-beam==2.32.0) (3.3)\n",
            "Requirement already satisfied: charset-normalizer~=2.0.0 in /home/tjp1992/.pyenv/versions/3.8.12/envs/lewagon/lib/python3.8/site-packages (from requests<3.0.0,>=2.24.0->apache-beam==2.32.0) (2.0.10)\n",
            "Requirement already satisfied: certifi>=2017.4.17 in /home/tjp1992/.pyenv/versions/3.8.12/envs/lewagon/lib/python3.8/site-packages (from requests<3.0.0,>=2.24.0->apache-beam==2.32.0) (2021.10.8)\n",
            "Building wheels for collected packages: avro-python3\n",
            "  Building wheel for avro-python3 (setup.py) ... \u001b[?25ldone\n",
            "\u001b[?25h  Created wheel for avro-python3: filename=avro_python3-1.9.2.1-py3-none-any.whl size=43513 sha256=307ec4edbc4318e6bd2ff1b2a3bb932f1c7858ee843ee12fdeee8fa99ea52e31\n",
            "  Stored in directory: /home/tjp1992/.cache/pip/wheels/c6/28/2e/007446d42df7628701421e73f4e2337afe07e7529f01cd01a5\n",
            "Successfully built avro-python3\n",
            "Installing collected packages: pyparsing, avro-python3, httplib2, apache-beam\n",
            "  Attempting uninstall: pyparsing\n",
            "    Found existing installation: pyparsing 3.0.6\n",
            "    Uninstalling pyparsing-3.0.6:\n",
            "      Successfully uninstalled pyparsing-3.0.6\n",
            "  Attempting uninstall: httplib2\n",
            "    Found existing installation: httplib2 0.20.4\n",
            "    Uninstalling httplib2-0.20.4:\n",
            "      Successfully uninstalled httplib2-0.20.4\n",
            "  Attempting uninstall: apache-beam\n",
            "    Found existing installation: apache-beam 2.40.0\n",
            "    Uninstalling apache-beam-2.40.0:\n",
            "      Successfully uninstalled apache-beam-2.40.0\n",
            "\u001b[31mERROR: pip's dependency resolver does not currently take into account all the packages that are installed. This behaviour is the source of the following dependency conflicts.\n",
            "tfx 1.9.1 requires apache-beam[gcp]<3,>=2.38, but you have apache-beam 2.32.0 which is incompatible.\n",
            "tfx 1.9.1 requires attrs<21,>=19.3.0, but you have attrs 21.4.0 which is incompatible.\n",
            "tfx 1.9.1 requires docker<5,>=4.1, but you have docker 5.0.3 which is incompatible.\n",
            "tfx 1.9.1 requires google-cloud-bigquery<3,>=2.26.0, but you have google-cloud-bigquery 2.20.0 which is incompatible.\n",
            "tfx 1.9.1 requires packaging<21,>=20, but you have packaging 21.3 which is incompatible.\n",
            "tfx 1.9.1 requires pyyaml<6,>=3.12, but you have pyyaml 6.0 which is incompatible.\n",
            "tfx 1.9.1 requires tensorflow!=2.0.*,!=2.1.*,!=2.2.*,!=2.3.*,!=2.4.*,!=2.5.*,!=2.6.*,!=2.7.*,!=2.8.*,<2.10,>=1.15.5, but you have tensorflow 2.5.3 which is incompatible.\n",
            "tfx 1.9.1 requires tensorflow-data-validation<1.10.0,>=1.9.0, but you have tensorflow-data-validation 1.1.0 which is incompatible.\n",
            "tfx 1.9.1 requires tensorflow-model-analysis<0.41,>=0.40.0, but you have tensorflow-model-analysis 0.32.0 which is incompatible.\n",
            "tfx 1.9.1 requires tensorflow-transform<1.10.0,>=1.9.0, but you have tensorflow-transform 1.0.0 which is incompatible.\n",
            "tfx 1.9.1 requires tfx-bsl<1.10.0,>=1.9.0, but you have tfx-bsl 1.1.1 which is incompatible.\n",
            "tfx 1.9.1 requires typing-extensions<5,>=3.10.0.2, but you have typing-extensions 3.7.4.3 which is incompatible.\n",
            "tensorflow-transform 1.0.0 requires tensorflow-metadata<1.1.0,>=1.0.0, but you have tensorflow-metadata 1.1.0 which is incompatible.\n",
            "tensorflow-transform 1.0.0 requires tfx-bsl<1.1.0,>=1.0.0, but you have tfx-bsl 1.1.1 which is incompatible.\n",
            "ml-pipelines-sdk 1.9.1 requires docker<5,>=4.1, but you have docker 5.0.3 which is incompatible.\n",
            "ml-pipelines-sdk 1.9.1 requires packaging<21,>=20, but you have packaging 21.3 which is incompatible.\n",
            "bokeh 2.4.2 requires typing-extensions>=3.10.0, but you have typing-extensions 3.7.4.3 which is incompatible.\u001b[0m\u001b[31m\n",
            "\u001b[0mSuccessfully installed apache-beam-2.32.0 avro-python3-1.9.2.1 httplib2-0.19.1 pyparsing-2.4.7\n"
          ]
        }
      ],
      "source": [
        "# Upgrade pip to the latest version and install required packages\n",
        "!pip install -U pip\n",
        "!pip install --use-deprecated=legacy-resolver tensorflow_data_validation==1.1.0\n",
        "!pip install --use-deprecated=legacy-resolver tensorflow-transform==1.0.0\n",
        "!pip install --use-deprecated=legacy-resolver tensorflow-model-analysis==0.32.0\n",
        "!pip install apache-beam==2.32.0"
      ]
    },
    {
      "cell_type": "markdown",
      "metadata": {
        "id": "k7121_u1LO5W"
      },
      "source": [
        "*Note: In Google Colab, you need to restart the runtime at this point to finalize updating the packages you just installed. **Please do not proceed to the next section without restarting.** You can also ignore the errors about version incompatibility of some of the bundled packages because we won't be using those in this notebook.*"
      ]
    },
    {
      "cell_type": "markdown",
      "metadata": {
        "id": "saT03A81Z4Nr"
      },
      "source": [
        "### Check the installation\n",
        "\n",
        "Running the code below should show the versions of the packages. Please re-run the install if you are seeing errors and don't forget to restart the runtime after re-installation."
      ]
    },
    {
      "cell_type": "code",
      "execution_count": 3,
      "metadata": {
        "id": "SA2E343NAMRF"
      },
      "outputs": [
        {
          "name": "stderr",
          "output_type": "stream",
          "text": [
            "2022-11-21 15:11:17.868971: W tensorflow/stream_executor/platform/default/dso_loader.cc:64] Could not load dynamic library 'libcudart.so.11.0'; dlerror: libcudart.so.11.0: cannot open shared object file: No such file or directory\n",
            "2022-11-21 15:11:17.869584: I tensorflow/stream_executor/cuda/cudart_stub.cc:29] Ignore above cudart dlerror if you do not have a GPU set up on your machine.\n"
          ]
        },
        {
          "name": "stdout",
          "output_type": "stream",
          "text": [
            "TF version: 2.5.3\n",
            "TFMA version: 0.32.0\n",
            "TFDV version: 1.1.0\n"
          ]
        }
      ],
      "source": [
        "# Import packages and print versions\n",
        "import tensorflow as tf\n",
        "import tensorflow_model_analysis as tfma\n",
        "import tensorflow_data_validation as tfdv\n",
        "\n",
        "print('TF version: {}'.format(tf.__version__))\n",
        "print('TFMA version: {}'.format(tfma.__version__))\n",
        "print('TFDV version: {}'.format(tfdv.__version__))"
      ]
    },
    {
      "cell_type": "markdown",
      "metadata": {
        "id": "RptgLn2RYuK3"
      },
      "source": [
        "### Load the files\n",
        "\n",
        "Next, you will download the files you will need for this exercise:\n",
        "\n",
        "* Test datasets\n",
        "* Data schema\n",
        "* Pretrained models\n",
        "\n",
        "We've also defined some global variables below so you can access these files throughout the notebook more easily."
      ]
    },
    {
      "cell_type": "code",
      "execution_count": null,
      "metadata": {
        "id": "K4QXVIM7iglN"
      },
      "outputs": [],
      "source": [
        "import os\n",
        "\n",
        "# String variables for file and directory names\n",
        "URL = 'https://storage.googleapis.com/mlep-public/course_3/week4/C3_W4_Lab_1_starter_files.tar.gz'\n",
        "TAR_NAME = 'C3_W4_Lab_1_starter_files.tar.gz'\n",
        "BASE_DIR = 'starter_files'\n",
        "DATA_DIR = os.path.join(BASE_DIR, 'data')\n",
        "CSV_DIR = os.path.join(DATA_DIR, 'csv')\n",
        "TFRECORD_DIR = os.path.join(DATA_DIR, 'tfrecord')\n",
        "MODELS_DIR = os.path.join(BASE_DIR, 'models')\n",
        "SCHEMA_FILE = os.path.join(BASE_DIR, 'schema.pbtxt')"
      ]
    },
    {
      "cell_type": "code",
      "execution_count": null,
      "metadata": {
        "id": "Mw6d-3aNw-fm"
      },
      "outputs": [],
      "source": [
        "# uncomment this line if you've downloaded the files before and want to reset\n",
        "# !rm -rf {BASE_DIR}\n",
        "\n",
        "# Download the tar file from GCP\n",
        "!wget {URL}\n",
        "\n",
        "# Extract the tar file to the base directory\n",
        "!tar xzf {TAR_NAME}\n",
        "\n",
        "# Delete tar file\n",
        "!rm {TAR_NAME}"
      ]
    },
    {
      "cell_type": "markdown",
      "metadata": {
        "id": "wrO1e6QnVf9I"
      },
      "source": [
        "You can see the top level file and directories by running the cell below (or just using the file explorer on the left side of this Colab). We'll discuss what each contain in the next sections."
      ]
    },
    {
      "cell_type": "code",
      "execution_count": null,
      "metadata": {
        "id": "NpNZrJl-YJq9"
      },
      "outputs": [],
      "source": [
        "print(\"Here's what we downloaded:\")\n",
        "!ls {BASE_DIR}"
      ]
    },
    {
      "cell_type": "markdown",
      "metadata": {
        "id": "UBhvex2jSBa_"
      },
      "source": [
        "### Preview the dataset"
      ]
    },
    {
      "cell_type": "markdown",
      "metadata": {
        "id": "iIxhCtvaV0cC"
      },
      "source": [
        "The `data/csv` directory contains the test split of the Census Income dataset. We've divided it into several files for this demo notebook:\n",
        "\n",
        "* `data_test.csv` - 15000 rows of test data\n",
        "* `data_test_1.csv` - first 5000 rows of `data_test.csv`\n",
        "* `data_test_2.csv` - next 5000 rows of `data_test.csv`\n",
        "* `data_test_3.csv` - last 5000 rows of `data_test.csv`\n",
        "\n",
        "You can see the description of each column [here](http://archive.ics.uci.edu/ml/machine-learning-databases/adult/adult.names) (please open link in a new window if Colab prevents the download). Also for simplicity, we've already preprocessed the `label` column as binary (i.e. `0` or `1`) to match the model's output. In your own projects, your labels might be in a different data type (e.g. string) and you want to transform that first so you can evaluate your model properly. You can preview the first few rows below:"
      ]
    },
    {
      "cell_type": "code",
      "execution_count": null,
      "metadata": {
        "id": "C4LCdt9zQ1oL"
      },
      "outputs": [],
      "source": [
        "# Path to the full test set\n",
        "TEST_DATA_PATH = os.path.join(CSV_DIR, 'data_test.csv')\n",
        "\n",
        "# Preview the first few rows\n",
        "!head {TEST_DATA_PATH}"
      ]
    },
    {
      "cell_type": "markdown",
      "metadata": {
        "id": "_xa7ZDV1MycO"
      },
      "source": [
        "### Parse the Schema\n",
        "\n",
        "You also downloaded a schema generated by [TensorFlow Data Validation](https://www.tensorflow.org/tfx/data_validation/). You should be familiar with this file type already from previous courses. You will load it now so you can use it in the later parts of the notebook."
      ]
    },
    {
      "cell_type": "code",
      "execution_count": null,
      "metadata": {
        "id": "XYo2SHFzf6_t"
      },
      "outputs": [],
      "source": [
        "# Load the schema as a protocol buffer\n",
        "SCHEMA = tfdv.load_schema_text(SCHEMA_FILE)\n",
        "\n",
        "# Display the schema\n",
        "tfdv.display_schema(SCHEMA)"
      ]
    },
    {
      "cell_type": "markdown",
      "metadata": {
        "id": "UP3yuJxfNXRL"
      },
      "source": [
        "### Use the Schema to Create TFRecords\n",
        "\n",
        "TFMA needs a TFRecord file input so you need to convert the CSVs in the data directory. If you've done the earlier labs, you will know that this can be easily done with `ExampleGen`. For this notebook however, you will use the helper function below instead to demonstrate how it can be done outside a TFX pipeline. You will pass in the schema you loaded in the previous step to determine the correct type of each feature."
      ]
    },
    {
      "cell_type": "code",
      "execution_count": null,
      "metadata": {
        "id": "8-wud3fPczl6"
      },
      "outputs": [],
      "source": [
        "# imports for helper function\n",
        "import csv\n",
        "from tensorflow.core.example import example_pb2\n",
        "from tensorflow_metadata.proto.v0 import schema_pb2\n",
        "\n",
        "def csv_to_tfrecord(schema, csv_file, tfrecord_file):\n",
        "  ''' Converts a csv file into a tfrecord\n",
        "  Args:\n",
        "    schema (schema_pb2) - Schema protobuf from TFDV\n",
        "    csv_file (string) - file to convert to tfrecord\n",
        "    tfrecord_file (string) - filename of tfrecord to create\n",
        "\n",
        "  Returns:\n",
        "    filename of tfrecord\n",
        "  '''\n",
        "\n",
        "  # Open CSV file for reading. Each row is mapped as a dictionary.\n",
        "  reader = csv.DictReader(open(csv_file, 'r'))\n",
        "  \n",
        "  # Initialize TF examples list\n",
        "  examples = []\n",
        "\n",
        "  # For each row in CSV, create a TF Example based on\n",
        "  # the Schema and append to the list\n",
        "  for line in reader:\n",
        "\n",
        "    # Intialize example\n",
        "    example = example_pb2.Example()\n",
        "\n",
        "    # Loop through features in the schema\n",
        "    for feature in schema.feature:\n",
        "\n",
        "      # Get current feature name\n",
        "      key = feature.name\n",
        "\n",
        "      # Populate values based on data type of current feature\n",
        "      if feature.type == schema_pb2.FLOAT:\n",
        "        example.features.feature[key].float_list.value[:] = (\n",
        "            [float(line[key])] if len(line[key]) > 0 else [])\n",
        "      elif feature.type == schema_pb2.INT:\n",
        "        example.features.feature[key].int64_list.value[:] = (\n",
        "            [int(line[key])] if len(line[key]) > 0 else [])\n",
        "      elif feature.type == schema_pb2.BYTES:\n",
        "        example.features.feature[key].bytes_list.value[:] = (\n",
        "            [line[key].encode('utf8')] if len(line[key]) > 0 else [])\n",
        "        \n",
        "    # Append to the list\n",
        "    examples.append(example)\n",
        "\n",
        "  # Write examples to tfrecord file\n",
        "  with tf.io.TFRecordWriter(tfrecord_file) as writer:\n",
        "    for example in examples:\n",
        "      writer.write(example.SerializeToString())\n",
        "  \n",
        "  return tfrecord_file"
      ]
    },
    {
      "cell_type": "markdown",
      "metadata": {
        "id": "sSO1fOrrYZjK"
      },
      "source": [
        "The code below will do the conversion and we've defined some more global variables that you will use in later exercises. "
      ]
    },
    {
      "cell_type": "code",
      "execution_count": null,
      "metadata": {
        "id": "xU8R41EexIoc"
      },
      "outputs": [],
      "source": [
        "# Create tfrecord directory\n",
        "!mkdir {TFRECORD_DIR}\n",
        "\n",
        "# Create list of tfrecord files\n",
        "tfrecord_files = [csv_to_tfrecord(SCHEMA, f'{CSV_DIR}/{name}', f\"{TFRECORD_DIR}/{name.replace('csv','tfrecord')}\") \n",
        "  for name in os.listdir(CSV_DIR)]\n",
        "\n",
        "# Print created files\n",
        "print(f'files created: {tfrecord_files}')\n",
        "\n",
        "# Create variables for each tfrecord\n",
        "TFRECORD_FULL = os.path.join(TFRECORD_DIR, 'data_test.tfrecord')\n",
        "TFRECORD_DAY1 = os.path.join(TFRECORD_DIR, 'data_test_1.tfrecord')\n",
        "TFRECORD_DAY2 = os.path.join(TFRECORD_DIR, 'data_test_2.tfrecord')\n",
        "TFRECORD_DAY3 = os.path.join(TFRECORD_DIR, 'data_test_3.tfrecord')\n",
        "\n",
        "# Delete unneeded variable\n",
        "del tfrecord_files"
      ]
    },
    {
      "cell_type": "markdown",
      "metadata": {
        "id": "Wr6d8JqzR8TZ"
      },
      "source": [
        "### Pretrained models\n",
        "\n",
        "Lastly, you also downloaded pretrained Keras models and they are stored in the `models/` directory. TFMA supports a number of different model types including TF Keras models, models based on generic TF2 signature APIs, as well TF estimator based models. The [get_started](https://www.tensorflow.org/tfx/model_analysis/get_started) guide has the full list of model types supported and any restrictions. You can also consult the [FAQ](https://www.tensorflow.org/tfx/model_analysis/faq) for examples on how to configure these models.\n",
        "\n",
        "We have included three models and you can choose to analyze any one of them in the later sections. These were saved in [SavedModel](https://www.tensorflow.org/guide/saved_model) format which is the default when saving with the Keras Models API."
      ]
    },
    {
      "cell_type": "code",
      "execution_count": null,
      "metadata": {
        "id": "HQ4mjuMkR7z2"
      },
      "outputs": [],
      "source": [
        "# list model directories\n",
        "!ls {MODELS_DIR}\n",
        "\n",
        "# Create string variables for each model directory\n",
        "MODEL1_FILE = os.path.join(MODELS_DIR, 'model1')\n",
        "MODEL2_FILE = os.path.join(MODELS_DIR, 'model2')\n",
        "MODEL3_FILE = os.path.join(MODELS_DIR, 'model3')"
      ]
    },
    {
      "cell_type": "markdown",
      "metadata": {
        "id": "x0eQ0M7BI6IG"
      },
      "source": [
        "As mentioned earlier, these models were trained on the [Census Income dataset](http://archive.ics.uci.edu/ml/datasets/Census+Income). The label is `1` if a person earns more than 50k USD and `0` if less than or equal. You can load one of the models and look at the summary to get a sense of its architecture. All three models use the same architecture but were trained with different epochs to simulate varying performance."
      ]
    },
    {
      "cell_type": "code",
      "execution_count": null,
      "metadata": {
        "id": "vvIEhxeMxekr"
      },
      "outputs": [],
      "source": [
        "# Load model 1\n",
        "model = tf.keras.models.load_model(MODEL1_FILE)\n",
        "\n",
        "# Print summary. You can ignore the warnings at the start.\n",
        "model.summary()"
      ]
    },
    {
      "cell_type": "markdown",
      "metadata": {
        "id": "L8P-3h-HLPtH"
      },
      "source": [
        "You can see the code to build these in the next lab. For now, you'll only need to take note of a few things. First, the output is a single dense unit with a sigmoid activation (i.e. `dense_5` above). This is standard for binary classification problems.\n",
        "\n",
        "Another is that the model is exported with a transformation layer. You can see this in the summary above at the bottom row named `transform_features_layer` and it is not connected to the other layers. From previous labs, you will know that this is taken from the graph generated by the `Transform` component. It helps to avoid training-serving skews by making sure that raw inputs are transformed in the same way that the model expects. It is also available as a `tft_layer` property of the model object."
      ]
    },
    {
      "cell_type": "code",
      "execution_count": null,
      "metadata": {
        "id": "qjEsamx6620d"
      },
      "outputs": [],
      "source": [
        "# Transformation layer can be accessed in two ways. These are equivalent.\n",
        "model.get_layer('transform_features_layer') is model.tft_layer"
      ]
    },
    {
      "cell_type": "markdown",
      "metadata": {
        "id": "Cvzrnszr9YL1"
      },
      "source": [
        "TFMA invokes this layer automatically for your raw inputs but we've included a short snippet below to demonstrate how the transformation works. You can see that the raw features are indeed reformatted to an acceptable input for the model. The raw numeric features are scaled and the raw categorical (string) features are encoded to one-hot vectors."
      ]
    },
    {
      "cell_type": "code",
      "execution_count": null,
      "metadata": {
        "id": "pIUo4v_NFBuO"
      },
      "outputs": [],
      "source": [
        "from tensorflow_transform.tf_metadata import schema_utils\n",
        "\n",
        "# Load one tfrecord\n",
        "tfrecord_file = tf.data.TFRecordDataset(TFRECORD_DAY1)\n",
        "\n",
        "# Parse schema object as a feature spec\n",
        "feature_spec = schema_utils.schema_as_feature_spec(SCHEMA).feature_spec\n",
        "\n",
        "# Create a batch from the dataset\n",
        "for records in tfrecord_file.batch(1).take(1):\n",
        "\n",
        "  # Parse the batch to get a dictionary of raw features\n",
        "  parsed_examples = tf.io.parse_example(records, feature_spec)\n",
        "\n",
        "  # Print the results\n",
        "  print(\"\\nRAW FEATURES:\")\n",
        "  for key, value in parsed_examples.items():\n",
        "    print(f'{key}: {value.numpy()}')\n",
        "  \n",
        "  # Pop the label since the model does not expect a label input\n",
        "  parsed_examples.pop('label')\n",
        "\n",
        "  # Transform the rest of the raw features using the transform layer\n",
        "  transformed_examples = model.tft_layer(parsed_examples)\n",
        "\n",
        "  # Print the input to the model\n",
        "  print(\"\\nTRANSFORMED FEATURES:\")\n",
        "  for key, value in transformed_examples.items():\n",
        "    print(f'{key}: {value.numpy()}')"
      ]
    },
    {
      "cell_type": "markdown",
      "metadata": {
        "id": "AEeCIAwXJnDr"
      },
      "source": [
        "The transformed features can be passed into the model to get the predictions. The snippet below demonstrates this and we used a low-threshold [BinaryAccuracy](https://www.tensorflow.org/api_docs/python/tf/keras/metrics/BinaryAccuracy) metric to compare the true labels and model predictions."
      ]
    },
    {
      "cell_type": "code",
      "execution_count": null,
      "metadata": {
        "id": "FXIrFLKPyHtz"
      },
      "outputs": [],
      "source": [
        "from tensorflow_transform.tf_metadata import schema_utils\n",
        "\n",
        "# Load one tfrecord\n",
        "tfrecord_file = tf.data.TFRecordDataset(TFRECORD_DAY1)\n",
        "\n",
        "# Parse schema object as a feature spec\n",
        "feature_spec = schema_utils.schema_as_feature_spec(SCHEMA).feature_spec\n",
        "\n",
        "# Create a batch from the dataset\n",
        "for records in tfrecord_file.batch(5).take(1):\n",
        "\n",
        "  # Get the label values from the raw input\n",
        "  parsed_examples = tf.io.parse_example(records, feature_spec)\n",
        "  y_true = parsed_examples.pop('label')\n",
        "  print(f'labels:\\n {y_true.numpy()}\\n')\n",
        "  \n",
        "  # Transform the raw features and pass to the model to get predictions\n",
        "  transformed_examples = model.tft_layer(parsed_examples)\n",
        "  y_pred = model(transformed_examples)\n",
        "  print(f'predictions:\\n {y_pred.numpy()}\\n')\n",
        "  \n",
        "  # Measure the binary accuracy\n",
        "  metric = tf.keras.metrics.BinaryAccuracy(threshold=0.3)\n",
        "  metric.update_state(y_true, y_pred)\n",
        "  print(f'binary accuracy: {metric.result().numpy()}\\n')"
      ]
    },
    {
      "cell_type": "markdown",
      "metadata": {
        "id": "MGFEc_P0LH8b"
      },
      "source": [
        "Last thing to note is the model is also exported with a [serving signature](https://www.tensorflow.org/guide/saved_model#specifying_signatures_during_export). You will know more about this in the next lab and in later parts of the specialization but for now, you can think of it as a configuration for when the model is deployed for inference. For this particular model, the default signature is configured to transform batches of serialized raw features before feeding to the model input. That way, you wouldn't have to explicitly code the transformations as previously shown in the snippet above. You can just pass in batches of data directly as shown below. "
      ]
    },
    {
      "cell_type": "code",
      "execution_count": null,
      "metadata": {
        "id": "Nh9rvKbSUW_l"
      },
      "outputs": [],
      "source": [
        "# Load one tfrecord\n",
        "tfrecord_file = tf.data.TFRecordDataset(TFRECORD_DAY1)\n",
        "\n",
        "# Print available signatures\n",
        "print(f'model signatures: {model.signatures}\\n')\n",
        "\n",
        "# Create a batch\n",
        "for records in tfrecord_file.batch(5).take(1):\n",
        "\n",
        "  # Pass the batch to the model serving signature to get predictions\n",
        "  output = model.signatures['serving_default'](examples=records)\n",
        "\n",
        "  # Print results\n",
        "  print(f\"predictions:\\n {output['output_0']}\\n\")"
      ]
    },
    {
      "cell_type": "markdown",
      "metadata": {
        "id": "8gNoFWd3N-9b"
      },
      "source": [
        "TFMA accesses this model signature so it can work with the raw data and evaluate the model to get the metrics. Not only that, it can also extract specific features and domain values from your dataset before it computes these metrics. Let's see how this is done in the next section."
      ]
    },
    {
      "cell_type": "markdown",
      "metadata": {
        "id": "fp8Ub7GTXH3j"
      },
      "source": [
        "## Setup and Run TFMA\n",
        "\n",
        "With the dataset and model now available, you can now move on to use TFMA. There are some additional steps needed:\n",
        "\n",
        "* Create a `tfma.EvalConfig` protocol message containing details about the models, metrics, and data slices you'd like to analyze\n",
        "* Create a `tfma.EvalSharedModel` that points to your saved models.\n",
        "* Specify an output path where the analysis results will be stored "
      ]
    },
    {
      "cell_type": "markdown",
      "metadata": {
        "id": "qgC7NdCatT8y"
      },
      "source": [
        "### Create EvalConfig\n",
        "\n",
        "The [tfma.EvalConfig()](https://www.tensorflow.org/tfx/model_analysis/api_docs/python/tfma/EvalConfig?hl=nn&skip_cache=true) is a protocol message that sets up the analysis. Here, you will specify:\n",
        "\n",
        "* [`model_specs`](https://www.tensorflow.org/tfx/model_analysis/api_docs/python/tfma/ModelSpec) - message containing at least the label key so it can be extracted from the evaluation/test data\n",
        "\n",
        "* [`metrics_specs`](https://www.tensorflow.org/tfx/model_analysis/api_docs/python/tfma/MetricsSpec) - containing the metrics you would like to evaluate. A comprehensive guide can be found [here](https://www.tensorflow.org/tfx/model_analysis/metrics) and you will use the binary classification metrics for this exercise.\n",
        "\n",
        "* [`slicing_specs`](https://www.tensorflow.org/tfx/model_analysis/api_docs/python/tfma/SlicingSpec) - containing the feature slices you would like to compute metrics for. A short description of different types of slices is shown [here](https://www.tensorflow.org/tfx/model_analysis/setup#slicing_specs)\n",
        "\n",
        "The eval config should be passed as a protocol message and you can use the [google.protobuf.text_format](https://googleapis.dev/python/protobuf/latest/google/protobuf/text_format.html) module for that as shown below."
      ]
    },
    {
      "cell_type": "code",
      "execution_count": null,
      "metadata": {
        "id": "PLJxcjpjfwkx"
      },
      "outputs": [],
      "source": [
        "import tensorflow_model_analysis as tfma\n",
        "from google.protobuf import text_format\n",
        "\n",
        "# Setup tfma.EvalConfig settings\n",
        "eval_config = text_format.Parse(\"\"\"\n",
        "  ## Model information\n",
        "  model_specs {\n",
        "    # For keras (and serving models), you need to add a `label_key`.\n",
        "    label_key: \"label\"\n",
        "  }\n",
        "\n",
        "  ## Post training metric information. These will be merged with any built-in\n",
        "  ## metrics from training.\n",
        "  metrics_specs {\n",
        "    metrics { class_name: \"ExampleCount\" }\n",
        "    metrics { class_name: \"BinaryAccuracy\" }\n",
        "    metrics { class_name: \"BinaryCrossentropy\" }\n",
        "    metrics { class_name: \"AUC\" }\n",
        "    metrics { class_name: \"AUCPrecisionRecall\" }\n",
        "    metrics { class_name: \"Precision\" }\n",
        "    metrics { class_name: \"Recall\" }\n",
        "    metrics { class_name: \"MeanLabel\" }\n",
        "    metrics { class_name: \"MeanPrediction\" }\n",
        "    metrics { class_name: \"Calibration\" }\n",
        "    metrics { class_name: \"CalibrationPlot\" }\n",
        "    metrics { class_name: \"ConfusionMatrixPlot\" }\n",
        "    # ... add additional metrics and plots ...\n",
        "  }\n",
        "\n",
        "  ## Slicing information\n",
        "\n",
        "  # overall slice\n",
        "  slicing_specs {}\n",
        "\n",
        "  # slice specific features\n",
        "  slicing_specs {\n",
        "    feature_keys: [\"sex\"]\n",
        "  }\n",
        "  slicing_specs {\n",
        "    feature_keys: [\"race\"]\n",
        "  }\n",
        "\n",
        "  # slice specific values from features\n",
        "  slicing_specs {\n",
        "    feature_values: {\n",
        "      key: \"native-country\"\n",
        "      value: \"Cambodia\"\n",
        "    }\n",
        "  }\n",
        "  slicing_specs {\n",
        "    feature_values: {\n",
        "      key: \"native-country\"\n",
        "      value: \"Canada\"\n",
        "    }\n",
        "  }\n",
        "\n",
        "  # slice feature crosses\n",
        "  slicing_specs {\n",
        "    feature_keys: [\"sex\", \"race\"]\n",
        "  }\n",
        "\"\"\", tfma.EvalConfig())"
      ]
    },
    {
      "cell_type": "markdown",
      "metadata": {
        "id": "J165kzHNTEQN"
      },
      "source": [
        "### Create EvalSharedModel\n",
        "\n",
        "TFMA also requires an [EvalSharedModel](https://www.tensorflow.org/tfx/model_analysis/api_docs/python/tfma/types/EvalSharedModel) instance that points to your model so it can be shared between multiple threads in the same process. This instance includes information about the type of model (keras, etc) and how to load and configure the model from its saved location on disk (e.g. tags, etc). The [tfma.default_eval_shared_model()](https://www.tensorflow.org/tfx/model_analysis/api_docs/python/tfma/default_eval_shared_model) API can be used to create this given the model location and eval config."
      ]
    },
    {
      "cell_type": "code",
      "execution_count": null,
      "metadata": {
        "id": "KsnjbIi5OtXb"
      },
      "outputs": [],
      "source": [
        "# Create a tfma.EvalSharedModel that points to your model.\n",
        "# You can ignore the warnings generated.\n",
        "eval_shared_model = tfma.default_eval_shared_model(\n",
        "    eval_saved_model_path=MODEL1_FILE,\n",
        "    eval_config=eval_config)"
      ]
    },
    {
      "cell_type": "code",
      "execution_count": null,
      "metadata": {
        "id": "F0s4wWgQb2LT"
      },
      "outputs": [],
      "source": [
        "# Show properties of EvalSharedModel\n",
        "print(f'EvalSharedModel contents: {eval_shared_model}')"
      ]
    },
    {
      "cell_type": "markdown",
      "metadata": {
        "id": "pViNbIpuVYLU"
      },
      "source": [
        "### Run TFMA\n",
        "\n",
        "With the setup complete, you just need to declare an output directory then run TFMA. You will pass in the eval config, shared model, dataset, and output directory to [`tfma.run_model_analysis()`](https://www.tensorflow.org/tfx/model_analysis/api_docs/python/tfma/run_model_analysis) as shown below. This will create a [`tfma.EvalResult`](https://www.tensorflow.org/tfx/model_analysis/api_docs/python/tfma/EvalResult) which you can use later for rendering metrics and plots."
      ]
    },
    {
      "cell_type": "code",
      "execution_count": null,
      "metadata": {
        "id": "P3ej6jgiVkuY"
      },
      "outputs": [],
      "source": [
        "# Specify output path for the evaluation results\n",
        "OUTPUT_DIR = os.path.join(BASE_DIR, 'output')\n",
        "\n",
        "# Run TFMA. You can ignore the warnings generated.\n",
        "eval_result = tfma.run_model_analysis(\n",
        "    eval_shared_model=eval_shared_model,\n",
        "    eval_config=eval_config,\n",
        "    data_location=TFRECORD_FULL,\n",
        "    output_path=OUTPUT_DIR)"
      ]
    },
    {
      "cell_type": "markdown",
      "metadata": {
        "id": "A0khNBC9FlEO"
      },
      "source": [
        "## Visualizing Metrics and Plots\n",
        "\n",
        "You can visualize the results also using TFMA methods. In this section, you will view the returned metrics and plots for the different slices you specified in the eval config."
      ]
    },
    {
      "cell_type": "markdown",
      "metadata": {
        "id": "cSl9qyTCbBKR"
      },
      "source": [
        "### Rendering Metrics\n",
        "\n",
        "You can view the metrics with the [`tfma.view.render_slicing_metrics()`](https://www.tensorflow.org/tfx/model_analysis/api_docs/python/tfma/view/render_slicing_metrics) method. By default, the views will display the `Overall` slice. To view a particular slice you can pass in a feature name to the `slicing_column` argument as shown below. You can visualize the different metrics through the `Show` dropdown menu and you can hover over the bar charts to show the exact value measured. \n",
        "\n",
        "We encourage you to try the different options you see and also modify the command. Here are some examples:\n",
        "\n",
        "* Removing the `slicing_column` argument will produce the overall slice.\n",
        "* You can also pass in `race` (since it was specified in the eval config) to see the results for that particular slice.\n",
        "* Using the `Examples (Weighted) Threshold` slider above 5421 will remove the `Female` slice because it has less examples than that.\n",
        "* Toggling the `View` dropdown to `Metrics Histogram` will show the results divided into buckets. For example, if you're slicing column is `sex` and the `Histogram Type` dropdown is at `Slice Counts`, then you will one slice in two of the 10 (default) buckets since we only have two values for that feature ('Male' and 'Female'). The x-axis show the values for the metric in the `Select Metric` dropdown. This is the default view when the number of slices is large.\n",
        "* At the bottom of the screen, you will notice the measurements also presented in tabular format. You can sort it by clicking on the feature name headers."
      ]
    },
    {
      "cell_type": "code",
      "execution_count": null,
      "metadata": {
        "id": "hJ5_UMnWYmaE"
      },
      "outputs": [],
      "source": [
        "# Render metrics for a feature\n",
        "tfma.view.render_slicing_metrics(eval_result, slicing_column='sex')"
      ]
    },
    {
      "cell_type": "markdown",
      "metadata": {
        "id": "hSnqI6Esb1XM"
      },
      "source": [
        "### More Slices\n",
        "\n",
        "If you haven't yet, you can also pass in the `native-country` to the slicing column. The difference in this visualization is we only specified two of its values in the eval config earlier. This is useful if you just want to study a subgroup of a particular feature and not the entire domain."
      ]
    },
    {
      "cell_type": "code",
      "execution_count": null,
      "metadata": {
        "id": "355wqvY3yBod"
      },
      "outputs": [],
      "source": [
        "# Render metrics for feature. Review EvalConfig message to see what values were selected.\n",
        "tfma.view.render_slicing_metrics(eval_result, slicing_column='native-country')"
      ]
    },
    {
      "cell_type": "markdown",
      "metadata": {
        "id": "PsXM0NYGeajg"
      },
      "source": [
        "TFMA also supports creating feature crosses to analyze combinations of features. Our original settings created a cross between `sex` and `race` and you can pass it in as a [SlicingSpec](https://www.tensorflow.org/tfx/model_analysis/api_docs/python/tfma/SlicingSpec) as shown below."
      ]
    },
    {
      "cell_type": "code",
      "execution_count": null,
      "metadata": {
        "id": "k7vbFS1Me1SH"
      },
      "outputs": [],
      "source": [
        "# Render metrics for feature crosses\n",
        "tfma.view.render_slicing_metrics(\n",
        "    eval_result,\n",
        "    slicing_spec=tfma.SlicingSpec(\n",
        "        feature_keys=['sex', 'race']))"
      ]
    },
    {
      "cell_type": "markdown",
      "metadata": {
        "id": "GmeODqrUfJw2"
      },
      "source": [
        "In some cases, crossing the two columns creates a lot of combinations. You can narrow down the results to only look at specific values by specifying it in the `slicing_spec` argument. Below shows the results for the `sex` feature for the `Other` race."
      ]
    },
    {
      "cell_type": "code",
      "execution_count": null,
      "metadata": {
        "id": "kdvBNfcHfRWg"
      },
      "outputs": [],
      "source": [
        "# Narrow down the feature crosses by specifying feature values\n",
        "tfma.view.render_slicing_metrics(\n",
        "    eval_result,\n",
        "    slicing_spec=tfma.SlicingSpec(\n",
        "        feature_keys=['sex'], feature_values={'race': 'Other'}))"
      ]
    },
    {
      "cell_type": "markdown",
      "metadata": {
        "id": "f8acksU33KMm"
      },
      "source": [
        "### Rendering Plots\n",
        "\n",
        "Any plots that were added to the `tfma.EvalConfig` as post training `metric_specs` can be displayed using [`tfma.view.render_plot`](https://www.tensorflow.org/tfx/model_analysis/api_docs/python/tfma/view/render_plot).\n",
        "\n",
        "As with metrics, plots can be viewed by slice. Unlike metrics, only plots for a particular slice value can be displayed so the `tfma.SlicingSpec` must be used and it must specify both a slice feature name and value. If no slice is provided then the plots for the `Overall` slice is used.\n",
        "\n",
        "The example below displays the plots that were computed for the `sex:Male` slice. You can click on the names at the bottom of the graph to see a different plot type. Alternatively, you can tick the `Show all plots` checkbox to show all the plots in one screen."
      ]
    },
    {
      "cell_type": "code",
      "execution_count": null,
      "metadata": {
        "id": "X4TCKjGw3S-a"
      },
      "outputs": [],
      "source": [
        "# Render plots\n",
        "tfma.view.render_plot(\n",
        "    eval_result,\n",
        "    tfma.SlicingSpec(feature_values={'sex': 'Male'}))"
      ]
    },
    {
      "cell_type": "markdown",
      "metadata": {
        "id": "meRvFkKcPbux"
      },
      "source": [
        "## Tracking Model Performance Over Time\n",
        "\n",
        "Your training dataset will be used for training your model, and will hopefully be representative of your test dataset and the data that will be sent to your model in production.  However, while the data in inference requests may remain the same as your training data, it can also start to change enough so that the performance of your model will change. That means that you need to monitor and measure your model's performance on an ongoing basis so that you can be aware of and react to changes.\n",
        "\n",
        "Let's take a look at how TFMA can help. You will load three different datasets and compare the model analysis results using the [`render_time_series()`](https://www.tensorflow.org/tfx/model_analysis/api_docs/python/tfma/view/render_time_series) method."
      ]
    },
    {
      "cell_type": "code",
      "execution_count": null,
      "metadata": {
        "id": "zJYUOjmFfuPy"
      },
      "outputs": [],
      "source": [
        "import os\n",
        "\n",
        "# Put data paths we prepared earlier in a list\n",
        "TFRECORDS = [TFRECORD_DAY1, TFRECORD_DAY2, TFRECORD_DAY3]\n",
        "\n",
        "# Initialize output paths list for each result \n",
        "output_paths = []\n",
        "\n",
        "# Run eval on each tfrecord separately\n",
        "for num, tfrecord in enumerate(TFRECORDS):\n",
        "\n",
        "  # Use the same model as before\n",
        "  eval_shared_model = tfma.default_eval_shared_model(\n",
        "      eval_saved_model_path=MODEL1_FILE,\n",
        "      eval_config=eval_config)\n",
        "\n",
        "  # Prepare output path name\n",
        "  output_path = os.path.join('.', 'time_series', str(num))\n",
        "  output_paths.append(output_path)\n",
        "\n",
        "  # Run TFMA on the current tfrecord in the loop\n",
        "  tfma.run_model_analysis(eval_shared_model=eval_shared_model,\n",
        "                          eval_config=eval_config,\n",
        "                          data_location=tfrecord,\n",
        "                          output_path=output_path)"
      ]
    },
    {
      "cell_type": "markdown",
      "metadata": {
        "id": "RsO-gqCRK0ar"
      },
      "source": [
        "First, imagine that you've trained and deployed your model yesterday. And now, you want to see how it's doing on the new data coming in today.  The visualization will start by displaying AUC. From the UI, you can:\n",
        "\n",
        "* Add other metrics using the \"Add metric series\" menu.\n",
        "* Close unwanted graphs by clicking on x\n",
        "* Hover over data points (the ends of line segments in the graph) to get more details\n",
        "\n",
        "Note: In the metric series charts, the x-axis is just the model directory name of the model that you're examining."
      ]
    },
    {
      "cell_type": "code",
      "execution_count": null,
      "metadata": {
        "id": "KjEws8T0cDm9"
      },
      "outputs": [],
      "source": [
        "# Load results for day 1 and day 2 datasets\n",
        "eval_results_from_disk = tfma.load_eval_results(output_paths[:2])\n",
        "\n",
        "# Visualize results\n",
        "tfma.view.render_time_series(eval_results_from_disk)"
      ]
    },
    {
      "cell_type": "markdown",
      "metadata": {
        "id": "EQ7kZxESN9Bx"
      },
      "source": [
        "Now imagine that another day has passed and you want to see how it's doing on the new data coming in today."
      ]
    },
    {
      "cell_type": "code",
      "execution_count": null,
      "metadata": {
        "id": "VjQmlXMmLwHf"
      },
      "outputs": [],
      "source": [
        "# Load results for all three days\n",
        "eval_results_from_disk = tfma.load_eval_results(output_paths)\n",
        "\n",
        "# Visualize the results\n",
        "tfma.view.render_time_series(eval_results_from_disk)"
      ]
    },
    {
      "cell_type": "markdown",
      "metadata": {
        "id": "oWD68u-emPN9"
      },
      "source": [
        "This type of investigation lets you see if your model is behaving poorly on new data. You can make the decision to retrain your production model based on these results. Retraining might not always produce the best results and you also need a way to detect that. You will see how TFMA helps in that regard in the next section."
      ]
    },
    {
      "cell_type": "markdown",
      "metadata": {
        "id": "N1jpShgQxlVL"
      },
      "source": [
        "## Model Validation\n",
        "\n",
        "TFMA can be configured to evaluate multiple models at the same time. Typically, this is done to compare a candidate model against a baseline (such as the currently serving model) to determine what the performance differences in metrics are. When [thresholds](https://www.tensorflow.org/tfx/model_analysis/api_docs/python/tfma/MetricThreshold) are configured, TFMA will produce a [`tfma.ValidationResult`](https://www.tensorflow.org/tfx/model_analysis/api_docs/python/tfma/ValidationResult) record indicating whether the performance matches expecations.\n",
        "\n",
        "Below, you will re-configure the EvalConfig settings to compare two models: a candidate and a baseline. You will also validate the candidate's performance against the baseline by setting a [`tmfa.MetricThreshold`](https://www.tensorflow.org/tfx/model_analysis/api_docs/python/tfma/MetricThreshold) on the `BinaryAccuracy` metric. This helps in determining if your new model can indeed replace your currently deployed model."
      ]
    },
    {
      "cell_type": "code",
      "execution_count": null,
      "metadata": {
        "id": "kkatdR6Y1-4G"
      },
      "outputs": [],
      "source": [
        "# Setup tfma.EvalConfig setting with metric thresholds\n",
        "eval_config_with_thresholds = text_format.Parse(\"\"\"\n",
        "  ## Model information\n",
        "  model_specs {\n",
        "    name: \"candidate\"\n",
        "    label_key: \"label\"\n",
        "  }\n",
        "  model_specs {\n",
        "    name: \"baseline\"\n",
        "    label_key: \"label\"\n",
        "    is_baseline: true\n",
        "  }\n",
        "\n",
        "  ## Post training metric information\n",
        "  metrics_specs {\n",
        "    metrics { class_name: \"ExampleCount\" }\n",
        "    metrics {\n",
        "      class_name: \"BinaryAccuracy\"\n",
        "      threshold {\n",
        "        # Ensure that metric is always > 0.9\n",
        "        value_threshold {\n",
        "          lower_bound { value: 0.9 }\n",
        "        }\n",
        "        # Ensure that metric does not drop by more than a small epsilon\n",
        "        # e.g. (candidate - baseline) > -1e-10 or candidate > baseline - 1e-10\n",
        "        change_threshold {\n",
        "          direction: HIGHER_IS_BETTER\n",
        "          absolute { value: -1e-10 }\n",
        "        }\n",
        "      }\n",
        "    }\n",
        "    metrics { class_name: \"BinaryCrossentropy\" }\n",
        "    metrics { class_name: \"AUC\" }\n",
        "    metrics { class_name: \"AUCPrecisionRecall\" }\n",
        "    metrics { class_name: \"Precision\" }\n",
        "    metrics { class_name: \"Recall\" }\n",
        "    metrics { class_name: \"MeanLabel\" }\n",
        "    metrics { class_name: \"MeanPrediction\" }\n",
        "    metrics { class_name: \"Calibration\" }\n",
        "    metrics { class_name: \"CalibrationPlot\" }\n",
        "    metrics { class_name: \"ConfusionMatrixPlot\" }\n",
        "    # ... add additional metrics and plots ...\n",
        "  }\n",
        "\n",
        "  ## Slicing information\n",
        "  slicing_specs {}  # overall slice\n",
        "  slicing_specs {\n",
        "    feature_keys: [\"race\"]\n",
        "  }\n",
        "  slicing_specs {\n",
        "    feature_keys: [\"sex\"]\n",
        "  }\n",
        "\"\"\", tfma.EvalConfig())\n",
        "\n",
        "# Create tfma.EvalSharedModels that points to the candidate and baseline\n",
        "candidate_model_path = MODEL1_FILE\n",
        "baseline_model_path = MODEL2_FILE\n",
        "\n",
        "eval_shared_models = [\n",
        "  tfma.default_eval_shared_model(\n",
        "      model_name=tfma.CANDIDATE_KEY,\n",
        "      eval_saved_model_path=candidate_model_path,\n",
        "      eval_config=eval_config_with_thresholds),\n",
        "  tfma.default_eval_shared_model(\n",
        "      model_name=tfma.BASELINE_KEY,\n",
        "      eval_saved_model_path=baseline_model_path,\n",
        "      eval_config=eval_config_with_thresholds),\n",
        "]\n",
        "\n",
        "# Specify validation path\n",
        "validation_output_path = os.path.join(OUTPUT_DIR, 'validation')\n",
        "\n",
        "# Run TFMA on the two models\n",
        "eval_result_with_validation = tfma.run_model_analysis(\n",
        "    eval_shared_models,\n",
        "    eval_config=eval_config_with_thresholds,\n",
        "    data_location=TFRECORD_FULL,\n",
        "    output_path=validation_output_path)"
      ]
    },
    {
      "cell_type": "markdown",
      "metadata": {
        "id": "siF6npd3IfJq"
      },
      "source": [
        "When running evaluations with one or more models against a baseline, TFMA automatically adds different metrics for all the metrics computed during the evaluation. These metrics are named after the corresponding metric but with the string `_diff` appended to the metric name. A positive value for these `_diff` metrics indicates an improved performance against the baseline.\n",
        "\n",
        "Like in the previous section, you can view the results with `render_time_series()`."
      ]
    },
    {
      "cell_type": "code",
      "execution_count": null,
      "metadata": {
        "id": "yGIw9TDuJ7wn"
      },
      "outputs": [],
      "source": [
        "# Render results\n",
        "tfma.view.render_time_series(eval_result_with_validation)"
      ]
    },
    {
      "cell_type": "markdown",
      "metadata": {
        "id": "JIsehm_V4oKU"
      },
      "source": [
        "You can use [`tfma.load_validator_result`](https://www.tensorflow.org/tfx/model_analysis/api_docs/python/tfma/load_validation_result) to view the validation results you specified with the threshold settings. For this example, the validation fails because `BinaryAccuracy` is below the threshold."
      ]
    },
    {
      "cell_type": "code",
      "execution_count": null,
      "metadata": {
        "id": "48EdSTUW5eE1"
      },
      "outputs": [],
      "source": [
        "# Print validation result\n",
        "validation_result = tfma.load_validation_result(validation_output_path)\n",
        "print(validation_result.validation_ok)"
      ]
    },
    {
      "cell_type": "markdown",
      "metadata": {
        "id": "aBhzlF-lqRFY"
      },
      "source": [
        "**Congratulations! You have now explored the different methods of model analysis using TFMA. In the next section, you will see how these can fit into a TFX pipeline so you can automate the process and store the results in your pipeline directory and metadata store.**"
      ]
    }
  ],
  "metadata": {
    "colab": {
      "private_outputs": true,
      "provenance": [],
      "toc_visible": true
    },
    "kernelspec": {
      "display_name": "Python 3.8.12 64-bit ('coursera')",
      "language": "python",
      "name": "python3"
    },
    "language_info": {
      "codemirror_mode": {
        "name": "ipython",
        "version": 3
      },
      "file_extension": ".py",
      "mimetype": "text/x-python",
      "name": "python",
      "nbconvert_exporter": "python",
      "pygments_lexer": "ipython3",
      "version": "3.8.12"
    },
    "vscode": {
      "interpreter": {
        "hash": "b069979c1fefe3ddc76bd4659306b5d6dd6544d257f09710d67492f81feb2e43"
      }
    }
  },
  "nbformat": 4,
  "nbformat_minor": 0
}
