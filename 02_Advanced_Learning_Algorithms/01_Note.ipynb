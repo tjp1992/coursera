{
 "cells": [
  {
   "cell_type": "code",
   "execution_count": 1,
   "metadata": {},
   "outputs": [],
   "source": [
    "import pandas as pd\n",
    "import numpy as np\n",
    "import matplotlib.pyplot as plt\n",
    "import seaborn as sns"
   ]
  },
  {
   "cell_type": "markdown",
   "metadata": {},
   "source": [
    "# Week 1\n",
    "\n",
    "The following notebook summarizes the Second part of [Machine Learning Specialization](https://www.coursera.org/learn/advanced-learning-algorithms?courseSlug=advanced-learning-algorithms&showOnboardingModal=checkAndRedirect&specialization=machine-learning-introduction) which deals with *Neural Networks* and Training Models."
   ]
  },
  {
   "cell_type": "markdown",
   "metadata": {},
   "source": [
    "### Neural Network \n",
    "\n",
    "Neural network is a model which comprises of multiple layers to imitate the structure of human brain cells. Layers include *Input Layer*, *Hidden Layer* and *Output Layer*. Depending on the layer structure layers can be connected *Dense*"
   ]
  },
  {
   "cell_type": "markdown",
   "metadata": {},
   "source": [
    "### layer\n",
    "\n",
    "A layer composes of multiple neurons that is grouped as one layer. Each layer ouputs an *activation values* which will be fed into the next layer, which ultimately will predict/forecast the value(regression) or probability(logistic regression) depending on the purpose of the model.\n",
    "\n",
    "\n",
    "The Following equation demonstrates the equation of a single *neuron* of a *hidden layer* what is doing *logistic regression*\n",
    "\n",
    "$$\n",
    "a_{j}^{l} = g(\\vec{w}_{j}^{[l]} * \\vec{a}^{[l-1]} + b_{j}^{[l]})\n",
    "$$\n",
    "\n",
    "$a_{j}^{l}$ denotes the output value of the *current layer* which will be subsequently used as input for the next layer and $\\vec{a^{[l-1]}}$ denotes the output vector from the previous layer"
   ]
  },
  {
   "cell_type": "markdown",
   "metadata": {},
   "source": []
  }
 ],
 "metadata": {
  "kernelspec": {
   "display_name": "Python 3.8.12 64-bit ('lewagon')",
   "language": "python",
   "name": "python3"
  },
  "language_info": {
   "codemirror_mode": {
    "name": "ipython",
    "version": 3
   },
   "file_extension": ".py",
   "mimetype": "text/x-python",
   "name": "python",
   "nbconvert_exporter": "python",
   "pygments_lexer": "ipython3",
   "version": "3.8.12"
  },
  "orig_nbformat": 4,
  "vscode": {
   "interpreter": {
    "hash": "3409ef4a337282d13679ec96c667699dc5fb30c5ff7a8068d7e26a8f562e91ff"
   }
  }
 },
 "nbformat": 4,
 "nbformat_minor": 2
}
