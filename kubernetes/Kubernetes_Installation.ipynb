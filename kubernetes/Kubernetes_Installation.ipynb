{
 "cells": [
  {
   "cell_type": "markdown",
   "metadata": {},
   "source": [
    "# Kubernetes Installation\n",
    "\n",
    "The following note summarizes kubernetes cluster deployment considerations. The following notebook covers four parts of kubernetes cluster deployment.\n",
    "\n",
    "- [Kubernetes configuration options](#kubernetes-configuration)\n",
    "- Infrastructure considerations before installing kubernetes\n",
    "- Infrastructure choices for a kubernetes cluster deployment\n",
    "- Kubernetes installation tools and certified solutions"
   ]
  },
  {
   "cell_type": "markdown",
   "metadata": {},
   "source": [
    "### Kubernetes Configuration\n",
    "\n"
   ]
  }
 ],
 "metadata": {
  "kernelspec": {
   "display_name": "Python 3.8.12 64-bit ('shims')",
   "language": "python",
   "name": "python3"
  },
  "language_info": {
   "name": "python",
   "version": "3.8.12"
  },
  "orig_nbformat": 4,
  "vscode": {
   "interpreter": {
    "hash": "82f1088fa484f5b54e382e6f3ab804b0f8e7491f37ff80b3b36194223562fb4e"
   }
  }
 },
 "nbformat": 4,
 "nbformat_minor": 2
}
