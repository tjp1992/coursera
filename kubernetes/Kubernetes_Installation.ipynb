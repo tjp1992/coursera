{
 "cells": [
  {
   "cell_type": "markdown",
   "metadata": {},
   "source": [
    "# Kubernetes Installation\n",
    "\n",
    "The following note summarizes kubernetes cluster deployment considerations. The following notebook covers four parts of kubernetes cluster deployment.\n",
    "\n",
    "- [Kubernetes configuration options](#kubernetes-configuration)\n",
    "- [Infrastructure considerations & choices for a kubernetes cluster deployment](#infrastructure-for-kubernetes)\n",
    "- [Kubernetes installation tools and certified solutions](#installing-production-clusters-with-development-tools)\n",
    "\n",
    "__Study Purpose__\n",
    "\n",
    "- [Minikube](#minikube)"
   ]
  },
  {
   "cell_type": "markdown",
   "metadata": {},
   "source": [
    "### Kubernetes Configuration\n",
    "\n",
    "Kubernetes clusters can be deployed with different configurations, each serving a different purpose. Depending on what the purpose of the cluster is, the configuration complexity can increase, hense increase in requirement for hardware and resources.\n",
    "\n",
    "The following configuration demonstrates the most common configuration with a light summary:\n",
    "\n",
    "- __All-in-One Single-Node Installation__\n",
    "\n",
    "  In this setup, all the control plane and worker components are installed and running on a single-node. While it is useful for learning, development, and testing, it is not recommended for production purposes.\n",
    "- __Single-Control Plane and Multi-Worker Installation__\n",
    "\n",
    "  In this setup, we have a single-control plane node running a stacked etcd instance. Multiple worker nodes can be managed by the control plane node.\n",
    "- __Single-Control Plane with Single-Node etcd, and Multi-Worker Installation__\n",
    "\n",
    "  In this setup, we have a single-control plane node with an external etcd instance. Multiple worker nodes can be managed by the control plane node.\n",
    "- __Multi-Control Plane and Multi-Worker Installation__\n",
    "\n",
    "  In this setup, we have multiple control plane nodes configured for High-Availability (HA), with each control plane node running a stacked etcd instance. The etcd instances are also configured in an HA etcd cluster and, multiple worker nodes can be managed by the HA control plane.\n",
    "- __Multi-Control Plane with Multi-Node etcd, and Multi-Worker Installation__\n",
    "\n",
    "  In this setup, we have multiple control plane nodes configured in HA mode, with each control plane node paired with an external etcd instance. The external etcd instances are also configured in an HA etcd cluster, and multiple worker nodes can be managed by the HA control plane. This is the most advanced cluster configuration recommended for production environments. \n",
    "\n"
   ]
  },
  {
   "cell_type": "markdown",
   "metadata": {},
   "source": [
    "### Infrastructure for Kubernetes\n",
    "\n",
    "There are a variety of installation tools allowing us to deploy single- or multi-node Kubernetes clusters on our workstations, for learning and development purposes. While not an exhaustive list, below we enumerate a few popular ones:\n",
    "\n",
    "- [Minikube](https://minikube.sigs.k8s.io/docs/)\n",
    "\n",
    "  Single- and multi-node local Kubernetes cluster, recommended for a learning environment deployed on a single host.\n",
    "- [Kind](https://kind.sigs.k8s.io/docs/)\n",
    "  \n",
    "  Multi-node Kubernetes cluster deployed in Docker containers acting as Kubernetes nodes, recommended for a learning environment.\n",
    "- [Docker Desktop](https://www.docker.com/products/docker-desktop)\n",
    "  \n",
    "  Including a local Kubernetes cluster for Docker users. \n",
    "- [MicroK8s](https://microk8s.io/)\n",
    "  \n",
    "  Local and cloud Kubernetes cluster for developers and production, from Canonical.\n",
    "- [K3S](https://k3s.io/)\n",
    "  \n",
    "  Lightweight Kubernetes cluster for local, cloud, edge, IoT deployments, originally from Rancher, currently a CNCF project.\n"
   ]
  },
  {
   "cell_type": "markdown",
   "metadata": {},
   "source": [
    "### Installing Production Clusters with Development Tools\n",
    "\n",
    "When it comes to production ready solutions, there are several recommended tools for Kubernetes clusters bootstrapping and a few that are also capable of provisioning the necessary hosts on the underlying infrastructure.\n",
    "\n",
    "__[kubeadm](https://kubernetes.io/docs/setup/production-environment/tools/kubeadm/)__\n",
    "\n",
    "![img](./pics/kubeadm.png)\n",
    "\n",
    "kubeadm is a first-class citizen on the kubernetes ecosystem. It is a secure and recommended method to bootstrap a multi-node production ready High Available Kubernetes cluster, on-premises or in the cloud. kubeadm can also bootstrap a single-node cluster for learning. It has a set of building blocks to set up the cluster, but it is easily extendable to add more features. Please note that kubeadm does not support the provisioning of hosts - they should be provisioned separately with a tool of our choice.\n",
    "\n",
    "__[kubespray](https://kubernetes.io/docs/setup/production-environment/tools/kubespray/)__\n",
    "\n",
    "![img](./pics/kubespray.png)\n",
    "\n",
    "kubespray (formerly known as kargo) allows us to install Highly Available production ready Kubernetes clusters on AWS, GCP, Azure, OpenStack, vSphere, or bare metal. kubespray is based on Ansible, and is available on most Linux distributions. It is a Kubernetes Incubator project.\n",
    "\n",
    "__[kops](https://kubernetes.io/docs/setup/production-environment/tools/kops/)__\n",
    "\n",
    "![img](./pics/kops.png)\n",
    "\n",
    "kops enables us to create, upgrade, and maintain production-grade, Highly Available Kubernetes clusters from the command line. It can provision the required infrastructure as well. Currently, AWS is officially supported. Support for DigitalOcean and OpenStack is in beta, Azure and GCE is in alpha support, and other platforms are planned for the future. Explore the kops project for more details.\n",
    "\n",
    "In addition, for a manual installation approach, the Kubernetes The Hard Way GitHub project by Kelsey Hightower is an extremely helpful installation guide and resource. The project aims to teach all the detailed steps involved in the bootstrapping of a Kubernetes cluster, steps that are otherwise automated by various tools mentioned in this chapter and obscured from the end user."
   ]
  },
  {
   "cell_type": "markdown",
   "metadata": {},
   "source": [
    "### Minikube\n",
    "\n",
    "![img](./pics/minikube.png)\n",
    "\n",
    "__Summary__\n",
    "\n",
    "[Minikube](https://minikube.sigs.k8s.io/) is one of the easiest, most flexible and popular methods to run an all-in-one or a multi-node local Kubernetes cluster, isolated by Virtual Machines (VM) or Containers, run directly on our workstations. Minikube is the tool responsible for the installation of Kubernetes components, cluster bootstrapping, and cluster tear-down when no longer needed. It includes additional features aimed to ease the user interaction with the Kubernetes cluster, but nonetheless, it initializes for us a fully functional, non-production, Kubernetes cluster extremely convenient for learning purposes. Minikube can be installed on native macOS, Windows, and many Linux distributions.\n",
    "\n",
    "__Installation__\n",
    "\n",
    "1. ___Verify virtualization support on the Linux OS___\n",
    "\n",
    "```bash\n",
    "$ grep -E --color 'vmx|svm' /proc/cpuinfo\n",
    "```\n",
    "\n",
    "2. ___Install [VirtualBox](https://www.virtualbox.org/wiki/Linux_Downloads) hypervisor___\n",
    "\n",
    "```bash\n",
    "$ sudo bash -c 'echo \"deb [arch=amd64] https://download.virtualbox.org/virtualbox/debian eoan contrib\" >> /etc/apt/sources.list'\n",
    "\n",
    "$ wget -q https://www.virtualbox.org/download/oracle_vbox_2016.asc -O- | sudo apt-key add -\n",
    "\n",
    "$ sudo apt update\n",
    "\n",
    "$ sudo apt install -y virtualbox-6.1\n",
    "```\n",
    "\n",
    "3. ___Minikube Installation___\n",
    "\n",
    "```bash\n",
    "$ curl -LO https://storage.googleapis.com/minikube/releases/latest/minikube_latest_amd64.deb\n",
    "\n",
    "$ sudo dpkg -i minikube_latest_amd64.deb\n",
    "```\n",
    "\n",
    "4. ___Test installed Minikube___\n",
    "\n",
    "```bash\n",
    "# To Start minikube\n",
    "$ minikube start\n",
    "\n",
    "#An error message that reads \"Unable to pick a default driver...\" means that Minikube was not able to locate any one of the supported hypervisors or runtimes. The recommendation is to install or re-install a desired isolation tool, and ensuring its executable is found in the default PATH of your OS distribution. \n",
    "\n",
    "# Display Minikube status\n",
    "$ minikube status\n",
    "\n",
    "# Minikube termination\n",
    "$ minikube stop\n",
    "```"
   ]
  },
  {
   "cell_type": "markdown",
   "metadata": {},
   "source": [
    "### Advanced Minikube Features\n",
    "\n",
    "The following section provides different methods to access specific kubernetes cluster. There are three different meethods one can access the cluster.\n",
    "\n",
    "1. using `kubectl` CLI tool to access the cluster\n",
    "2. __Kubernetes Dashboard__ as a web-based user interface to interact with the cluster\n",
    "3. __curl__ command with proper credentials to access the cluster via APIs\n",
    "\n",
    "__`kubectl`__\n",
    "\n",
    "`kubectl` is the kubernetes command line interface client to manage cluster resources and applications. It is very flexible and easy to integrate with other systems, therefore it can be used standalone, or part of scripts and automation tools. Once all required credentials and cluster access points have been configured for `kubectl`, it can be used remotely from anywhere to access a cluster.\n",
    "\n",
    "To get more informatino for CLI options check [here](https://kubernetes.io/docs/reference/kubectl/overview/)\n",
    "\n",
    "\n",
    "__Kubernetes Dashboard__\n",
    "\n",
    "It provides a web-based user interface for kubernetes cluster management. It also needs to be enabled \n"
   ]
  },
  {
   "cell_type": "markdown",
   "metadata": {},
   "source": []
  }
 ],
 "metadata": {
  "kernelspec": {
   "display_name": "Python 3.8.12 64-bit ('shims')",
   "language": "python",
   "name": "python3"
  },
  "language_info": {
   "name": "python",
   "version": "3.8.12"
  },
  "orig_nbformat": 4,
  "vscode": {
   "interpreter": {
    "hash": "82f1088fa484f5b54e382e6f3ab804b0f8e7491f37ff80b3b36194223562fb4e"
   }
  }
 },
 "nbformat": 4,
 "nbformat_minor": 2
}
