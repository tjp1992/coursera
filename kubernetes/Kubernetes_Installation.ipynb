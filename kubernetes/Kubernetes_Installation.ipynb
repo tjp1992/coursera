{
 "cells": [
  {
   "cell_type": "markdown",
   "metadata": {},
   "source": [
    "# Kubernetes Installation\n",
    "\n",
    "The following note summarizes kubernetes cluster deployment considerations. The following notebook covers four parts of kubernetes cluster deployment.\n",
    "\n",
    "- [Kubernetes configuration options](#kubernetes-configuration)\n",
    "- Infrastructure considerations before installing kubernetes\n",
    "- Infrastructure choices for a kubernetes cluster deployment\n",
    "- Kubernetes installation tools and certified solutions"
   ]
  },
  {
   "cell_type": "markdown",
   "metadata": {},
   "source": [
    "### Kubernetes Configuration\n",
    "\n",
    "Kubernetes clusters can be deployed with different configurations, each serving a different purpose. Depending on what the purpose of the cluster is, the configuration complexity can increase, hense increase in requirement for hardware and resources.\n",
    "\n",
    "The following configuration demonstrates the most common configuration with a light summary:\n",
    "\n",
    "- __All-in-One Single-Node Installation__\n",
    "\n",
    "  In this setup, all the control plane and worker components are installed and running on a single-node. While it is useful for learning, development, and testing, it is not recommended for production purposes.\n",
    "- __Single-Control Plane and Multi-Worker Installation__\n",
    "\n",
    "  In this setup, we have a single-control plane node running a stacked etcd instance. Multiple worker nodes can be managed by the control plane node.\n",
    "- __Single-Control Plane with Single-Node etcd, and Multi-Worker Installation__\n",
    "\n",
    "  In this setup, we have a single-control plane node with an external etcd instance. Multiple worker nodes can be managed by the control plane node.\n",
    "- __Multi-Control Plane and Multi-Worker Installation__\n",
    "\n",
    "  In this setup, we have multiple control plane nodes configured for High-Availability (HA), with each control plane node running a stacked etcd instance. The etcd instances are also configured in an HA etcd cluster and, multiple worker nodes can be managed by the HA control plane.\n",
    "- __Multi-Control Plane with Multi-Node etcd, and Multi-Worker Installation__\n",
    "\n",
    "  In this setup, we have multiple control plane nodes configured in HA mode, with each control plane node paired with an external etcd instance. The external etcd instances are also configured in an HA etcd cluster, and multiple worker nodes can be managed by the HA control plane. This is the most advanced cluster configuration recommended for production environments. \n",
    "\n"
   ]
  },
  {
   "cell_type": "markdown",
   "metadata": {},
   "source": [
    "### Infrastructure for Kubernetes"
   ]
  }
 ],
 "metadata": {
  "kernelspec": {
   "display_name": "Python 3.8.12 64-bit ('shims')",
   "language": "python",
   "name": "python3"
  },
  "language_info": {
   "name": "python",
   "version": "3.8.12"
  },
  "orig_nbformat": 4,
  "vscode": {
   "interpreter": {
    "hash": "82f1088fa484f5b54e382e6f3ab804b0f8e7491f37ff80b3b36194223562fb4e"
   }
  }
 },
 "nbformat": 4,
 "nbformat_minor": 2
}
