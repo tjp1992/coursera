{
 "cells": [
  {
   "cell_type": "markdown",
   "metadata": {},
   "source": [
    "# Kubernetes\n",
    "\n",
    "The following note is for personal purposes for understanding the architecture of [kubernetes](https://kubernetes.io/) with the resources from [edx](https://learning.edx.org/course/course-v1:LinuxFoundationX+LFS158x+1T2022/block-v1:LinuxFoundationX+LFS158x+1T2022+type@sequential+block@c77f2d1b11234afb9886680612041ab2/block-v1:LinuxFoundationX+LFS158x+1T2022+type@vertical+block@6893f0526bfe4a8c81ae62633aa6f06b).\n",
    "\n",
    "Legacy softwares that use assembly codes are highly vulnerable to downtime when it comes to updating features and developing new features. Such applications are **Monolithic** and very inefficient, as opposed to modern architecture that has functions broken down into microservices or **Pebbles**. \n",
    "\n",
    "**Index**\n",
    "- []()\n"
   ]
  },
  {
   "cell_type": "markdown",
   "metadata": {},
   "source": [
    "### Container\n",
    "\n",
    "Before learning about kubernetes, it is important to understand the key concepts of what a [Container](https://learning.edx.org/course/course-v1:LinuxFoundationX+LFS158x+1T2022/block-v1:LinuxFoundationX+LFS158x+1T2022+type@sequential+block@c77f2d1b11234afb9886680612041ab2/block-v1:LinuxFoundationX+LFS158x+1T2022+type@vertical+block@453babddfd324944b4f6623bd18f3536) is.\n",
    "\n",
    "**Containers** are an *application-centric method to deliver high-performing, scalable applications on any infrastructure of choice*. Containers are best suited to deliver microservices by providing portable isolated virtual environments for applications to run without interference from other running applications. \n",
    "\n",
    "![pic](./pics/containers.png)\n",
    "\n",
    "__Microservices__ are lightweight applications written within various modern programming languages, with specific dependencies, libraries and envrionmental requirements.\n",
    "\n",
    "***Container*** does not run the apps directly, but the **Container Images**. A **Container Image** bundles the application along with its runtime, libraries and dependencies. \n"
   ]
  },
  {
   "cell_type": "markdown",
   "metadata": {},
   "source": [
    "### Container Orchestration\n",
    "\n",
    "It would be unwise to run all the microservices in a single **Container**, because it would be counterintuitive to have the application divided into microservices in the first place. Therefore, when an application is broken down into microservices, it is deployed in multiple **Containers** allowing each microservices to be managed separately. ***Container Orchestration*** are tools which group systems together to form clusters where container's deployment and management is automated at scale while meeting the requirements for Quality Assurance(QA) and Production environments.\n",
    "\n",
    "Most ***Container Orchestrators*** can:\n",
    "\n",
    "- Group hosts together while creating a cluster\n",
    "- Schedule containers to run on hosts in the cluster based on resources availability.\n",
    "- Enable containers in a cluster to communicate with each other regardless of the host they are deployed to in the cluster.\n",
    "- Bind containers and storage resources\n",
    "- Group sets of similar containers and bind them to load-balancing constructs to simplify access to containerized applications by creating an interface, a level of abstraction between the containers and the client\n",
    "- Manage and optimize resource usage\n",
    "- Allow for implementation of policies to secure access to applications running inside containers.\n"
   ]
  },
  {
   "cell_type": "markdown",
   "metadata": {},
   "source": [
    "### Kubernetes\n",
    "\n",
    "According to the [Kubernetes](https://kubernetes.io/) website,\n",
    "\n",
    "_'Kubernetes is an open-source system for automating deployment, scaling, and management of containerized applications'_\n"
   ]
  },
  {
   "cell_type": "markdown",
   "metadata": {},
   "source": []
  }
 ],
 "metadata": {
  "language_info": {
   "name": "python"
  },
  "orig_nbformat": 4
 },
 "nbformat": 4,
 "nbformat_minor": 2
}
