{
 "cells": [
  {
   "cell_type": "markdown",
   "metadata": {},
   "source": [
    "# Kubernetes\n",
    "\n",
    "The following note is for personal purposes for understanding the architecture of [kubernetes](https://kubernetes.io/) with the resources from [edx](https://learning.edx.org/course/course-v1:LinuxFoundationX+LFS158x+1T2022/block-v1:LinuxFoundationX+LFS158x+1T2022+type@sequential+block@c77f2d1b11234afb9886680612041ab2/block-v1:LinuxFoundationX+LFS158x+1T2022+type@vertical+block@6893f0526bfe4a8c81ae62633aa6f06b).\n",
    "\n",
    "Legacy softwares that use assembly codes are highly vulnerable to downtime when it comes to updating features and developing new features. Such applications are **Monolithic** and very inefficient, as opposed to modern architecture that has functions broken down into microservices or **Pebbles**. \n",
    "\n",
    "**Index**\n",
    "- [Container](#container)\n",
    "- [Container Orchestration](#container-orchestration)\n",
    "- [Kubernetes](#kubernetes-summary)\n",
    "- [Kubernetes Architecture](#kubernetes-architecture)\n",
    "- [Control Plane Node Component](#control-plane-node-component)\n",
    "  - [API Server](#api-server)\n",
    "  - [Scheduler](#scheduler)\n",
    "  - [Controller Manager](#controller-managers)\n",
    "  - [Kube-Controller-Manager](#kube-controller-manager)\n",
    "  - [Cloud-Controller-Manager](#cloud-controller-manager)\n",
    "  - [key-value data store](#key-value-data-store)\n",
    "- [Worker Node](#worker-node)\n",
    "  - [Container Runtime](#container-runtime)\n",
    "  - [kubelet](#kubelet)\n",
    "  - [Kube-Proxy](#kube-proxy)\n",
    "  - [addons](#addons)\n",
    "\n"
   ]
  },
  {
   "cell_type": "markdown",
   "metadata": {},
   "source": [
    "### Container\n",
    "\n",
    "Before learning about kubernetes, it is important to understand the key concepts of what a [Container](https://learning.edx.org/course/course-v1:LinuxFoundationX+LFS158x+1T2022/block-v1:LinuxFoundationX+LFS158x+1T2022+type@sequential+block@c77f2d1b11234afb9886680612041ab2/block-v1:LinuxFoundationX+LFS158x+1T2022+type@vertical+block@453babddfd324944b4f6623bd18f3536) is.\n",
    "\n",
    "**Containers** are an *application-centric method to deliver high-performing, scalable applications on any infrastructure of choice*. Containers are best suited to deliver microservices by providing portable isolated virtual environments for applications to run without interference from other running applications. \n",
    "\n",
    "![pic](./pics/containers.png)\n",
    "\n",
    "__Microservices__ are lightweight applications written within various modern programming languages, with specific dependencies, libraries and envrionmental requirements.\n",
    "\n",
    "***Container*** does not run the apps directly, but the **Container Images**. A **Container Image** bundles the application along with its runtime, libraries and dependencies. \n"
   ]
  },
  {
   "cell_type": "markdown",
   "metadata": {},
   "source": [
    "### Container Orchestration\n",
    "\n",
    "It would be unwise to run all the microservices in a single **Container**, because it would be counterintuitive to have the application divided into microservices in the first place. Therefore, when an application is broken down into microservices, it is deployed in multiple **Containers** allowing each microservices to be managed separately. ***Container Orchestration*** are tools which group systems together to form clusters where container's deployment and management is automated at scale while meeting the requirements for Quality Assurance(QA) and Production environments.\n",
    "\n",
    "Most ***Container Orchestrators*** can:\n",
    "\n",
    "- Group hosts together while creating a cluster\n",
    "- Schedule containers to run on hosts in the cluster based on resources availability.\n",
    "- Enable containers in a cluster to communicate with each other regardless of the host they are deployed to in the cluster.\n",
    "- Bind containers and storage resources\n",
    "- Group sets of similar containers and bind them to load-balancing constructs to simplify access to containerized applications by creating an interface, a level of abstraction between the containers and the client\n",
    "- Manage and optimize resource usage\n",
    "- Allow for implementation of policies to secure access to applications running inside containers.\n"
   ]
  },
  {
   "cell_type": "markdown",
   "metadata": {},
   "source": [
    "### Kubernetes Summary\n",
    "\n",
    "According to the [Kubernetes](https://kubernetes.io/) website,\n",
    "\n",
    "**_'Kubernetes is an open-source system for automating deployment, scaling, and management of containerized applications'_**\n",
    "\n",
    "\n",
    "- Automatic bin packing\n",
    "  \n",
    "  Kubernetes automatically schedules containers based on resource needs and constraints, to maximize utilization without sacrificing availability.\n",
    "- Designed for extensibility\n",
    "  \n",
    "  A Kubernetes cluster can be extended with new custom features without modifying the upstream source code.\n",
    "- Self-healing\n",
    "\n",
    "  Kubernetes automatically replaces and reschedules containers from failed nodes. It terminates and then restarts containers that become unresponsive to health checks, based on existing rules/policy. It also prevents traffic from being routed to unresponsive containers.\n",
    "- Horizontal scaling\n",
    "\n",
    "  With Kubernetes applications are scaled manually or automatically based on CPU or custom metrics utilization.\n",
    "- Service discovery and load balancing\n",
    "  Containers receive IP addresses from Kubernetes, while it assigns a single Domain Name System (DNS) name to a set of containers to aid in load-balancing requests across the containers of the set.\n",
    "\n",
    "- Automated rollouts and rollbacks\n",
    "\n",
    "  Kubernetes seamlessly rolls out and rolls back application updates and configuration changes, constantly monitoring the application's health to prevent any downtime.\n",
    "- Secret and configuration management\n",
    "  \n",
    "  Kubernetes manages sensitive data and configuration details for an application separately from the container image, in order to avoid a re-build of the respective image. Secrets consist of sensitive/confidential information passed to the application without revealing the sensitive content to the stack configuration, like on GitHub.\n",
    "- Storage orchestration\n",
    "  \n",
    "  Kubernetes automatically mounts software-defined storage (SDS) solutions to containers from local storage, external cloud providers, distributed storage, or network storage systems.\n",
    "- Batch execution\n",
    "\n",
    "  Kubernetes supports batch execution, long-running jobs, and replaces failed containers.\n",
    "- IPv4/IPv6 dual-stack\n",
    "  \n",
    "  Kubernetes supports both IPv4 and IPv6 addresses."
   ]
  },
  {
   "cell_type": "markdown",
   "metadata": {},
   "source": [
    "### Kubernetes Architecture\n",
    "\n",
    "At a very high level, kuberneetes is a cluster of compute systems categorized by their distinct roles.\n",
    "\n",
    "<img src=\"./pics/Components_of_Kubernetes_Architecture.png\" alt=\"Kubernetes Architecture\" title=\"Kubernetes Architecture\"/> \n"
   ]
  },
  {
   "cell_type": "markdown",
   "metadata": {},
   "source": [
    "### Control Plane Node Component\n",
    "\n",
    "\n",
    "**Control Plane Node** Provides a running environment for the **control plane agents** responsible for managing the state of a kubernetes cluster, it can be seen as the brain behind all operations inside the cluster. Therefore, as important the role of **Control Plane Node** is, it is important that it remains running at all times to prevent *downtime*, *service disruptions* which will ultimately lead to business losses. \n"
   ]
  },
  {
   "cell_type": "markdown",
   "metadata": {},
   "source": [
    "##### API Server\n",
    "\n",
    "All the administrative tasks are coordinated by the **kube-apiserver**. The API Server intercepts RESTful calls from users, administrators, developers, operators and external agents, then validates and processes them"
   ]
  },
  {
   "cell_type": "markdown",
   "metadata": {},
   "source": [
    "##### Scheduler\n",
    "\n",
    "The role of **Kube-Scheduler** is to assign new workload objects, such as pods encapsulating containers, to nodes(Typically woker nodes). The scheduler obtains from the key-value store, via the API Server, resource usage data for each worker node in the cluster."
   ]
  },
  {
   "cell_type": "markdown",
   "metadata": {},
   "source": [
    "##### Controller Managers\n",
    "\n",
    "**Controller Managers** are components of the control plane node running controllers or operator processes to regulate the state of the kubernetes cluster. \n",
    "\n",
    "##### Kube-Controller-manager\n",
    "\n",
    "**Kube-Controller-Manager** runs controllers or operators responsible to act when nodes become unavailable, to ensure container pod counts are as expected, to create endpoints, service accounts, and API access tokens.\n",
    "\n",
    "##### Cloud-Controller-Manager\n",
    "\n",
    "It runs controllers or operators responsible to interact with the underlying infrastructure of a cloud provider when nodes become unavailable, to manage storage volumes when provided by a cloud service, and to manage load balancing and routing."
   ]
  },
  {
   "cell_type": "markdown",
   "metadata": {},
   "source": [
    "##### key-value data store\n",
    "\n",
    "[etcd](https://etcd.io/) is an open source project under the CNCF, and it is strongly consistent, distributed *key-value data store* used to persist a kubernetes cluster's state."
   ]
  },
  {
   "cell_type": "markdown",
   "metadata": {},
   "source": [
    "### Worker Node\n",
    "\n",
    "A *Worker node* provides a running environment for client applications. Though containerized microservices, these applications are encapsulated in Pods, controlled by the cluster control plane agents running on the control plane node. Pods are scheduled on worker nodes, where they find required compute, memory and storage resources to run, and networking to talk to each other and the outside world. A Pod is the smallest scheduling work unit in Kubernetes. It is a logical collection of one or more containers scheduled together, and the collection can be started, stopped, or rescheduled as a single unit of work. "
   ]
  },
  {
   "cell_type": "markdown",
   "metadata": {},
   "source": [
    "##### Container Runtime\n",
    "\n",
    "Kubernetes does not have direct handle over containers, it is the role of __Container Runtime__ to manage the containers lifecycle. Kubernetes supports several container runtimes:\n",
    "\n",
    "- [CRI-O](https://cri-o.io/)\n",
    "  - A lightweight container runtime for kubernetes, supporting [quay.io](https://quay.io/) and [Docker Hub](https://hub.docker.com/) image registries\n",
    "- [containerd](https://containerd.io/)\n",
    "  - A simple, robust and portable container runtime\n",
    "- [Docker](https://www.docker.com/)\n",
    "  - A popular and complex container platform which uses __containerd__ as a container runtime\n",
    "- [Mirantis Container Runtime](https://www.mirantis.com/software/container-runtime/)\n",
    "  - Formerly known as the __Docker Enterprise Edition__"
   ]
  },
  {
   "cell_type": "markdown",
   "metadata": {},
   "source": [
    "##### Kubelet\n",
    "\n",
    "__Kubelet__ is an agent running on each node, control plane and workers. It communicates with the control plane. It also receives pod definitions from API server, and interacts with the container runtime on the node to run containers associated with the pod. \n",
    "\n",
    "__Kubelet__ connects to container runtimes through a plugin based interface the [container runtime interface (CRI)](https://github.com/kubernetes/community/blob/master/contributors/devel/sig-node/container-runtime-interface.md). \n",
    "\n",
    "![img](./pics/CRI.png)\n",
    "\n",
    "As shown above, the kubelet acting as [gRPC](https://en.wikipedia.org/wiki/GRPC) client connects to the CRI [shim](https://en.wikipedia.org/wiki/Shim_(computing)) acting as grpc server to perform container and image operations. The CRI implements two services: __ImageService__ and __RuntimeService__.\n",
    "\n",
    "__ImageService__ is responsible for all the image-related operations\n",
    "\n",
    "__RuntimeService__ is responsible for all the pod and container-related operations."
   ]
  },
  {
   "cell_type": "markdown",
   "metadata": {},
   "source": [
    "##### Kube-Proxy\n",
    "\n"
   ]
  },
  {
   "cell_type": "markdown",
   "metadata": {},
   "source": [
    "##### Addons"
   ]
  }
 ],
 "metadata": {
  "kernelspec": {
   "display_name": "Python 3.8.12 64-bit ('shims')",
   "language": "python",
   "name": "python3"
  },
  "language_info": {
   "name": "python",
   "version": "3.8.12"
  },
  "orig_nbformat": 4,
  "vscode": {
   "interpreter": {
    "hash": "82f1088fa484f5b54e382e6f3ab804b0f8e7491f37ff80b3b36194223562fb4e"
   }
  }
 },
 "nbformat": 4,
 "nbformat_minor": 2
}
