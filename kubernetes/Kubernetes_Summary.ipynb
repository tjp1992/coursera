{
 "cells": [
  {
   "cell_type": "markdown",
   "metadata": {},
   "source": [
    "# Kubernetes\n",
    "\n",
    "The following note is for personal purposes for understanding the architecture of [kubernetes](https://kubernetes.io/) with the resources from [edx](https://learning.edx.org/course/course-v1:LinuxFoundationX+LFS158x+1T2022/block-v1:LinuxFoundationX+LFS158x+1T2022+type@sequential+block@c77f2d1b11234afb9886680612041ab2/block-v1:LinuxFoundationX+LFS158x+1T2022+type@vertical+block@6893f0526bfe4a8c81ae62633aa6f06b).\n",
    "\n",
    "**Index**\n",
    "- []()\n"
   ]
  },
  {
   "cell_type": "markdown",
   "metadata": {},
   "source": [
    "### Container\n",
    "\n",
    "Before learning about kubernetes, it is important to understand the key concepts of what a [Container](https://learning.edx.org/course/course-v1:LinuxFoundationX+LFS158x+1T2022/block-v1:LinuxFoundationX+LFS158x+1T2022+type@sequential+block@c77f2d1b11234afb9886680612041ab2/block-v1:LinuxFoundationX+LFS158x+1T2022+type@vertical+block@453babddfd324944b4f6623bd18f3536) is.\n",
    "\n",
    "**Containers** are an *application-centric method to deliver high-performing, scalable applications on any infrastructure of choice*. Containers are best suited to deliver microservices by providing portable isolated virtual environments for applications to run without interference from other running applications. \n",
    "\n",
    "![pic](./pics/containers.png)\n",
    "\n",
    "\n"
   ]
  }
 ],
 "metadata": {
  "language_info": {
   "name": "python"
  },
  "orig_nbformat": 4
 },
 "nbformat": 4,
 "nbformat_minor": 2
}
