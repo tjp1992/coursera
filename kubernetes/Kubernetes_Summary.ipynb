{
 "cells": [
  {
   "cell_type": "markdown",
   "metadata": {},
   "source": [
    "# Kubernetes\n",
    "\n",
    "The following note is for personal purposes for understanding the architecture of [kubernetes](https://kubernetes.io/) with the resources from [edx](https://learning.edx.org/course/course-v1:LinuxFoundationX+LFS158x+1T2022/block-v1:LinuxFoundationX+LFS158x+1T2022+type@sequential+block@c77f2d1b11234afb9886680612041ab2/block-v1:LinuxFoundationX+LFS158x+1T2022+type@vertical+block@6893f0526bfe4a8c81ae62633aa6f06b).\n",
    "\n",
    "Legacy softwares that use assembly codes are highly vulnerable to downtime when it comes to updating features and developing new features. Such applications are **Monolithic** and very inefficient, as opposed to modern architecture that has functions broken down into microservices or **Pebbles**. \n",
    "\n",
    "**Index**\n",
    "- [Container](#container)\n",
    "- [Container Orchestration](#container-orchestration)\n",
    "- [Kubernetes](#kubernetes-summary)\n",
    "- [Kubernetes Architecture](#kubernetes-architecture)\n",
    "- [Control Plane Node Component](#control-plane-node-component)\n",
    "  - [API Server](#api-server)\n",
    "  - [Scheduler](#scheduler)\n",
    "  - [Controller Manager](#controller-managers)\n",
    "  - [Kube-Controller-Manager](#kube-controller-manager)\n",
    "  - [Cloud-Controller-Manager](#cloud-controller-manager)\n",
    "  - [key-value data store](#key-value-data-store)\n",
    "- [Worker Node](#worker-node)\n",
    "  - [Container Runtime](#container-runtime)\n",
    "  - [kubelet](#kubelet)\n",
    "  - [CRI Shims](#cri-shims)\n",
    "  - [Kube-Proxy](#kube-proxy)\n",
    "  - [addons](#addons)\n",
    "- [Kubernetes Object](#kubernetes-object-model)"
   ]
  },
  {
   "cell_type": "markdown",
   "metadata": {},
   "source": [
    "### Container\n",
    "\n",
    "Before learning about kubernetes, it is important to understand the key concepts of what a [Container](https://learning.edx.org/course/course-v1:LinuxFoundationX+LFS158x+1T2022/block-v1:LinuxFoundationX+LFS158x+1T2022+type@sequential+block@c77f2d1b11234afb9886680612041ab2/block-v1:LinuxFoundationX+LFS158x+1T2022+type@vertical+block@453babddfd324944b4f6623bd18f3536) is.\n",
    "\n",
    "**Containers** are an *application-centric method to deliver high-performing, scalable applications on any infrastructure of choice*. Containers are best suited to deliver microservices by providing portable isolated virtual environments for applications to run without interference from other running applications. \n",
    "\n",
    "![pic](./pics/containers.png)\n",
    "\n",
    "__Microservices__ are lightweight applications written within various modern programming languages, with specific dependencies, libraries and envrionmental requirements.\n",
    "\n",
    "***Container*** does not run the apps directly, but the **Container Images**. A **Container Image** bundles the application along with its runtime, libraries and dependencies. \n"
   ]
  },
  {
   "cell_type": "markdown",
   "metadata": {},
   "source": [
    "### Container Orchestration\n",
    "\n",
    "It would be unwise to run all the microservices in a single **Container**, because it would be counterintuitive to have the application divided into microservices in the first place. Therefore, when an application is broken down into microservices, it is deployed in multiple **Containers** allowing each microservices to be managed separately. ***Container Orchestration*** are tools which group systems together to form clusters where container's deployment and management is automated at scale while meeting the requirements for Quality Assurance(QA) and Production environments.\n",
    "\n",
    "Most ***Container Orchestrators*** can:\n",
    "\n",
    "- Group hosts together while creating a cluster\n",
    "- Schedule containers to run on hosts in the cluster based on resources availability.\n",
    "- Enable containers in a cluster to communicate with each other regardless of the host they are deployed to in the cluster.\n",
    "- Bind containers and storage resources\n",
    "- Group sets of similar containers and bind them to load-balancing constructs to simplify access to containerized applications by creating an interface, a level of abstraction between the containers and the client\n",
    "- Manage and optimize resource usage\n",
    "- Allow for implementation of policies to secure access to applications running inside containers.\n"
   ]
  },
  {
   "cell_type": "markdown",
   "metadata": {},
   "source": [
    "### Kubernetes Summary\n",
    "\n",
    "According to the [Kubernetes](https://kubernetes.io/) website,\n",
    "\n",
    "**_'Kubernetes is an open-source system for automating deployment, scaling, and management of containerized applications'_**\n",
    "\n",
    "\n",
    "- Automatic bin packing\n",
    "  \n",
    "  Kubernetes automatically schedules containers based on resource needs and constraints, to maximize utilization without sacrificing availability.\n",
    "- Designed for extensibility\n",
    "  \n",
    "  A Kubernetes cluster can be extended with new custom features without modifying the upstream source code.\n",
    "- Self-healing\n",
    "\n",
    "  Kubernetes automatically replaces and reschedules containers from failed nodes. It terminates and then restarts containers that become unresponsive to health checks, based on existing rules/policy. It also prevents traffic from being routed to unresponsive containers.\n",
    "- Horizontal scaling\n",
    "\n",
    "  With Kubernetes applications are scaled manually or automatically based on CPU or custom metrics utilization.\n",
    "- Service discovery and load balancing\n",
    "  Containers receive IP addresses from Kubernetes, while it assigns a single Domain Name System (DNS) name to a set of containers to aid in load-balancing requests across the containers of the set.\n",
    "\n",
    "- Automated rollouts and rollbacks\n",
    "\n",
    "  Kubernetes seamlessly rolls out and rolls back application updates and configuration changes, constantly monitoring the application's health to prevent any downtime.\n",
    "- Secret and configuration management\n",
    "  \n",
    "  Kubernetes manages sensitive data and configuration details for an application separately from the container image, in order to avoid a re-build of the respective image. Secrets consist of sensitive/confidential information passed to the application without revealing the sensitive content to the stack configuration, like on GitHub.\n",
    "- Storage orchestration\n",
    "  \n",
    "  Kubernetes automatically mounts software-defined storage (SDS) solutions to containers from local storage, external cloud providers, distributed storage, or network storage systems.\n",
    "- Batch execution\n",
    "\n",
    "  Kubernetes supports batch execution, long-running jobs, and replaces failed containers.\n",
    "- IPv4/IPv6 dual-stack\n",
    "  \n",
    "  Kubernetes supports both IPv4 and IPv6 addresses."
   ]
  },
  {
   "cell_type": "markdown",
   "metadata": {},
   "source": [
    "### Kubernetes Architecture\n",
    "\n",
    "At a very high level, kuberneetes is a cluster of compute systems categorized by their distinct roles.\n",
    "\n",
    "<img src=\"./pics/Components_of_Kubernetes_Architecture.png\" alt=\"Kubernetes Architecture\" title=\"Kubernetes Architecture\"/> \n"
   ]
  },
  {
   "cell_type": "markdown",
   "metadata": {},
   "source": [
    "### Control Plane Node Component\n",
    "\n",
    "\n",
    "**Control Plane Node** Provides a running environment for the **control plane agents** responsible for managing the state of a kubernetes cluster, it can be seen as the brain behind all operations inside the cluster. Therefore, as important the role of **Control Plane Node** is, it is important that it remains running at all times to prevent *downtime*, *service disruptions* which will ultimately lead to business losses. \n"
   ]
  },
  {
   "cell_type": "markdown",
   "metadata": {},
   "source": [
    "##### API Server\n",
    "\n",
    "All the administrative tasks are coordinated by the **kube-apiserver**. The API Server intercepts RESTful calls from users, administrators, developers, operators and external agents, then validates and processes them"
   ]
  },
  {
   "cell_type": "markdown",
   "metadata": {},
   "source": [
    "##### Scheduler\n",
    "\n",
    "The role of **Kube-Scheduler** is to assign new workload objects, such as pods encapsulating containers, to nodes(Typically woker nodes). The scheduler obtains from the key-value store, via the API Server, resource usage data for each worker node in the cluster."
   ]
  },
  {
   "cell_type": "markdown",
   "metadata": {},
   "source": [
    "##### Controller Managers\n",
    "\n",
    "**Controller Managers** are components of the control plane node running controllers or operator processes to regulate the state of the kubernetes cluster. \n",
    "\n",
    "##### Kube-Controller-manager\n",
    "\n",
    "**Kube-Controller-Manager** runs controllers or operators responsible to act when nodes become unavailable, to ensure container pod counts are as expected, to create endpoints, service accounts, and API access tokens.\n",
    "\n",
    "##### Cloud-Controller-Manager\n",
    "\n",
    "It runs controllers or operators responsible to interact with the underlying infrastructure of a cloud provider when nodes become unavailable, to manage storage volumes when provided by a cloud service, and to manage load balancing and routing."
   ]
  },
  {
   "cell_type": "markdown",
   "metadata": {},
   "source": [
    "##### key-value data store\n",
    "\n",
    "[etcd](https://etcd.io/) is an open source project under the CNCF, and it is strongly consistent, distributed *key-value data store* used to persist a kubernetes cluster's state."
   ]
  },
  {
   "cell_type": "markdown",
   "metadata": {},
   "source": [
    "### Worker Node\n",
    "\n",
    "A *Worker node* provides a running environment for client applications. Though containerized microservices, these applications are encapsulated in Pods, controlled by the cluster control plane agents running on the control plane node. Pods are scheduled on worker nodes, where they find required compute, memory and storage resources to run, and networking to talk to each other and the outside world. A Pod is the smallest scheduling work unit in Kubernetes. It is a logical collection of one or more containers scheduled together, and the collection can be started, stopped, or rescheduled as a single unit of work. "
   ]
  },
  {
   "cell_type": "markdown",
   "metadata": {},
   "source": [
    "##### Container Runtime\n",
    "\n",
    "Kubernetes does not have direct handle over containers, it is the role of __Container Runtime__ to manage the containers lifecycle. Kubernetes supports several container runtimes:\n",
    "\n",
    "- [CRI-O](https://cri-o.io/)\n",
    "  - A lightweight container runtime for kubernetes, supporting [quay.io](https://quay.io/) and [Docker Hub](https://hub.docker.com/) image registries\n",
    "- [containerd](https://containerd.io/)\n",
    "  - A simple, robust and portable container runtime\n",
    "- [Docker](https://www.docker.com/)\n",
    "  - A popular and complex container platform which uses __containerd__ as a container runtime\n",
    "- [Mirantis Container Runtime](https://www.mirantis.com/software/container-runtime/)\n",
    "  - Formerly known as the __Docker Enterprise Edition__"
   ]
  },
  {
   "cell_type": "markdown",
   "metadata": {},
   "source": [
    "##### Kubelet\n",
    "\n",
    "__Kubelet__ is an agent running on each node, control plane and workers. It communicates with the control plane. It also receives pod definitions from API server, and interacts with the container runtime on the node to run containers associated with the pod. \n",
    "\n",
    "__Kubelet__ connects to container runtimes through a plugin based interface the [container runtime interface (CRI)](https://github.com/kubernetes/community/blob/master/contributors/devel/sig-node/container-runtime-interface.md). \n",
    "\n",
    "![img](./pics/CRI.png)\n",
    "\n",
    "As shown above, the kubelet acting as [gRPC](https://en.wikipedia.org/wiki/GRPC) client connects to the CRI [shim](https://en.wikipedia.org/wiki/Shim_(computing)) acting as grpc server to perform container and image operations. The CRI implements two services: __ImageService__ and __RuntimeService__.\n",
    "\n",
    "__ImageService__ is responsible for all the image-related operations\n",
    "\n",
    "__RuntimeService__ is responsible for all the pod and container-related operations."
   ]
  },
  {
   "cell_type": "markdown",
   "metadata": {},
   "source": [
    "##### CRI Shims\n",
    "\n",
    "__Shims__ are CRI implementations, interfaces or adapters, specific to each container runtime supported by Kubernetes.\n",
    "\n",
    "- cri-containerd\n",
    "- CRI-O\n",
    "- dockershim and cri-dockerd\n"
   ]
  },
  {
   "cell_type": "markdown",
   "metadata": {},
   "source": [
    "##### Kube-Proxy\n",
    "\n",
    "__kube-proxy__ is the network agent which runs on each node, control plane, and workers, responsible for dynamic updates and maintenance of all networking rules on the node."
   ]
  },
  {
   "cell_type": "markdown",
   "metadata": {},
   "source": [
    "##### Addons\n",
    "\n",
    "Common Addons for Kubernetes:\n",
    "- DNS\n",
    "  \n",
    "  Cluster DNS is a DNS server required to assign DNS records to kubernetes object and resources.\n",
    "- Dashboard\n",
    "\n",
    "  A General purpose web-based user interface for cluster management.\n",
    "- Monitoring\n",
    "\n",
    "  Collects cluster-level container metrics and saves them to a central data store.\n",
    "- Logging\n",
    "\n",
    "  Collects cluster-level container logs and saves them to a central log store for analysis."
   ]
  },
  {
   "cell_type": "markdown",
   "metadata": {},
   "source": [
    "### Kubernetes Object Model\n",
    "\n",
    "Kubernetes became popular due to its advanced application lifecycle management capabilities, implemeneted through a rich object model, representing different persistent entities in the Kubernetes cluster.\n",
    "\n",
    "With each object, the desired intent and state of the object is saved in `spec` section. \n",
    "\n",
    "Examples of kubernetes object types are:\n",
    "\n",
    "- Nodes\n",
    "- Namespaces\n",
    "- Pods\n",
    "- ReplicaSets\n",
    "- Deployments\n",
    "- DaemonSets\n"
   ]
  },
  {
   "cell_type": "code",
   "execution_count": 3,
   "metadata": {},
   "outputs": [
    {
     "name": "stdout",
     "output_type": "stream",
     "text": [
      "<Response [418]>\n"
     ]
    }
   ],
   "source": [
    "import requests\n",
    "from bs4 import BeautifulSoup\n",
    "\n",
    "# using requests library to make http request to 'https://duckduckgo.com/?q=dogs&atb=v321-1&iax=images&ia=images' to get all the images of dogs\n",
    "response = requests.get('https://duckduckgo.com/?q=dogs&atb=v321-1&iax=images&ia=images')\n",
    "# print the response\n",
    "print(response)\n",
    "\n",
    "soup = BeautifulSoup(response.text, 'html.parser')"
   ]
  },
  {
   "cell_type": "code",
   "execution_count": 7,
   "metadata": {},
   "outputs": [
    {
     "name": "stdout",
     "output_type": "stream",
     "text": [
      "<Response [418]>\n",
      "<!DOCTYPE html>\n",
      "\n",
      "<!--[if IEMobile 7 ]> <html lang=\"en-US\" class=\"no-js iem7\"> <![endif]-->\n",
      "<!--[if lt IE 7]> <html class=\"ie6 lt-ie10 lt-ie9 lt-ie8 lt-ie7 no-js\" lang=\"en-US\"> <![endif]-->\n",
      "<!--[if IE 7]>    <html class=\"ie7 lt-ie10 lt-ie9 lt-ie8 no-js\" lang=\"en-US\"> <![endif]-->\n",
      "<!--[if IE 8]>    <html class=\"ie8 lt-ie10 lt-ie9 no-js\" lang=\"en-US\"> <![endif]-->\n",
      "<!--[if IE 9]>    <html class=\"ie9 lt-ie10 no-js\" lang=\"en-US\"> <![endif]-->\n",
      "<!--[if (gte IE 9)|(gt IEMobile 7)|!(IEMobile)|!(IE)]><!--><html class=\"no-js\" lang=\"en-US\"><!--<![endif]-->\n",
      "<head>\n",
      "<meta content=\"IE=Edge\" http-equiv=\"X-UA-Compatible\"/>\n",
      "<meta content=\"text/html; charset=utf-8;charset=utf-8\" http-equiv=\"content-type\"/>\n",
      "<meta content=\"width=device-width, initial-scale=1, user-scalable=1\" name=\"viewport\">\n",
      "<meta content=\"true\" name=\"HandheldFriendly\"/>\n",
      "<link href=\"https://duckduckgo.com/418.html\" rel=\"canonical\"/>\n",
      "<link href=\"/s2092.css\" rel=\"stylesheet\" type=\"text/css\"/>\n",
      "<link href=\"/o2092.css\" rel=\"stylesheet\" type=\"text/css\"/>\n",
      "<meta content=\"app-id=663592361, app-argument=https://duckduckgo.com/?smartbanner=1\" name=\"apple-itunes-app\"/>\n",
      "<link as=\"font\" crossorigin=\"anonymous\" href=\"/font/ProximaNova-Reg-webfont.woff2\" rel=\"preload\" type=\"font/woff2\">\n",
      "<link as=\"font\" crossorigin=\"anonymous\" href=\"/font/ProximaNova-Sbold-webfont.woff2\" rel=\"preload\" type=\"font/woff2\">\n",
      "<link as=\"font\" crossorigin=\"anonymous\" href=\"/font/ProximaNova-ExtraBold-webfont.woff2\" rel=\"preload\" type=\"font/woff2\">\n",
      "<link href=\"/favicon.ico\" rel=\"shortcut icon\" type=\"image/x-icon\"/>\n",
      "<link href=\"/assets/icons/meta/DDG-iOS-icon_60x60.png\" rel=\"apple-touch-icon\"/>\n",
      "<link href=\"/assets/icons/meta/DDG-iOS-icon_76x76.png\" rel=\"apple-touch-icon\" sizes=\"76x76\"/>\n",
      "<link href=\"/assets/icons/meta/DDG-iOS-icon_120x120.png\" rel=\"apple-touch-icon\" sizes=\"120x120\"/>\n",
      "<link href=\"/assets/icons/meta/DDG-iOS-icon_152x152.png\" rel=\"apple-touch-icon\" sizes=\"152x152\"/>\n",
      "<link href=\"/assets/icons/meta/DDG-icon_256x256.png\" rel=\"image_src\"/>\n",
      "<link href=\"/manifest.json\" rel=\"manifest\"/>\n",
      "<meta content=\"summary\" name=\"twitter:card\"/>\n",
      "<meta name=\"twitter:site\" value=\"@duckduckgo\"/>\n",
      "<meta content=\"https://duckduckgo.com/418.html\" property=\"og:url\">\n",
      "<meta content=\"DuckDuckGo\" property=\"og:site_name\">\n",
      "<meta content=\"https://duckduckgo.com/assets/logo_social-media.png\" property=\"og:image\"/>\n",
      "<title>DuckDuckGo</title>\n",
      "</meta></meta></link></link></link></meta></head>\n",
      "<body class=\"page-418 body--home\" id=\"pg-418\">\n",
      "<script src=\"/tl5.js\" type=\"text/javascript\"></script>\n",
      "<script src=\"/b107.js\" type=\"text/javascript\"></script>\n",
      "<script src=\"/lib/l132.js\" type=\"text/javascript\"></script>\n",
      "<script src=\"/locale/en_US/duckduckgo14.js\" type=\"text/javascript\"></script>\n",
      "<script src=\"/util/u661.js\" type=\"text/javascript\"></script>\n",
      "<script src=\"/d3132.js\" type=\"text/javascript\"></script>\n",
      "<script src=\"/h25.js\" type=\"text/javascript\"></script>\n",
      "<script src=\"/ti5.js\" type=\"text/javascript\"></script>\n",
      "<div class=\"site-wrapper site-wrapper--home js-site-wrapper\">\n",
      "<div class=\"header-wrap--home js-header-wrap\">\n",
      "<div class=\"header--aside js-header-aside\"></div>\n",
      "</div>\n",
      "<div class=\"content-wrap--home\" id=\"\">\n",
      "<div class=\"content--home\" id=\"content_homepage\" style=\"visibility: hidden\">\n",
      "<div class=\"cw--c\">\n",
      "<div class=\"logo-wrap--home\">\n",
      "<a class=\"logo_homepage\" href=\"/about\" id=\"logo_homepage_link\">\n",
      "\t\t\t\tAbout DuckDuckGo\n",
      "\t\t\t\t<span class=\"logo_homepage__tt\">Learn More</span>\n",
      "</a>\n",
      "</div>\n",
      "<div class=\"search-wrap--home\">\n",
      "<form action=\"\" class=\"search search--home js-search-form\" id=\"search_form_homepage\" method=\"POST\" name=\"x\">\n",
      "<input autocomplete=\"off\" class=\"search__input js-search-input\" id=\"search_form_input_homepage\" name=\"q\" tabindex=\"1\" type=\"text\" value=\"\"/>\n",
      "<input class=\"search__button js-search-button\" id=\"search_button_homepage\" tabindex=\"2\" type=\"submit\" value=\"S\">\n",
      "<input class=\"search__clear empty js-search-clear\" id=\"search_form_input_clear\" tabindex=\"3\" type=\"button\" value=\"X\"/>\n",
      "<div class=\"search__hidden js-search-hidden\" id=\"search_elements_hidden\"></div>\n",
      "</input></form>\n",
      "</div>\n",
      "<div data-error-type=\"bot_418\" id=\"error_homepage\" style=\"display:block\">\n",
      "<p>Oops, there was an error.  Please try again.</p>\n",
      "<p>If it persists, please email error@duckduckgo.com</p>\n",
      "</div>\n",
      "</div> <!-- cw -->\n",
      "</div> <!-- content_homepage //-->\n",
      "</div> <!-- content_wrapper_homepage //-->\n",
      "<div class=\"foot-home js-foot-home\" id=\"footer_homepage\"></div>\n",
      "<script type=\"text/javascript\">\n",
      "\t{function seterr(str) {\n",
      "\t\tvar error=document.getElementById('error_homepage');\n",
      "\t\terror.innerHTML=str;\n",
      "\t\t$(error).css('display','block');\n",
      "\t}\n",
      "\tvar err=new RegExp('[\\?\\&]e=([^\\&]+)');var errm=new Array();errm['2']='no search.';errm['3']='search too long.';errm['4']='not UTF\\u002d8 encoding.';errm['6']='too many search terms.';if (err.test(window.location.href)) seterr('Oops, '+(errm[RegExp.$1]?errm[RegExp.$1]:'there was an error.')+'&nbsp;Please try again.');};\n",
      "\t\n",
      "\tif (kurl) {\n",
      "\t  document.getElementById(\"logo_homepage_link\").href += (document.getElementById(\"logo_homepage_link\").href.indexOf('?')==-1 ? '?t=i' : '') + kurl;\n",
      "\t}\n",
      "</script>\n",
      "</div> <!-- site-wrapper -->\n",
      "</body>\n",
      "</html>\n",
      "\n"
     ]
    }
   ],
   "source": [
    "# import necessary library for making http request\n",
    "import requests\n",
    "# import beautiful soup library to parse the response\n",
    "from bs4 import BeautifulSoup\n",
    "\n",
    "# using requests library to make http request to 'https://duckduckgo.com/?q=dogs&atb=v321-1&iax=images&ia=images' to get all the images of dogs\n",
    "response = requests.get('https://duckduckgo.com/?q=dogs&atb=v321-1&iax=images&ia=images')\n",
    "# print the response\n",
    "print(response)\n",
    "\n",
    "# use beautiful soup to parse the response\n",
    "soup = BeautifulSoup(response.text, 'html.parser')\n",
    "\n",
    "# print the soup\n",
    "print(soup)\n"
   ]
  },
  {
   "cell_type": "code",
   "execution_count": 6,
   "metadata": {},
   "outputs": [
    {
     "name": "stdout",
     "output_type": "stream",
     "text": [
      "[]\n"
     ]
    }
   ],
   "source": [
    "# from soup, find all the images\n",
    "images = soup.find_all('img')\n",
    "# print the images\n",
    "print(images)\n"
   ]
  }
 ],
 "metadata": {
  "kernelspec": {
   "display_name": "Python 3.8.12 64-bit ('lewagon')",
   "language": "python",
   "name": "python3"
  },
  "language_info": {
   "codemirror_mode": {
    "name": "ipython",
    "version": 3
   },
   "file_extension": ".py",
   "mimetype": "text/x-python",
   "name": "python",
   "nbconvert_exporter": "python",
   "pygments_lexer": "ipython3",
   "version": "3.8.12"
  },
  "orig_nbformat": 4,
  "vscode": {
   "interpreter": {
    "hash": "3409ef4a337282d13679ec96c667699dc5fb30c5ff7a8068d7e26a8f562e91ff"
   }
  }
 },
 "nbformat": 4,
 "nbformat_minor": 2
}
