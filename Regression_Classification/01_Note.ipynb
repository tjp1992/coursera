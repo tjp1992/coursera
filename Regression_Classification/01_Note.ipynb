{
 "cells": [
  {
   "cell_type": "markdown",
   "metadata": {},
   "source": [
    "# Week 1\n",
    "\n",
    "Following Notebook Summarizes the [Week 1](https://www.coursera.org/learn/machine-learning/home/week/1) of [Machine Learning](https://www.coursera.org/learn/machine-learning?)\n",
    "\n",
    "### Index \n",
    "\n",
    "- [Linear Regression](#linear-regression) \n",
    "- [Cost Function](#cost-function)\n",
    "- [Gradient Descent](#gradient-descent)"
   ]
  },
  {
   "cell_type": "code",
   "execution_count": 1,
   "metadata": {},
   "outputs": [],
   "source": [
    "import pandas as pd\n",
    "import numpy as np\n",
    "import matplotlib.pyplot as plt\n",
    "import seaborn as sns"
   ]
  },
  {
   "cell_type": "markdown",
   "metadata": {},
   "source": [
    "### Linear Regression\n",
    "\n",
    "Function:\n",
    "$$\n",
    "f_{wb}(x) = wx+b\n",
    "$$\n",
    "The following equation resembles *Linear Regression Function*. "
   ]
  },
  {
   "cell_type": "markdown",
   "metadata": {},
   "source": [
    "\n",
    "### Cost Function\n",
    "\n",
    "$$\n",
    "J(wb) = \\frac{1}{2m} \\sum_{i=1} ^{m}(f_{wb}(x^{(i)}) - y^{(i)})^2\n",
    "$$\n",
    "\n",
    "Above function is the mathematical formula for calculating the cost function of a linear regression\n"
   ]
  },
  {
   "cell_type": "markdown",
   "metadata": {},
   "source": [
    "\n",
    "### Gradient Descent\n",
    "\n",
    "$$\n",
    "Gradient Descent Algorithm\\\\\n",
    "w = w- \\alpha \\frac{d}{dw}J(w,b) = \\frac{1}{m}\\sum_{i=1}^{m}(f_{wb}(x^{(i)})-y^{(i)})x^{(i)}\n",
    "\\\\\n",
    "\\\\\n",
    "b = b - \\alpha \\frac{d}{dw} J(w,b) = \\frac{1}{m} \\sum_{i=1}^{m}(f_{wb}(x^{(i)}) - y^{(i)})\n",
    "$$\n",
    "\n",
    "The following mathematical function above is the algorithm implemented to find the *slope* and the *intercept* of *Linear Regression* to *converge* on the *cost function*\n",
    "$\\alpha \\frac{d}{dw}$\n",
    "The following equation is part of the Gradient Descent which is equivalent of $\\alpha$(*Learning Rate*) Multiplied with the *Derivative*(*Tangent* of cost function)\n"
   ]
  },
  {
   "cell_type": "markdown",
   "metadata": {},
   "source": []
  }
 ],
 "metadata": {
  "kernelspec": {
   "display_name": "Python 3.8.12 64-bit ('lewagon')",
   "language": "python",
   "name": "python3"
  },
  "language_info": {
   "codemirror_mode": {
    "name": "ipython",
    "version": 3
   },
   "file_extension": ".py",
   "mimetype": "text/x-python",
   "name": "python",
   "nbconvert_exporter": "python",
   "pygments_lexer": "ipython3",
   "version": "3.8.12"
  },
  "orig_nbformat": 4,
  "vscode": {
   "interpreter": {
    "hash": "3409ef4a337282d13679ec96c667699dc5fb30c5ff7a8068d7e26a8f562e91ff"
   }
  }
 },
 "nbformat": 4,
 "nbformat_minor": 2
}
