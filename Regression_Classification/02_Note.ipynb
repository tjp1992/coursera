{
 "cells": [
  {
   "cell_type": "markdown",
   "metadata": {},
   "source": [
    "# Week 2\n",
    "\n",
    "Following Notebook Summarizes the [Week 2](https://www.coursera.org/learn/machine-learning/home/week/2) of [Machine Learning](https://www.coursera.org/learn/machine-learning?)\n",
    "\n",
    "### Index \n",
    "- []()\n",
    "- []()"
   ]
  },
  {
   "cell_type": "code",
   "execution_count": 1,
   "metadata": {},
   "outputs": [],
   "source": [
    "import pandas as pd\n",
    "import numpy as np\n",
    "import matplotlib.pyplot as plt\n",
    "import seaborn as sns"
   ]
  },
  {
   "cell_type": "markdown",
   "metadata": {},
   "source": [
    "### Vectorization\n",
    "\n",
    "In order to speed up the process of"
   ]
  },
  {
   "cell_type": "markdown",
   "metadata": {},
   "source": [
    "### Multiple Linear Regression\n",
    "\n",
    "$$\n",
    "f_{\\vec{w}b}(\\vec{x}) = \\vec{w} * \\vec{x} + b\n",
    "$$\n",
    "\n",
    "Following Equation above is the mathematical equation for calculating *Multiple Linear Regression*"
   ]
  },
  {
   "cell_type": "markdown",
   "metadata": {},
   "source": [
    "### Gradient Descent\n",
    "\n",
    "$$\n",
    "w_{n} = w_{n} - \\alpha \\frac{1}{m} \\sum_{i=1}^{m}(f_{\\vec{w}b}(\\vec{x}^{(i)}) - y^{(i)}) x_{n}^{(i)}\n",
    "\\\\\n",
    "b = b - \\alpha \\frac{1}{m} \\sum_{i=1}^{m} (f_{\\vec{w}b}(\\vec{x}^{(i)}) - y^{(i)})\n",
    "$$"
   ]
  },
  {
   "cell_type": "markdown",
   "metadata": {},
   "source": [
    "### Feature Scaling\n",
    "\n",
    "Without proper scaling of the features, gradient descent will have harder time converging due to the shape of the cost function being elongated due to features having different range of values. \n"
   ]
  }
 ],
 "metadata": {
  "kernelspec": {
   "display_name": "Python 3.8.12 64-bit ('lewagon')",
   "language": "python",
   "name": "python3"
  },
  "language_info": {
   "codemirror_mode": {
    "name": "ipython",
    "version": 3
   },
   "file_extension": ".py",
   "mimetype": "text/x-python",
   "name": "python",
   "nbconvert_exporter": "python",
   "pygments_lexer": "ipython3",
   "version": "3.8.12"
  },
  "orig_nbformat": 4,
  "vscode": {
   "interpreter": {
    "hash": "3409ef4a337282d13679ec96c667699dc5fb30c5ff7a8068d7e26a8f562e91ff"
   }
  }
 },
 "nbformat": 4,
 "nbformat_minor": 2
}
